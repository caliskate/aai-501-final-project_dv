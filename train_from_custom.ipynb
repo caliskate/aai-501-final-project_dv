{
 "cells": [
  {
   "cell_type": "code",
   "execution_count": 1,
   "metadata": {},
   "outputs": [],
   "source": [
    "# change notes 11/22/24:\n",
    "\n",
    "# moved data.yaml file to dataset folder per YOLO documentation\n",
    "# dataset needs to be in same folder as notebook\n",
    "# updated yaml.data to 10 classes, due to dataset error for only subset to 7 or 8\n",
    "# added label dir splitting process\n",
    "# added markdowns\n",
    "# prevented raw_images and raw_labels from being cleared\n",
    "# trained model from labels"
   ]
  },
  {
   "cell_type": "markdown",
   "metadata": {},
   "source": [
    "WIP: \n",
    "<br> fix yaml location pull (yaml needs to be in same folder as images)\n",
    "<br>any further fine tuning on hyperparams\n",
    "<br>add validation plots,\n",
    "<br>initial and predicted image subplots *from custom dataset only*\n",
    "<br>live video feed,\n",
    "<br>dashboard"
   ]
  },
  {
   "cell_type": "markdown",
   "metadata": {},
   "source": [
    "# Import Libraries"
   ]
  },
  {
   "cell_type": "code",
   "execution_count": 5,
   "metadata": {},
   "outputs": [],
   "source": [
    "# import modules\n",
    "import os # file \n",
    "import shutil\n",
    "import cv2 # opencv for images\n",
    "import random\n",
    "import numpy as np\n",
    "import pandas as pd\n",
    "import torch\n",
    "from ultralytics import YOLO #for obeject detection\n",
    "import albumentations as A # for image augmentation\n",
    "from albumentations.pytorch import ToTensorV2 # for image formating\n",
    "# from tqdm import tqdm  # to show processing progress\n",
    "# Suppress all warnings\n",
    "import warnings\n",
    "warnings.filterwarnings(\"ignore\")"
   ]
  },
  {
   "cell_type": "markdown",
   "metadata": {},
   "source": [
    "# Clear the \"train\", \"test\", \"valid\" folders from base dir"
   ]
  },
  {
   "cell_type": "code",
   "execution_count": 6,
   "metadata": {},
   "outputs": [
    {
     "name": "stdout",
     "output_type": "stream",
     "text": [
      "Deleted existing directory: ./datasets/images/train\n",
      "Recreated directory: ./datasets/images/train\n",
      "Deleted existing directory: ./datasets/images/valid\n",
      "Recreated directory: ./datasets/images/valid\n",
      "Deleted existing directory: ./datasets/images/test\n",
      "Recreated directory: ./datasets/images/test\n",
      "Deleted existing directory: ./datasets/labels/train\n",
      "Recreated directory: ./datasets/labels/train\n",
      "Deleted existing directory: ./datasets/labels/valid\n",
      "Recreated directory: ./datasets/labels/valid\n",
      "Deleted existing directory: ./datasets/labels/test\n",
      "Recreated directory: ./datasets/labels/test\n",
      "Directories reset and ready for use.\n"
     ]
    }
   ],
   "source": [
    "# create direcories to organize images and cleanup for a new to avoid duplicate images \n",
    "def reset_directories(root_dir, directories):\n",
    "    \"\"\"\n",
    "    Check if the specified directories exist. If they do, delete them and recreate them.\n",
    "    Ensures the directories are clean before use.\n",
    "\n",
    "    Parameters:\n",
    "        directories (list): List of directories to reset.\n",
    "    \"\"\"\n",
    "    for path in directories:\n",
    "        dir_path = root_dir+path\n",
    "        if os.path.exists(dir_path):\n",
    "            # delete the directory and all its contents\n",
    "            try:\n",
    "                shutil.rmtree(dir_path)\n",
    "                print(f\"Deleted existing directory: {dir_path}\")\n",
    "            except Exception as e:\n",
    "                print(f\"Failed to delete {dir_path}. Reason: {e}\")\n",
    "        \n",
    "        # Recreate the directory\n",
    "        try:\n",
    "            os.makedirs(dir_path, exist_ok=True)\n",
    "            print(f\"Recreated directory: {dir_path}\")\n",
    "        except Exception as e:\n",
    "            print(f\"Failed to create directory {dir_path}. Reason: {e}\")\n",
    "# base dir\n",
    "dataset_base_dir = \"./datasets\"\n",
    "\n",
    "# Define directories to reset\n",
    "directories_to_reset = [\n",
    "    \"/images/train\",\n",
    "    \"/images/valid\",\n",
    "    \"/images/test\",\n",
    "    \"/labels/train\",\n",
    "    \"/labels/valid\",\n",
    "    \"/labels/test\"\n",
    "]\n",
    "\n",
    "# Reset directories\n",
    "reset_directories(dataset_base_dir, directories_to_reset)\n",
    "\n",
    "print(\"Directories reset and ready for use.\")"
   ]
  },
  {
   "cell_type": "markdown",
   "metadata": {},
   "source": [
    "# Split files from \"raw_image\" and \"raw_label\" folders\n",
    "#### (Note: \"./datasets/raw_images\" and \"./datasets/raw_labels\" folders must already contain all images and all labels)"
   ]
  },
  {
   "cell_type": "code",
   "execution_count": 7,
   "metadata": {},
   "outputs": [],
   "source": [
    "# Set random seed for reproducibility\n",
    "random.seed(42)\n",
    "\n",
    "# source directory containing all raw images and labels\n",
    "source_image_dir = \"./datasets/raw_images\"\n",
    "source_label_dir = \"./datasets/raw_labels\"\n",
    "\n",
    "# base directory for the organized dataset\n",
    "base_dir = dataset_base_dir\n",
    "\n",
    "image_dirs = {\n",
    "    \"train\": os.path.join(base_dir, \"images/train\"),\n",
    "    \"valid\": os.path.join(base_dir, \"images/valid\"),\n",
    "    \"test\": os.path.join(base_dir, \"images/test\")\n",
    "}\n",
    "label_dirs = {\n",
    "    \"train\": os.path.join(base_dir, \"labels/train\"),\n",
    "    \"valid\": os.path.join(base_dir, \"labels/valid\"),\n",
    "    \"test\": os.path.join(base_dir, \"labels/test\")\n",
    "}\n",
    "\n",
    "# Ensure directories exist\n",
    "for dir_path in list(image_dirs.values()) + list(label_dirs.values()):\n",
    "    os.makedirs(dir_path, exist_ok=True)\n",
    "\n",
    "# Extract the image files\n",
    "image_files = [f for f in os.listdir(source_image_dir) if f.endswith(('.jpg', '.jpeg', '.png'))]\n",
    "random.shuffle(image_files)\n",
    "\n",
    "# Create DataFrame with file paths and dataset split assignments\n",
    "df = pd.DataFrame({\"filename\": image_files})\n",
    "\n",
    "# Dynamically split dataset into train, valid, and test\n",
    "train_size = int(0.7 * len(df))  # 70% for training\n",
    "valid_size = int(0.2 * len(df))  # 20% for validation\n",
    "test_size = len(df) - train_size - valid_size  # remaining 10% for testing\n",
    "\n",
    "train_labels = [\"train\"] * train_size\n",
    "valid_labels = [\"valid\"] * valid_size\n",
    "test_labels = [\"test\"] * test_size\n",
    "\n",
    "# Combine and assign to DataFrame\n",
    "df[\"split\"] = train_labels + valid_labels + test_labels\n",
    "\n",
    "# Copy files to respective folders\n",
    "for _, row in df.iterrows():\n",
    "    img_file = row[\"filename\"]\n",
    "    split = row[\"split\"]\n",
    "    \n",
    "    # Source paths\n",
    "    img_src = os.path.join(source_image_dir, img_file)\n",
    "    label_src = os.path.join(source_label_dir, os.path.splitext(img_file)[0] + \".txt\")\n",
    "    \n",
    "    # Destination paths\n",
    "    img_dest = os.path.join(image_dirs[split], img_file)\n",
    "    label_dest = os.path.join(label_dirs[split], os.path.splitext(img_file)[0] + \".txt\")\n",
    "    \n",
    "    # Copy image file\n",
    "    if os.path.exists(img_src):\n",
    "        shutil.copy(img_src, img_dest)\n",
    "    \n",
    "    # Copy corresponding label file\n",
    "    if os.path.exists(label_src):\n",
    "        shutil.copy(label_src, label_dest)"
   ]
  },
  {
   "cell_type": "markdown",
   "metadata": {},
   "source": [
    "# Training"
   ]
  },
  {
   "cell_type": "code",
   "execution_count": 8,
   "metadata": {},
   "outputs": [
    {
     "name": "stdout",
     "output_type": "stream",
     "text": [
      "Ultralytics 8.3.32  Python-3.12.4 torch-2.5.1+cpu CPU (Intel Core(TM) i9-14900KF)\n",
      "\u001b[34m\u001b[1mengine\\trainer: \u001b[0mtask=detect, mode=train, model=yolov8n.pt, data=data.yaml, epochs=10, time=None, patience=100, batch=16, imgsz=640, save=True, save_period=-1, cache=False, device=None, workers=8, project=None, name=train56, exist_ok=False, pretrained=True, optimizer=auto, verbose=True, seed=0, deterministic=True, single_cls=False, rect=False, cos_lr=False, close_mosaic=10, resume=False, amp=True, fraction=1.0, profile=False, freeze=None, multi_scale=False, overlap_mask=True, mask_ratio=4, dropout=0.0, val=True, split=val, save_json=False, save_hybrid=False, conf=None, iou=0.7, max_det=300, half=False, dnn=False, plots=True, source=None, vid_stride=1, stream_buffer=False, visualize=False, augment=False, agnostic_nms=False, classes=None, retina_masks=False, embed=None, show=False, save_frames=False, save_txt=False, save_conf=False, save_crop=False, show_labels=True, show_conf=True, show_boxes=True, line_width=None, format=torchscript, keras=False, optimize=False, int8=False, dynamic=False, simplify=True, opset=None, workspace=4, nms=False, lr0=0.01, lrf=0.01, momentum=0.937, weight_decay=0.0005, warmup_epochs=3.0, warmup_momentum=0.8, warmup_bias_lr=0.1, box=7.5, cls=0.5, dfl=1.5, pose=12.0, kobj=1.0, label_smoothing=0.0, nbs=64, hsv_h=0.015, hsv_s=0.7, hsv_v=0.4, degrees=0.0, translate=0.1, scale=0.5, shear=0.0, perspective=0.0, flipud=0.0, fliplr=0.5, bgr=0.0, mosaic=1.0, mixup=0.0, copy_paste=0.0, copy_paste_mode=flip, auto_augment=randaugment, erasing=0.4, crop_fraction=1.0, cfg=None, tracker=botsort.yaml, save_dir=runs\\detect\\train56\n",
      "Overriding model.yaml nc=80 with nc=10\n",
      "\n",
      "                   from  n    params  module                                       arguments                     \n",
      "  0                  -1  1       464  ultralytics.nn.modules.conv.Conv             [3, 16, 3, 2]                 \n",
      "  1                  -1  1      4672  ultralytics.nn.modules.conv.Conv             [16, 32, 3, 2]                \n",
      "  2                  -1  1      7360  ultralytics.nn.modules.block.C2f             [32, 32, 1, True]             \n",
      "  3                  -1  1     18560  ultralytics.nn.modules.conv.Conv             [32, 64, 3, 2]                \n",
      "  4                  -1  2     49664  ultralytics.nn.modules.block.C2f             [64, 64, 2, True]             \n",
      "  5                  -1  1     73984  ultralytics.nn.modules.conv.Conv             [64, 128, 3, 2]               \n",
      "  6                  -1  2    197632  ultralytics.nn.modules.block.C2f             [128, 128, 2, True]           \n",
      "  7                  -1  1    295424  ultralytics.nn.modules.conv.Conv             [128, 256, 3, 2]              \n",
      "  8                  -1  1    460288  ultralytics.nn.modules.block.C2f             [256, 256, 1, True]           \n",
      "  9                  -1  1    164608  ultralytics.nn.modules.block.SPPF            [256, 256, 5]                 \n",
      " 10                  -1  1         0  torch.nn.modules.upsampling.Upsample         [None, 2, 'nearest']          \n",
      " 11             [-1, 6]  1         0  ultralytics.nn.modules.conv.Concat           [1]                           \n",
      " 12                  -1  1    148224  ultralytics.nn.modules.block.C2f             [384, 128, 1]                 \n",
      " 13                  -1  1         0  torch.nn.modules.upsampling.Upsample         [None, 2, 'nearest']          \n",
      " 14             [-1, 4]  1         0  ultralytics.nn.modules.conv.Concat           [1]                           \n",
      " 15                  -1  1     37248  ultralytics.nn.modules.block.C2f             [192, 64, 1]                  \n",
      " 16                  -1  1     36992  ultralytics.nn.modules.conv.Conv             [64, 64, 3, 2]                \n",
      " 17            [-1, 12]  1         0  ultralytics.nn.modules.conv.Concat           [1]                           \n",
      " 18                  -1  1    123648  ultralytics.nn.modules.block.C2f             [192, 128, 1]                 \n",
      " 19                  -1  1    147712  ultralytics.nn.modules.conv.Conv             [128, 128, 3, 2]              \n",
      " 20             [-1, 9]  1         0  ultralytics.nn.modules.conv.Concat           [1]                           \n",
      " 21                  -1  1    493056  ultralytics.nn.modules.block.C2f             [384, 256, 1]                 \n",
      " 22        [15, 18, 21]  1    753262  ultralytics.nn.modules.head.Detect           [10, [64, 128, 256]]          \n",
      "Model summary: 225 layers, 3,012,798 parameters, 3,012,782 gradients, 8.2 GFLOPs\n",
      "\n",
      "Transferred 319/355 items from pretrained weights\n",
      "Freezing layer 'model.22.dfl.conv.weight'\n"
     ]
    },
    {
     "name": "stderr",
     "output_type": "stream",
     "text": [
      "\u001b[34m\u001b[1mtrain: \u001b[0mScanning C:\\Users\\DARiN\\Documents\\Python-JL\\Github\\aai-501-final-project_dv\\datasets\\labels\\test.cache... 287 im\u001b[0m"
     ]
    },
    {
     "name": "stdout",
     "output_type": "stream",
     "text": [
      "\u001b[34m\u001b[1mtrain: \u001b[0mWARNING  C:\\Users\\DARiN\\Documents\\Python-JL\\Github\\aai-501-final-project_dv\\datasets\\images\\test\\002654_jpg.rf.ff1deb021121bfef83e8a9152093596e.jpg: ignoring corrupt image/label: Label class 9 exceeds dataset class count 8. Possible class labels are 0-7\n",
      "\u001b[34m\u001b[1mtrain: \u001b[0mWARNING  C:\\Users\\DARiN\\Documents\\Python-JL\\Github\\aai-501-final-project_dv\\datasets\\images\\test\\003184_jpg.rf.ddcabf097616516ad576f90948a0ac0f.jpg: ignoring corrupt image/label: Label class 9 exceeds dataset class count 8. Possible class labels are 0-7\n",
      "\u001b[34m\u001b[1mtrain: \u001b[0mWARNING  C:\\Users\\DARiN\\Documents\\Python-JL\\Github\\aai-501-final-project_dv\\datasets\\images\\test\\005577_jpg.rf.28a70bd7ad7c4a004b19903de1eafc9e.jpg: ignoring corrupt image/label: Label class 9 exceeds dataset class count 8. Possible class labels are 0-7\n",
      "\u001b[34m\u001b[1mtrain: \u001b[0mWARNING  C:\\Users\\DARiN\\Documents\\Python-JL\\Github\\aai-501-final-project_dv\\datasets\\images\\test\\1288788-une-employee-aide-des-voyageurs-en-provenance-de-chine-le-26-janvier-2020-a-l-aeroport-de-roissy_jpg.rf.93dd6595c9b6f435a03af2e09588744c.jpg: ignoring corrupt image/label: Label class 9 exceeds dataset class count 8. Possible class labels are 0-7\n",
      "\u001b[34m\u001b[1mtrain: \u001b[0mWARNING  C:\\Users\\DARiN\\Documents\\Python-JL\\Github\\aai-501-final-project_dv\\datasets\\images\\test\\165_jpg.rf.8b803b2c10eb3a316412e867ee14eaf5.jpg: ignoring corrupt image/label: Label class 9 exceeds dataset class count 8. Possible class labels are 0-7\n",
      "\u001b[34m\u001b[1mtrain: \u001b[0mWARNING  C:\\Users\\DARiN\\Documents\\Python-JL\\Github\\aai-501-final-project_dv\\datasets\\images\\test\\2008_008526_jpg.rf.a1eb584550fe5b07c45425a258c66052.jpg: ignoring corrupt image/label: Label class 9 exceeds dataset class count 8. Possible class labels are 0-7\n",
      "\u001b[34m\u001b[1mtrain: \u001b[0mWARNING  C:\\Users\\DARiN\\Documents\\Python-JL\\Github\\aai-501-final-project_dv\\datasets\\images\\test\\2008_008652_jpg.rf.6b38069d24cf22969d271effcec92c03.jpg: ignoring corrupt image/label: Label class 9 exceeds dataset class count 8. Possible class labels are 0-7\n",
      "\u001b[34m\u001b[1mtrain: \u001b[0mWARNING  C:\\Users\\DARiN\\Documents\\Python-JL\\Github\\aai-501-final-project_dv\\datasets\\images\\test\\2008_008652_jpg.rf.d00034b7c4abe7242379f832445178bd.jpg: ignoring corrupt image/label: Label class 9 exceeds dataset class count 8. Possible class labels are 0-7\n",
      "\u001b[34m\u001b[1mtrain: \u001b[0mWARNING  C:\\Users\\DARiN\\Documents\\Python-JL\\Github\\aai-501-final-project_dv\\datasets\\images\\test\\2009_000280_jpg.rf.14ea05d770d7a1cdd2ee28b6d7901c86.jpg: ignoring corrupt image/label: Label class 9 exceeds dataset class count 8. Possible class labels are 0-7\n",
      "\u001b[34m\u001b[1mtrain: \u001b[0mWARNING  C:\\Users\\DARiN\\Documents\\Python-JL\\Github\\aai-501-final-project_dv\\datasets\\images\\test\\2009_000379_jpg.rf.8a537e55ba2654835278f344da61abfe.jpg: ignoring corrupt image/label: Label class 9 exceeds dataset class count 8. Possible class labels are 0-7\n",
      "\u001b[34m\u001b[1mtrain: \u001b[0mWARNING  C:\\Users\\DARiN\\Documents\\Python-JL\\Github\\aai-501-final-project_dv\\datasets\\images\\test\\2009_002711_jpg.rf.9014fa0e9a77a787d9a8e3d03b984081.jpg: ignoring corrupt image/label: Label class 9 exceeds dataset class count 8. Possible class labels are 0-7\n",
      "\u001b[34m\u001b[1mtrain: \u001b[0mWARNING  C:\\Users\\DARiN\\Documents\\Python-JL\\Github\\aai-501-final-project_dv\\datasets\\images\\test\\2009_002711_jpg.rf.f0563c83394a79e936b0ecec2658ec97.jpg: ignoring corrupt image/label: Label class 9 exceeds dataset class count 8. Possible class labels are 0-7\n",
      "\u001b[34m\u001b[1mtrain: \u001b[0mWARNING  C:\\Users\\DARiN\\Documents\\Python-JL\\Github\\aai-501-final-project_dv\\datasets\\images\\test\\494_jpg.rf.9528435ded55bbe6bae4d2f3d478ca71.jpg: ignoring corrupt image/label: Label class 9 exceeds dataset class count 8. Possible class labels are 0-7\n",
      "\u001b[34m\u001b[1mtrain: \u001b[0mWARNING  C:\\Users\\DARiN\\Documents\\Python-JL\\Github\\aai-501-final-project_dv\\datasets\\images\\test\\707_jpg.rf.7f919876d3848975af00bd13370ba92f.jpg: ignoring corrupt image/label: Label class 9 exceeds dataset class count 8. Possible class labels are 0-7\n",
      "\u001b[34m\u001b[1mtrain: \u001b[0mWARNING  C:\\Users\\DARiN\\Documents\\Python-JL\\Github\\aai-501-final-project_dv\\datasets\\images\\test\\931_jpg.rf.fdd51314535382e1b440a98b49f060fd.jpg: ignoring corrupt image/label: Label class 9 exceeds dataset class count 8. Possible class labels are 0-7\n",
      "\u001b[34m\u001b[1mtrain: \u001b[0mWARNING  C:\\Users\\DARiN\\Documents\\Python-JL\\Github\\aai-501-final-project_dv\\datasets\\images\\test\\IMG_3100_mp4-0_jpg.rf.8e364de5178639165a16329b5c1b0f82.jpg: ignoring corrupt image/label: Label class 9 exceeds dataset class count 8. Possible class labels are 0-7\n",
      "\u001b[34m\u001b[1mtrain: \u001b[0mWARNING  C:\\Users\\DARiN\\Documents\\Python-JL\\Github\\aai-501-final-project_dv\\datasets\\images\\test\\IMG_3100_mp4-24_jpg.rf.b29ff2e9363136c15ab19cac4cda72b5.jpg: ignoring corrupt image/label: Label class 9 exceeds dataset class count 8. Possible class labels are 0-7\n",
      "\u001b[34m\u001b[1mtrain: \u001b[0mWARNING  C:\\Users\\DARiN\\Documents\\Python-JL\\Github\\aai-501-final-project_dv\\datasets\\images\\test\\IMG_5024_mp4-2_jpg.rf.d79771c23f9e7097b751911545c4953f.jpg: ignoring corrupt image/label: Label class 9 exceeds dataset class count 8. Possible class labels are 0-7\n",
      "\u001b[34m\u001b[1mtrain: \u001b[0mWARNING  C:\\Users\\DARiN\\Documents\\Python-JL\\Github\\aai-501-final-project_dv\\datasets\\images\\test\\IMG_5848_jpg.rf.aa5200d20d0077ac8de0eb01adda820f.jpg: ignoring corrupt image/label: Label class 9 exceeds dataset class count 8. Possible class labels are 0-7\n",
      "\u001b[34m\u001b[1mtrain: \u001b[0mWARNING  C:\\Users\\DARiN\\Documents\\Python-JL\\Github\\aai-501-final-project_dv\\datasets\\images\\test\\Industrial-3-Part-Skymaster-insitu_jpg.rf.9228fbc3ed8dbced49fb6e003a31ac91.jpg: ignoring corrupt image/label: Label class 9 exceeds dataset class count 8. Possible class labels are 0-7\n",
      "\u001b[34m\u001b[1mtrain: \u001b[0mWARNING  C:\\Users\\DARiN\\Documents\\Python-JL\\Github\\aai-501-final-project_dv\\datasets\\images\\test\\additional_tests-Nomask-wearing_mp4-35_jpg.rf.133f003b3b52925570bda04ec243b96d.jpg: ignoring corrupt image/label: Label class 9 exceeds dataset class count 8. Possible class labels are 0-7\n",
      "\u001b[34m\u001b[1mtrain: \u001b[0mWARNING  C:\\Users\\DARiN\\Documents\\Python-JL\\Github\\aai-501-final-project_dv\\datasets\\images\\test\\autox2_mp4-74_jpg.rf.e5934c988b04332afcc78cbf926e9dd3.jpg: ignoring corrupt image/label: Label class 9 exceeds dataset class count 8. Possible class labels are 0-7\n",
      "\u001b[34m\u001b[1mtrain: \u001b[0mWARNING  C:\\Users\\DARiN\\Documents\\Python-JL\\Github\\aai-501-final-project_dv\\datasets\\images\\test\\autox4_mp4-72_jpg.rf.5e9c1836f027bf40eb8898e68f2efdeb.jpg: ignoring corrupt image/label: Label class 9 exceeds dataset class count 8. Possible class labels are 0-7\n",
      "\u001b[34m\u001b[1mtrain: \u001b[0mWARNING  C:\\Users\\DARiN\\Documents\\Python-JL\\Github\\aai-501-final-project_dv\\datasets\\images\\test\\autox6_mp4-80_jpg.rf.e170abed2946f1e3909ce9747becd353.jpg: ignoring corrupt image/label: Label class 9 exceeds dataset class count 8. Possible class labels are 0-7\n",
      "\u001b[34m\u001b[1mtrain: \u001b[0mWARNING  C:\\Users\\DARiN\\Documents\\Python-JL\\Github\\aai-501-final-project_dv\\datasets\\images\\test\\bookstore_38_02_altavista_jpg.rf.79035ad5581fdab7e754f904debfb905.jpg: ignoring corrupt image/label: Label class 9 exceeds dataset class count 8. Possible class labels are 0-7\n",
      "\u001b[34m\u001b[1mtrain: \u001b[0mWARNING  C:\\Users\\DARiN\\Documents\\Python-JL\\Github\\aai-501-final-project_dv\\datasets\\images\\test\\class2_151_jpg.rf.1bbd03c09d03633a0fd61f32543da73e.jpg: ignoring corrupt image/label: Label class 9 exceeds dataset class count 8. Possible class labels are 0-7\n",
      "\u001b[34m\u001b[1mtrain: \u001b[0mWARNING  C:\\Users\\DARiN\\Documents\\Python-JL\\Github\\aai-501-final-project_dv\\datasets\\images\\test\\construction-1062-_jpg.rf.30c06a00f2aef933ecf9aaa4b95f1320.jpg: ignoring corrupt image/label: Label class 9 exceeds dataset class count 8. Possible class labels are 0-7\n",
      "\u001b[34m\u001b[1mtrain: \u001b[0mWARNING  C:\\Users\\DARiN\\Documents\\Python-JL\\Github\\aai-501-final-project_dv\\datasets\\images\\test\\construction-118-_jpg.rf.97ebf941e2db53ff604959f7fb3adbda.jpg: ignoring corrupt image/label: Label class 9 exceeds dataset class count 8. Possible class labels are 0-7\n",
      "\u001b[34m\u001b[1mtrain: \u001b[0mWARNING  C:\\Users\\DARiN\\Documents\\Python-JL\\Github\\aai-501-final-project_dv\\datasets\\images\\test\\construction-142-_jpg.rf.c3ba99b04533582e3fc60dbeae85ab17.jpg: ignoring corrupt image/label: Label class 9 exceeds dataset class count 8. Possible class labels are 0-7\n",
      "\u001b[34m\u001b[1mtrain: \u001b[0mWARNING  C:\\Users\\DARiN\\Documents\\Python-JL\\Github\\aai-501-final-project_dv\\datasets\\images\\test\\construction-2-_mp4-113_jpg.rf.657cf7274654eddca1d6c542cdee3dd0.jpg: ignoring corrupt image/label: Label class 9 exceeds dataset class count 8. Possible class labels are 0-7\n",
      "\u001b[34m\u001b[1mtrain: \u001b[0mWARNING  C:\\Users\\DARiN\\Documents\\Python-JL\\Github\\aai-501-final-project_dv\\datasets\\images\\test\\construction-246-_jpg.rf.bded1f9cc77f185a6281e371634a4759.jpg: ignoring corrupt image/label: Label class 9 exceeds dataset class count 8. Possible class labels are 0-7\n",
      "\u001b[34m\u001b[1mtrain: \u001b[0mWARNING  C:\\Users\\DARiN\\Documents\\Python-JL\\Github\\aai-501-final-project_dv\\datasets\\images\\test\\construction-3-_mp4-166_jpg.rf.3785bac9c8d14230444b9d7b9e669987.jpg: ignoring corrupt image/label: Label class 9 exceeds dataset class count 8. Possible class labels are 0-7\n",
      "\u001b[34m\u001b[1mtrain: \u001b[0mWARNING  C:\\Users\\DARiN\\Documents\\Python-JL\\Github\\aai-501-final-project_dv\\datasets\\images\\test\\construction-3-_mp4-211_jpg.rf.7a50e0bbc5b5dcf920cbd67eeaa0c576.jpg: ignoring corrupt image/label: Label class 9 exceeds dataset class count 8. Possible class labels are 0-7\n",
      "\u001b[34m\u001b[1mtrain: \u001b[0mWARNING  C:\\Users\\DARiN\\Documents\\Python-JL\\Github\\aai-501-final-project_dv\\datasets\\images\\test\\construction-4-_mp4-38_jpg.rf.731a7f476aa82dc019b3d59f977c11cb.jpg: ignoring corrupt image/label: Label class 9 exceeds dataset class count 8. Possible class labels are 0-7\n",
      "\u001b[34m\u001b[1mtrain: \u001b[0mWARNING  C:\\Users\\DARiN\\Documents\\Python-JL\\Github\\aai-501-final-project_dv\\datasets\\images\\test\\construction-4-_mp4-89_jpg.rf.b38839d6aa5394c4b939dcb4d54953ab.jpg: ignoring corrupt image/label: Label class 9 exceeds dataset class count 8. Possible class labels are 0-7\n",
      "\u001b[34m\u001b[1mtrain: \u001b[0mWARNING  C:\\Users\\DARiN\\Documents\\Python-JL\\Github\\aai-501-final-project_dv\\datasets\\images\\test\\construction-5-_mp4-135_jpg.rf.ee1df1fe116d2b73503f786f2893aadd.jpg: ignoring corrupt image/label: Label class 9 exceeds dataset class count 8. Possible class labels are 0-7\n",
      "\u001b[34m\u001b[1mtrain: \u001b[0mWARNING  C:\\Users\\DARiN\\Documents\\Python-JL\\Github\\aai-501-final-project_dv\\datasets\\images\\test\\construction-5-_mp4-135_jpg.rf.f7409d777b9b29b4565546cde4ffa927.jpg: ignoring corrupt image/label: Label class 9 exceeds dataset class count 8. Possible class labels are 0-7\n",
      "\u001b[34m\u001b[1mtrain: \u001b[0mWARNING  C:\\Users\\DARiN\\Documents\\Python-JL\\Github\\aai-501-final-project_dv\\datasets\\images\\test\\construction-5-_mp4-161_jpg.rf.eeb48446f8aa7bf427983cc229fc22c0.jpg: ignoring corrupt image/label: Label class 9 exceeds dataset class count 8. Possible class labels are 0-7\n",
      "\u001b[34m\u001b[1mtrain: \u001b[0mWARNING  C:\\Users\\DARiN\\Documents\\Python-JL\\Github\\aai-501-final-project_dv\\datasets\\images\\test\\construction-543-_jpg.rf.e521748f6ab8083fb9705f92e1f4bf02.jpg: ignoring corrupt image/label: Label class 9 exceeds dataset class count 8. Possible class labels are 0-7\n",
      "\u001b[34m\u001b[1mtrain: \u001b[0mWARNING  C:\\Users\\DARiN\\Documents\\Python-JL\\Github\\aai-501-final-project_dv\\datasets\\images\\test\\construction-560-_jpg.rf.114f9f0f47688c4843cc7cd8a35c95c8.jpg: ignoring corrupt image/label: Label class 9 exceeds dataset class count 8. Possible class labels are 0-7\n",
      "\u001b[34m\u001b[1mtrain: \u001b[0mWARNING  C:\\Users\\DARiN\\Documents\\Python-JL\\Github\\aai-501-final-project_dv\\datasets\\images\\test\\construction-684-_jpg.rf.7963a972eb4b888dcd876e0b10c824e6.jpg: ignoring corrupt image/label: Label class 9 exceeds dataset class count 8. Possible class labels are 0-7\n",
      "\u001b[34m\u001b[1mtrain: \u001b[0mWARNING  C:\\Users\\DARiN\\Documents\\Python-JL\\Github\\aai-501-final-project_dv\\datasets\\images\\test\\construction-684-_jpg.rf.f7633094313d336503445e977c4b4813.jpg: ignoring corrupt image/label: Label class 9 exceeds dataset class count 8. Possible class labels are 0-7\n",
      "\u001b[34m\u001b[1mtrain: \u001b[0mWARNING  C:\\Users\\DARiN\\Documents\\Python-JL\\Github\\aai-501-final-project_dv\\datasets\\images\\test\\construction-708-_jpg.rf.4e32fc46ba7c1ce57833437ef93e6f77.jpg: ignoring corrupt image/label: Label class 9 exceeds dataset class count 8. Possible class labels are 0-7\n",
      "\u001b[34m\u001b[1mtrain: \u001b[0mWARNING  C:\\Users\\DARiN\\Documents\\Python-JL\\Github\\aai-501-final-project_dv\\datasets\\images\\test\\construction-860-_jpg.rf.8d0a63a9c38cadbae1e5c9ff94f2aa49.jpg: ignoring corrupt image/label: Label class 9 exceeds dataset class count 8. Possible class labels are 0-7\n",
      "\u001b[34m\u001b[1mtrain: \u001b[0mWARNING  C:\\Users\\DARiN\\Documents\\Python-JL\\Github\\aai-501-final-project_dv\\datasets\\images\\test\\construction-860-_jpg.rf.94811593888a6691da4f58ff3b7c7175.jpg: ignoring corrupt image/label: Label class 9 exceeds dataset class count 8. Possible class labels are 0-7\n",
      "\u001b[34m\u001b[1mtrain: \u001b[0mWARNING  C:\\Users\\DARiN\\Documents\\Python-JL\\Github\\aai-501-final-project_dv\\datasets\\images\\test\\image_13_jpg.rf.d2935ec7b305c381c6b298ca98f24a1a.jpg: ignoring corrupt image/label: Label class 9 exceeds dataset class count 8. Possible class labels are 0-7\n",
      "\u001b[34m\u001b[1mtrain: \u001b[0mWARNING  C:\\Users\\DARiN\\Documents\\Python-JL\\Github\\aai-501-final-project_dv\\datasets\\images\\test\\image_314_jpg.rf.24f21706a57450ecfe9b6a99428c5371.jpg: ignoring corrupt image/label: Label class 9 exceeds dataset class count 8. Possible class labels are 0-7\n",
      "\u001b[34m\u001b[1mtrain: \u001b[0mWARNING  C:\\Users\\DARiN\\Documents\\Python-JL\\Github\\aai-501-final-project_dv\\datasets\\images\\test\\image_321_jpg.rf.7637c30937425c6bdbc08729f2061840.jpg: ignoring corrupt image/label: Label class 9 exceeds dataset class count 8. Possible class labels are 0-7\n",
      "\u001b[34m\u001b[1mtrain: \u001b[0mWARNING  C:\\Users\\DARiN\\Documents\\Python-JL\\Github\\aai-501-final-project_dv\\datasets\\images\\test\\image_620_jpg.rf.305fa19f39497ad2b70f8a7ad556a004.jpg: ignoring corrupt image/label: Label class 9 exceeds dataset class count 8. Possible class labels are 0-7\n",
      "\u001b[34m\u001b[1mtrain: \u001b[0mWARNING  C:\\Users\\DARiN\\Documents\\Python-JL\\Github\\aai-501-final-project_dv\\datasets\\images\\test\\image_624_jpg.rf.6606bdfe781b8863d9823eb7bb867a28.jpg: ignoring corrupt image/label: Label class 9 exceeds dataset class count 8. Possible class labels are 0-7\n",
      "\u001b[34m\u001b[1mtrain: \u001b[0mWARNING  C:\\Users\\DARiN\\Documents\\Python-JL\\Github\\aai-501-final-project_dv\\datasets\\images\\test\\image_986_jpg.rf.1d20afe31eac06733cd7ffe3df169a4d.jpg: ignoring corrupt image/label: Label class 9 exceeds dataset class count 8. Possible class labels are 0-7\n",
      "\u001b[34m\u001b[1mtrain: \u001b[0mWARNING  C:\\Users\\DARiN\\Documents\\Python-JL\\Github\\aai-501-final-project_dv\\datasets\\images\\test\\maksssksksss795_png_jpg.rf.d3b354627736744726846a775f91d887.jpg: ignoring corrupt image/label: Label class 9 exceeds dataset class count 8. Possible class labels are 0-7\n",
      "\u001b[34m\u001b[1mtrain: \u001b[0mWARNING  C:\\Users\\DARiN\\Documents\\Python-JL\\Github\\aai-501-final-project_dv\\datasets\\images\\test\\mask-wearing-1632932085584_png_jpg.rf.4bf437edc7d0549c380eca13c47dbc53.jpg: ignoring corrupt image/label: Label class 9 exceeds dataset class count 8. Possible class labels are 0-7\n",
      "\u001b[34m\u001b[1mtrain: \u001b[0mWARNING  C:\\Users\\DARiN\\Documents\\Python-JL\\Github\\aai-501-final-project_dv\\datasets\\images\\test\\ppe_0738_jpg.rf.8bdd2b07822885389235a1076d2f9da4.jpg: ignoring corrupt image/label: Label class 9 exceeds dataset class count 8. Possible class labels are 0-7\n",
      "\u001b[34m\u001b[1mtrain: \u001b[0mWARNING  C:\\Users\\DARiN\\Documents\\Python-JL\\Github\\aai-501-final-project_dv\\datasets\\images\\test\\ppe_1212_jpg.rf.3fb3352674da0bad368f663c349f98c3.jpg: ignoring corrupt image/label: Label class 9 exceeds dataset class count 8. Possible class labels are 0-7\n",
      "\u001b[34m\u001b[1mtrain: \u001b[0mWARNING  C:\\Users\\DARiN\\Documents\\Python-JL\\Github\\aai-501-final-project_dv\\datasets\\images\\test\\video_CDC-YOUTUBE_mp4-50_jpg.rf.95dcacf53d3e25b6eb8d595f84e47388.jpg: ignoring corrupt image/label: Label class 9 exceeds dataset class count 8. Possible class labels are 0-7\n",
      "\u001b[34m\u001b[1mtrain: \u001b[0mWARNING  C:\\Users\\DARiN\\Documents\\Python-JL\\Github\\aai-501-final-project_dv\\datasets\\images\\test\\youtube-170_jpg.rf.271811f43fc83abd75aaeaad926b43d6.jpg: ignoring corrupt image/label: Label class 9 exceeds dataset class count 8. Possible class labels are 0-7\n",
      "\u001b[34m\u001b[1mtrain: \u001b[0mWARNING  C:\\Users\\DARiN\\Documents\\Python-JL\\Github\\aai-501-final-project_dv\\datasets\\images\\test\\youtube-187_jpg.rf.dd06929c6ea565648b8156753b8b00c9.jpg: ignoring corrupt image/label: Label class 9 exceeds dataset class count 8. Possible class labels are 0-7\n",
      "\u001b[34m\u001b[1mtrain: \u001b[0mWARNING  C:\\Users\\DARiN\\Documents\\Python-JL\\Github\\aai-501-final-project_dv\\datasets\\images\\test\\youtube-229_jpg.rf.72892899bc70a5c19c6313db73666df8.jpg: ignoring corrupt image/label: Label class 9 exceeds dataset class count 8. Possible class labels are 0-7\n",
      "\u001b[34m\u001b[1mtrain: \u001b[0mWARNING  C:\\Users\\DARiN\\Documents\\Python-JL\\Github\\aai-501-final-project_dv\\datasets\\images\\test\\youtube-235_jpg.rf.f437b5b9cfb68293d373c5b533083772.jpg: ignoring corrupt image/label: Label class 9 exceeds dataset class count 8. Possible class labels are 0-7\n",
      "\u001b[34m\u001b[1mtrain: \u001b[0mWARNING  C:\\Users\\DARiN\\Documents\\Python-JL\\Github\\aai-501-final-project_dv\\datasets\\images\\test\\youtube-242_jpg.rf.6c65ab2da2b0600445f732397b6be671.jpg: ignoring corrupt image/label: Label class 9 exceeds dataset class count 8. Possible class labels are 0-7\n",
      "\u001b[34m\u001b[1mtrain: \u001b[0mWARNING  C:\\Users\\DARiN\\Documents\\Python-JL\\Github\\aai-501-final-project_dv\\datasets\\images\\test\\youtube-267_jpg.rf.acd9b5f407f573eaa830029418345ad3.jpg: ignoring corrupt image/label: Label class 9 exceeds dataset class count 8. Possible class labels are 0-7\n",
      "\u001b[34m\u001b[1mtrain: \u001b[0mWARNING  C:\\Users\\DARiN\\Documents\\Python-JL\\Github\\aai-501-final-project_dv\\datasets\\images\\test\\youtube-407_jpg.rf.1b0ab03157f1b44aa5afca50be370206.jpg: ignoring corrupt image/label: Label class 9 exceeds dataset class count 8. Possible class labels are 0-7\n",
      "\u001b[34m\u001b[1mtrain: \u001b[0mWARNING  C:\\Users\\DARiN\\Documents\\Python-JL\\Github\\aai-501-final-project_dv\\datasets\\images\\test\\youtube-423_jpg.rf.d0ec989fcfb1d783c32081989ef7c39c.jpg: ignoring corrupt image/label: Label class 9 exceeds dataset class count 8. Possible class labels are 0-7\n",
      "\u001b[34m\u001b[1mtrain: \u001b[0mWARNING  C:\\Users\\DARiN\\Documents\\Python-JL\\Github\\aai-501-final-project_dv\\datasets\\images\\test\\youtube-44_jpg.rf.1d571bccfb30ef3f7ad8d2b53dcb64e0.jpg: ignoring corrupt image/label: Label class 9 exceeds dataset class count 8. Possible class labels are 0-7\n",
      "\u001b[34m\u001b[1mtrain: \u001b[0mWARNING  C:\\Users\\DARiN\\Documents\\Python-JL\\Github\\aai-501-final-project_dv\\datasets\\images\\test\\youtube-459_jpg.rf.395f16aff5655d92ac8204ed967eb157.jpg: ignoring corrupt image/label: Label class 9 exceeds dataset class count 8. Possible class labels are 0-7\n",
      "\u001b[34m\u001b[1mtrain: \u001b[0mWARNING  C:\\Users\\DARiN\\Documents\\Python-JL\\Github\\aai-501-final-project_dv\\datasets\\images\\test\\youtube-464_jpg.rf.270dc5c89f2d25b354d4cb1ba1d79a79.jpg: ignoring corrupt image/label: Label class 9 exceeds dataset class count 8. Possible class labels are 0-7\n",
      "\u001b[34m\u001b[1mtrain: \u001b[0mWARNING  C:\\Users\\DARiN\\Documents\\Python-JL\\Github\\aai-501-final-project_dv\\datasets\\images\\test\\youtube-464_jpg.rf.355495bd54c66f71e909fa906b77e184.jpg: ignoring corrupt image/label: Label class 9 exceeds dataset class count 8. Possible class labels are 0-7\n",
      "\u001b[34m\u001b[1mtrain: \u001b[0mWARNING  C:\\Users\\DARiN\\Documents\\Python-JL\\Github\\aai-501-final-project_dv\\datasets\\images\\test\\youtube-564_jpg.rf.bb1e1e7b8cbbf050ca00be0128f428cc.jpg: ignoring corrupt image/label: Label class 9 exceeds dataset class count 8. Possible class labels are 0-7\n",
      "\u001b[34m\u001b[1mtrain: \u001b[0mWARNING  C:\\Users\\DARiN\\Documents\\Python-JL\\Github\\aai-501-final-project_dv\\datasets\\images\\test\\youtube-571_jpg.rf.9754f45af694d7838cef0e816190018d.jpg: ignoring corrupt image/label: Label class 9 exceeds dataset class count 8. Possible class labels are 0-7\n",
      "\u001b[34m\u001b[1mtrain: \u001b[0mWARNING  C:\\Users\\DARiN\\Documents\\Python-JL\\Github\\aai-501-final-project_dv\\datasets\\images\\test\\youtube-57_jpg.rf.87a1f2203f761f29bdf0543239ec739d.jpg: ignoring corrupt image/label: Label class 9 exceeds dataset class count 8. Possible class labels are 0-7\n",
      "\u001b[34m\u001b[1mtrain: \u001b[0mWARNING  C:\\Users\\DARiN\\Documents\\Python-JL\\Github\\aai-501-final-project_dv\\datasets\\images\\test\\youtube-646_jpg.rf.ccad877b36f0a6ba6e3ebf50bb96883f.jpg: ignoring corrupt image/label: Label class 9 exceeds dataset class count 8. Possible class labels are 0-7\n",
      "\u001b[34m\u001b[1mtrain: \u001b[0mWARNING  C:\\Users\\DARiN\\Documents\\Python-JL\\Github\\aai-501-final-project_dv\\datasets\\images\\test\\youtube-693_jpg.rf.c5a5784a786a21f09fa8df370f71c2e6.jpg: ignoring corrupt image/label: Label class 9 exceeds dataset class count 8. Possible class labels are 0-7\n",
      "\u001b[34m\u001b[1mtrain: \u001b[0mWARNING  C:\\Users\\DARiN\\Documents\\Python-JL\\Github\\aai-501-final-project_dv\\datasets\\images\\test\\youtube-815_jpg.rf.efcb04fd1022521a86e34b4fde943808.jpg: ignoring corrupt image/label: Label class 9 exceeds dataset class count 8. Possible class labels are 0-7\n",
      "\u001b[34m\u001b[1mtrain: \u001b[0mWARNING  C:\\Users\\DARiN\\Documents\\Python-JL\\Github\\aai-501-final-project_dv\\datasets\\images\\test\\youtube-832_jpg.rf.ecb937433f6b83437779864849489079.jpg: ignoring corrupt image/label: Label class 9 exceeds dataset class count 8. Possible class labels are 0-7\n",
      "\u001b[34m\u001b[1mtrain: \u001b[0mWARNING  C:\\Users\\DARiN\\Documents\\Python-JL\\Github\\aai-501-final-project_dv\\datasets\\images\\test\\youtube-840_jpg.rf.974a83a7c5aee7c16e83435b043c6d96.jpg: ignoring corrupt image/label: Label class 9 exceeds dataset class count 8. Possible class labels are 0-7\n",
      "\u001b[34m\u001b[1mtrain: \u001b[0mWARNING  C:\\Users\\DARiN\\Documents\\Python-JL\\Github\\aai-501-final-project_dv\\datasets\\images\\test\\youtube-848_jpg.rf.bef04dc9e34440277e80f82cbdce6e8a.jpg: ignoring corrupt image/label: Label class 9 exceeds dataset class count 8. Possible class labels are 0-7\n",
      "\u001b[34m\u001b[1mtrain: \u001b[0mWARNING  C:\\Users\\DARiN\\Documents\\Python-JL\\Github\\aai-501-final-project_dv\\datasets\\images\\test\\youtube-855_jpg.rf.c1f7df1e079c07197ea93a64a0ac27ee.jpg: ignoring corrupt image/label: Label class 9 exceeds dataset class count 8. Possible class labels are 0-7\n",
      "\u001b[34m\u001b[1malbumentations: \u001b[0mBlur(p=0.01, blur_limit=(3, 7)), MedianBlur(p=0.01, blur_limit=(3, 7)), ToGray(p=0.01, num_output_channels=3, method='weighted_average'), CLAHE(p=0.01, clip_limit=(1.0, 4.0), tile_grid_size=(8, 8))\n"
     ]
    },
    {
     "name": "stderr",
     "output_type": "stream",
     "text": [
      "\n",
      "\u001b[34m\u001b[1mval: \u001b[0mScanning C:\\Users\\DARiN\\Documents\\Python-JL\\Github\\aai-501-final-project_dv\\datasets\\labels\\valid.cache... 571 ima\u001b[0m"
     ]
    },
    {
     "name": "stdout",
     "output_type": "stream",
     "text": [
      "\u001b[34m\u001b[1mval: \u001b[0mWARNING  C:\\Users\\DARiN\\Documents\\Python-JL\\Github\\aai-501-final-project_dv\\datasets\\images\\valid\\-2252-_png_jpg.rf.a71a293e8fb2e65c9b851ee278fbc4c0.jpg: ignoring corrupt image/label: Label class 9 exceeds dataset class count 8. Possible class labels are 0-7\n",
      "\u001b[34m\u001b[1mval: \u001b[0mWARNING  C:\\Users\\DARiN\\Documents\\Python-JL\\Github\\aai-501-final-project_dv\\datasets\\images\\valid\\-3394-_png_jpg.rf.a0f81aeb67bec81f0a77c518490205bc.jpg: ignoring corrupt image/label: Label class 9 exceeds dataset class count 8. Possible class labels are 0-7\n",
      "\u001b[34m\u001b[1mval: \u001b[0mWARNING  C:\\Users\\DARiN\\Documents\\Python-JL\\Github\\aai-501-final-project_dv\\datasets\\images\\valid\\005100_jpg.rf.2994d16a99c03162e7b756fa13fdd3c5.jpg: ignoring corrupt image/label: Label class 9 exceeds dataset class count 8. Possible class labels are 0-7\n",
      "\u001b[34m\u001b[1mval: \u001b[0mWARNING  C:\\Users\\DARiN\\Documents\\Python-JL\\Github\\aai-501-final-project_dv\\datasets\\images\\valid\\005139_jpg.rf.b51d392a15c3ca4943cfe750427ceb97.jpg: ignoring corrupt image/label: Label class 9 exceeds dataset class count 8. Possible class labels are 0-7\n",
      "\u001b[34m\u001b[1mval: \u001b[0mWARNING  C:\\Users\\DARiN\\Documents\\Python-JL\\Github\\aai-501-final-project_dv\\datasets\\images\\valid\\005239_jpg.rf.b30f66b565561c64979bb7869ab4a970.jpg: ignoring corrupt image/label: Label class 9 exceeds dataset class count 8. Possible class labels are 0-7\n",
      "\u001b[34m\u001b[1mval: \u001b[0mWARNING  C:\\Users\\DARiN\\Documents\\Python-JL\\Github\\aai-501-final-project_dv\\datasets\\images\\valid\\005239_jpg.rf.e2238d4058c251acf13fce7ed0319bae.jpg: ignoring corrupt image/label: Label class 9 exceeds dataset class count 8. Possible class labels are 0-7\n",
      "\u001b[34m\u001b[1mval: \u001b[0mWARNING  C:\\Users\\DARiN\\Documents\\Python-JL\\Github\\aai-501-final-project_dv\\datasets\\images\\valid\\006858_jpg.rf.f39d0c81a93d765d935f0f93295969d1.jpg: ignoring corrupt image/label: Label class 9 exceeds dataset class count 8. Possible class labels are 0-7\n",
      "\u001b[34m\u001b[1mval: \u001b[0mWARNING  C:\\Users\\DARiN\\Documents\\Python-JL\\Github\\aai-501-final-project_dv\\datasets\\images\\valid\\1582_jpg.rf.a067bc50920883d43cd5cab0a1966ad4.jpg: ignoring corrupt image/label: Label class 9 exceeds dataset class count 8. Possible class labels are 0-7\n",
      "\u001b[34m\u001b[1mval: \u001b[0mWARNING  C:\\Users\\DARiN\\Documents\\Python-JL\\Github\\aai-501-final-project_dv\\datasets\\images\\valid\\2008_008337_jpg.rf.5590da143ecce5f4a253645df18158c1.jpg: ignoring corrupt image/label: Label class 9 exceeds dataset class count 8. Possible class labels are 0-7\n",
      "\u001b[34m\u001b[1mval: \u001b[0mWARNING  C:\\Users\\DARiN\\Documents\\Python-JL\\Github\\aai-501-final-project_dv\\datasets\\images\\valid\\2008_008364_jpg.rf.6c09ae7ec7500b18c2f9175f7ae996c9.jpg: ignoring corrupt image/label: Label class 9 exceeds dataset class count 8. Possible class labels are 0-7\n",
      "\u001b[34m\u001b[1mval: \u001b[0mWARNING  C:\\Users\\DARiN\\Documents\\Python-JL\\Github\\aai-501-final-project_dv\\datasets\\images\\valid\\2008_008382_jpg.rf.051446bdb7b3da2d378bef843e2db409.jpg: ignoring corrupt image/label: Label class 9 exceeds dataset class count 8. Possible class labels are 0-7\n",
      "\u001b[34m\u001b[1mval: \u001b[0mWARNING  C:\\Users\\DARiN\\Documents\\Python-JL\\Github\\aai-501-final-project_dv\\datasets\\images\\valid\\2008_008444_jpg.rf.f54629aa3fa51422510e7e7ac5d5f39b.jpg: ignoring corrupt image/label: Label class 9 exceeds dataset class count 8. Possible class labels are 0-7\n",
      "\u001b[34m\u001b[1mval: \u001b[0mWARNING  C:\\Users\\DARiN\\Documents\\Python-JL\\Github\\aai-501-final-project_dv\\datasets\\images\\valid\\2008_008593_jpg.rf.326b2332c5ad72b7eb4ff01251abbf4e.jpg: ignoring corrupt image/label: Label class 9 exceeds dataset class count 8. Possible class labels are 0-7\n",
      "\u001b[34m\u001b[1mval: \u001b[0mWARNING  C:\\Users\\DARiN\\Documents\\Python-JL\\Github\\aai-501-final-project_dv\\datasets\\images\\valid\\2008_008629_jpg.rf.73412855b479071b5aa4da5c592b92f9.jpg: ignoring corrupt image/label: Label class 9 exceeds dataset class count 8. Possible class labels are 0-7\n",
      "\u001b[34m\u001b[1mval: \u001b[0mWARNING  C:\\Users\\DARiN\\Documents\\Python-JL\\Github\\aai-501-final-project_dv\\datasets\\images\\valid\\2009_000280_jpg.rf.ec836370fef6cf224c1c349c5814fce5.jpg: ignoring corrupt image/label: Label class 9 exceeds dataset class count 8. Possible class labels are 0-7\n",
      "\u001b[34m\u001b[1mval: \u001b[0mWARNING  C:\\Users\\DARiN\\Documents\\Python-JL\\Github\\aai-501-final-project_dv\\datasets\\images\\valid\\2009_002711_jpg.rf.c5342ac0316773ec167d3bc6f61ec8ac.jpg: ignoring corrupt image/label: Label class 9 exceeds dataset class count 8. Possible class labels are 0-7\n",
      "\u001b[34m\u001b[1mval: \u001b[0mWARNING  C:\\Users\\DARiN\\Documents\\Python-JL\\Github\\aai-501-final-project_dv\\datasets\\images\\valid\\2009_004301_jpg.rf.91ec90a81cecd19e78920c6ceaf0d01e.jpg: ignoring corrupt image/label: Label class 9 exceeds dataset class count 8. Possible class labels are 0-7\n",
      "\u001b[34m\u001b[1mval: \u001b[0mWARNING  C:\\Users\\DARiN\\Documents\\Python-JL\\Github\\aai-501-final-project_dv\\datasets\\images\\valid\\2_jpg.rf.90ee66d55026ceb2e487c40a501b81f8.jpg: ignoring corrupt image/label: Label class 9 exceeds dataset class count 8. Possible class labels are 0-7\n",
      "\u001b[34m\u001b[1mval: \u001b[0mWARNING  C:\\Users\\DARiN\\Documents\\Python-JL\\Github\\aai-501-final-project_dv\\datasets\\images\\valid\\494_jpg.rf.10fc39826f79a214ec850d3adb62bf81.jpg: ignoring corrupt image/label: Label class 9 exceeds dataset class count 8. Possible class labels are 0-7\n",
      "\u001b[34m\u001b[1mval: \u001b[0mWARNING  C:\\Users\\DARiN\\Documents\\Python-JL\\Github\\aai-501-final-project_dv\\datasets\\images\\valid\\494_jpg.rf.44f6e7003c8d642d073affd1936673ec.jpg: ignoring corrupt image/label: Label class 9 exceeds dataset class count 8. Possible class labels are 0-7\n",
      "\u001b[34m\u001b[1mval: \u001b[0mWARNING  C:\\Users\\DARiN\\Documents\\Python-JL\\Github\\aai-501-final-project_dv\\datasets\\images\\valid\\Bookstore111_jpg.rf.49397b7bdc4e2a3fa4947b42a57be10e.jpg: ignoring corrupt image/label: Label class 9 exceeds dataset class count 8. Possible class labels are 0-7\n",
      "\u001b[34m\u001b[1mval: \u001b[0mWARNING  C:\\Users\\DARiN\\Documents\\Python-JL\\Github\\aai-501-final-project_dv\\datasets\\images\\valid\\IMG_0871_MOV-39_jpg.rf.914e1002113e41ada32a1a90a66aab9a.jpg: ignoring corrupt image/label: Label class 9 exceeds dataset class count 8. Possible class labels are 0-7\n",
      "\u001b[34m\u001b[1mval: \u001b[0mWARNING  C:\\Users\\DARiN\\Documents\\Python-JL\\Github\\aai-501-final-project_dv\\datasets\\images\\valid\\IMG_0871_mp4-9_jpg.rf.e58e573ca41180b78bf69f552d78f1ba.jpg: ignoring corrupt image/label: Label class 9 exceeds dataset class count 8. Possible class labels are 0-7\n",
      "\u001b[34m\u001b[1mval: \u001b[0mWARNING  C:\\Users\\DARiN\\Documents\\Python-JL\\Github\\aai-501-final-project_dv\\datasets\\images\\valid\\IMG_3094_mp4-45_jpg.rf.b65aa0f84dbec2f2cb4e46553b791704.jpg: ignoring corrupt image/label: Label class 9 exceeds dataset class count 8. Possible class labels are 0-7\n",
      "\u001b[34m\u001b[1mval: \u001b[0mWARNING  C:\\Users\\DARiN\\Documents\\Python-JL\\Github\\aai-501-final-project_dv\\datasets\\images\\valid\\IMG_3100_mp4-23_jpg.rf.111461b3bc308932167364e329194edd.jpg: ignoring corrupt image/label: Label class 9 exceeds dataset class count 8. Possible class labels are 0-7\n",
      "\u001b[34m\u001b[1mval: \u001b[0mWARNING  C:\\Users\\DARiN\\Documents\\Python-JL\\Github\\aai-501-final-project_dv\\datasets\\images\\valid\\IMG_3100_mp4-6_jpg.rf.dee1486806bef37ff0bc3ed372df81b3.jpg: ignoring corrupt image/label: Label class 9 exceeds dataset class count 8. Possible class labels are 0-7\n",
      "\u001b[34m\u001b[1mval: \u001b[0mWARNING  C:\\Users\\DARiN\\Documents\\Python-JL\\Github\\aai-501-final-project_dv\\datasets\\images\\valid\\IMG_3103_mp4-3_jpg.rf.32329e906db245dfec761d70409f4b17.jpg: ignoring corrupt image/label: Label class 9 exceeds dataset class count 8. Possible class labels are 0-7\n",
      "\u001b[34m\u001b[1mval: \u001b[0mWARNING  C:\\Users\\DARiN\\Documents\\Python-JL\\Github\\aai-501-final-project_dv\\datasets\\images\\valid\\IMG_5848_jpg.rf.276bb36b3b72258634e631184da7852d.jpg: ignoring corrupt image/label: Label class 9 exceeds dataset class count 8. Possible class labels are 0-7\n",
      "\u001b[34m\u001b[1mval: \u001b[0mWARNING  C:\\Users\\DARiN\\Documents\\Python-JL\\Github\\aai-501-final-project_dv\\datasets\\images\\valid\\IMG_5850_jpg.rf.03ab0fe3cfb17b8bab4c149542d6b970.jpg: ignoring corrupt image/label: Label class 9 exceeds dataset class count 8. Possible class labels are 0-7\n",
      "\u001b[34m\u001b[1mval: \u001b[0mWARNING  C:\\Users\\DARiN\\Documents\\Python-JL\\Github\\aai-501-final-project_dv\\datasets\\images\\valid\\IMG_9949-1-_mp4-63_jpg.rf.23b3f6343eb2c857c3fddd2fd0b9307e.jpg: ignoring corrupt image/label: Label class 9 exceeds dataset class count 8. Possible class labels are 0-7\n",
      "\u001b[34m\u001b[1mval: \u001b[0mWARNING  C:\\Users\\DARiN\\Documents\\Python-JL\\Github\\aai-501-final-project_dv\\datasets\\images\\valid\\IMG_9949-1-_mp4-63_jpg.rf.6d04c0ff1a95e4309a859fe65031ebe3.jpg: ignoring corrupt image/label: Label class 9 exceeds dataset class count 8. Possible class labels are 0-7\n",
      "\u001b[34m\u001b[1mval: \u001b[0mWARNING  C:\\Users\\DARiN\\Documents\\Python-JL\\Github\\aai-501-final-project_dv\\datasets\\images\\valid\\IMG_9949-1-_mp4-6_jpg.rf.0bb75ac9a85641251373c96f54595fde.jpg: ignoring corrupt image/label: Label class 9 exceeds dataset class count 8. Possible class labels are 0-7\n",
      "\u001b[34m\u001b[1mval: \u001b[0mWARNING  C:\\Users\\DARiN\\Documents\\Python-JL\\Github\\aai-501-final-project_dv\\datasets\\images\\valid\\Image_1021_jpg.rf.c0569909c0a161ddae0bbf3446b84642.jpg: ignoring corrupt image/label: Label class 9 exceeds dataset class count 8. Possible class labels are 0-7\n",
      "\u001b[34m\u001b[1mval: \u001b[0mWARNING  C:\\Users\\DARiN\\Documents\\Python-JL\\Github\\aai-501-final-project_dv\\datasets\\images\\valid\\Image_991_jpg.rf.22c230afdfec51ec63afe3599fffab94.jpg: ignoring corrupt image/label: Label class 9 exceeds dataset class count 8. Possible class labels are 0-7\n",
      "\u001b[34m\u001b[1mval: \u001b[0mWARNING  C:\\Users\\DARiN\\Documents\\Python-JL\\Github\\aai-501-final-project_dv\\datasets\\images\\valid\\Image_991_jpg.rf.bedcfa2a8c7af22e5cf13c894e51bcf5.jpg: ignoring corrupt image/label: Label class 9 exceeds dataset class count 8. Possible class labels are 0-7\n",
      "\u001b[34m\u001b[1mval: \u001b[0mWARNING  C:\\Users\\DARiN\\Documents\\Python-JL\\Github\\aai-501-final-project_dv\\datasets\\images\\valid\\Inside-merge_mov-16_jpg.rf.7497b66a211972c0baaf43831553d347.jpg: ignoring corrupt image/label: Label class 9 exceeds dataset class count 8. Possible class labels are 0-7\n",
      "\u001b[34m\u001b[1mval: \u001b[0mWARNING  C:\\Users\\DARiN\\Documents\\Python-JL\\Github\\aai-501-final-project_dv\\datasets\\images\\valid\\MariusConePic60_png_jpg.rf.b0a75275cc2fdadceedf0e6452a04678.jpg: ignoring corrupt image/label: Label class 9 exceeds dataset class count 8. Possible class labels are 0-7\n",
      "\u001b[34m\u001b[1mval: \u001b[0mWARNING  C:\\Users\\DARiN\\Documents\\Python-JL\\Github\\aai-501-final-project_dv\\datasets\\images\\valid\\Mask2_mov-44_jpg.rf.78134bef16472818ae01aaa08b2f9a65.jpg: ignoring corrupt image/label: Label class 9 exceeds dataset class count 8. Possible class labels are 0-7\n",
      "\u001b[34m\u001b[1mval: \u001b[0mWARNING  C:\\Users\\DARiN\\Documents\\Python-JL\\Github\\aai-501-final-project_dv\\datasets\\images\\valid\\Movie-on-10-31-22-at-10_08-AM_mov-0_jpg.rf.17449a231054cf8460daca7adc59c09c.jpg: ignoring corrupt image/label: Label class 9 exceeds dataset class count 8. Possible class labels are 0-7\n",
      "\u001b[34m\u001b[1mval: \u001b[0mWARNING  C:\\Users\\DARiN\\Documents\\Python-JL\\Github\\aai-501-final-project_dv\\datasets\\images\\valid\\Movie-on-10-31-22-at-10_08-AM_mov-14_jpg.rf.77fd7a99151657fe274f08f9506927d9.jpg: ignoring corrupt image/label: Label class 9 exceeds dataset class count 8. Possible class labels are 0-7\n",
      "\u001b[34m\u001b[1mval: \u001b[0mWARNING  C:\\Users\\DARiN\\Documents\\Python-JL\\Github\\aai-501-final-project_dv\\datasets\\images\\valid\\Movie-on-10-31-22-at-10_08-AM_mov-15_jpg.rf.bcfb839a9423f23eb2417ccca265d49f.jpg: ignoring corrupt image/label: Label class 9 exceeds dataset class count 8. Possible class labels are 0-7\n",
      "\u001b[34m\u001b[1mval: \u001b[0mWARNING  C:\\Users\\DARiN\\Documents\\Python-JL\\Github\\aai-501-final-project_dv\\datasets\\images\\valid\\additional_tests-Nomask-wearing_mp4-35_jpg.rf.577a53ee9e1896cee0ff0fcfddd4b937.jpg: ignoring corrupt image/label: Label class 9 exceeds dataset class count 8. Possible class labels are 0-7\n",
      "\u001b[34m\u001b[1mval: \u001b[0mWARNING  C:\\Users\\DARiN\\Documents\\Python-JL\\Github\\aai-501-final-project_dv\\datasets\\images\\valid\\airport_inside_0345_jpg.rf.0ec6de25e596ed13beec56137db2cb19.jpg: ignoring corrupt image/label: Label class 9 exceeds dataset class count 8. Possible class labels are 0-7\n",
      "\u001b[34m\u001b[1mval: \u001b[0mWARNING  C:\\Users\\DARiN\\Documents\\Python-JL\\Github\\aai-501-final-project_dv\\datasets\\images\\valid\\airport_inside_0460_jpg.rf.aae905a80f304e8b4a3e3c738887490b.jpg: ignoring corrupt image/label: Label class 9 exceeds dataset class count 8. Possible class labels are 0-7\n",
      "\u001b[34m\u001b[1mval: \u001b[0mWARNING  C:\\Users\\DARiN\\Documents\\Python-JL\\Github\\aai-501-final-project_dv\\datasets\\images\\valid\\airport_inside_0550_jpg.rf.f2c346802de743043297e70687160686.jpg: ignoring corrupt image/label: Label class 9 exceeds dataset class count 8. Possible class labels are 0-7\n",
      "\u001b[34m\u001b[1mval: \u001b[0mWARNING  C:\\Users\\DARiN\\Documents\\Python-JL\\Github\\aai-501-final-project_dv\\datasets\\images\\valid\\autox2_mp4-74_jpg.rf.bf9aaf27108385d7246130699dd1556c.jpg: ignoring corrupt image/label: Label class 9 exceeds dataset class count 8. Possible class labels are 0-7\n",
      "\u001b[34m\u001b[1mval: \u001b[0mWARNING  C:\\Users\\DARiN\\Documents\\Python-JL\\Github\\aai-501-final-project_dv\\datasets\\images\\valid\\autox2_mp4-74_jpg.rf.dc717b3f997effa8bcd6e23c5ce2a029.jpg: ignoring corrupt image/label: Label class 9 exceeds dataset class count 8. Possible class labels are 0-7\n",
      "\u001b[34m\u001b[1mval: \u001b[0mWARNING  C:\\Users\\DARiN\\Documents\\Python-JL\\Github\\aai-501-final-project_dv\\datasets\\images\\valid\\autox3_mp4-49_jpg.rf.4c81fb7708e129cbed49607d657d75d4.jpg: ignoring corrupt image/label: Label class 9 exceeds dataset class count 8. Possible class labels are 0-7\n",
      "\u001b[34m\u001b[1mval: \u001b[0mWARNING  C:\\Users\\DARiN\\Documents\\Python-JL\\Github\\aai-501-final-project_dv\\datasets\\images\\valid\\autox3_mp4-49_jpg.rf.6121fb64e33a8b42f4492a6a9740edc2.jpg: ignoring corrupt image/label: Label class 9 exceeds dataset class count 8. Possible class labels are 0-7\n",
      "\u001b[34m\u001b[1mval: \u001b[0mWARNING  C:\\Users\\DARiN\\Documents\\Python-JL\\Github\\aai-501-final-project_dv\\datasets\\images\\valid\\autox3_mp4-49_jpg.rf.8ddb4986f36cc784dbfbd9be67369d29.jpg: ignoring corrupt image/label: Label class 9 exceeds dataset class count 8. Possible class labels are 0-7\n",
      "\u001b[34m\u001b[1mval: \u001b[0mWARNING  C:\\Users\\DARiN\\Documents\\Python-JL\\Github\\aai-501-final-project_dv\\datasets\\images\\valid\\autox3_mp4-78_jpg.rf.dc5c00104c4cf733c2c06c820b82d338.jpg: ignoring corrupt image/label: Label class 9 exceeds dataset class count 8. Possible class labels are 0-7\n",
      "\u001b[34m\u001b[1mval: \u001b[0mWARNING  C:\\Users\\DARiN\\Documents\\Python-JL\\Github\\aai-501-final-project_dv\\datasets\\images\\valid\\autox4_mp4-112_jpg.rf.7cc302ad3018179e980d430dacb22f9d.jpg: ignoring corrupt image/label: Label class 9 exceeds dataset class count 8. Possible class labels are 0-7\n",
      "\u001b[34m\u001b[1mval: \u001b[0mWARNING  C:\\Users\\DARiN\\Documents\\Python-JL\\Github\\aai-501-final-project_dv\\datasets\\images\\valid\\autox4_mp4-42_jpg.rf.146b0e51a6d2ed699aba1c2f0fccc723.jpg: ignoring corrupt image/label: Label class 9 exceeds dataset class count 8. Possible class labels are 0-7\n",
      "\u001b[34m\u001b[1mval: \u001b[0mWARNING  C:\\Users\\DARiN\\Documents\\Python-JL\\Github\\aai-501-final-project_dv\\datasets\\images\\valid\\autox4_mp4-63_jpg.rf.b0fab4fd2c947536a122d6f2e7cca895.jpg: ignoring corrupt image/label: Label class 9 exceeds dataset class count 8. Possible class labels are 0-7\n",
      "\u001b[34m\u001b[1mval: \u001b[0mWARNING  C:\\Users\\DARiN\\Documents\\Python-JL\\Github\\aai-501-final-project_dv\\datasets\\images\\valid\\autox5_mp4-34_jpg.rf.3c78d4783f9d8451aa12e1a2177ec740.jpg: ignoring corrupt image/label: Label class 9 exceeds dataset class count 8. Possible class labels are 0-7\n",
      "\u001b[34m\u001b[1mval: \u001b[0mWARNING  C:\\Users\\DARiN\\Documents\\Python-JL\\Github\\aai-501-final-project_dv\\datasets\\images\\valid\\autox6_mp4-20_jpg.rf.ba6134721c0c752e7142a6299d2f04e9.jpg: ignoring corrupt image/label: Label class 9 exceeds dataset class count 8. Possible class labels are 0-7\n",
      "\u001b[34m\u001b[1mval: \u001b[0mWARNING  C:\\Users\\DARiN\\Documents\\Python-JL\\Github\\aai-501-final-project_dv\\datasets\\images\\valid\\class1_075_jpg.rf.2a22da3708b1c7ba80a4da925984f48f.jpg: ignoring corrupt image/label: Label class 9 exceeds dataset class count 8. Possible class labels are 0-7\n",
      "\u001b[34m\u001b[1mval: \u001b[0mWARNING  C:\\Users\\DARiN\\Documents\\Python-JL\\Github\\aai-501-final-project_dv\\datasets\\images\\valid\\class1_075_jpg.rf.2a623fcaaa9ee3c192f00ce605dc44f6.jpg: ignoring corrupt image/label: Label class 9 exceeds dataset class count 8. Possible class labels are 0-7\n",
      "\u001b[34m\u001b[1mval: \u001b[0mWARNING  C:\\Users\\DARiN\\Documents\\Python-JL\\Github\\aai-501-final-project_dv\\datasets\\images\\valid\\class1_235_jpg.rf.c95e6d030c77585b441564c612b5ec8b.jpg: ignoring corrupt image/label: Label class 9 exceeds dataset class count 8. Possible class labels are 0-7\n",
      "\u001b[34m\u001b[1mval: \u001b[0mWARNING  C:\\Users\\DARiN\\Documents\\Python-JL\\Github\\aai-501-final-project_dv\\datasets\\images\\valid\\class5_012_jpg.rf.b9584b5d299a1a27b65bea64b58c37ff.jpg: ignoring corrupt image/label: Label class 9 exceeds dataset class count 8. Possible class labels are 0-7\n",
      "\u001b[34m\u001b[1mval: \u001b[0mWARNING  C:\\Users\\DARiN\\Documents\\Python-JL\\Github\\aai-501-final-project_dv\\datasets\\images\\valid\\construction-1015-_jpg.rf.430489f60abd9b982a14dd7425e577c7.jpg: ignoring corrupt image/label: Label class 9 exceeds dataset class count 8. Possible class labels are 0-7\n",
      "\u001b[34m\u001b[1mval: \u001b[0mWARNING  C:\\Users\\DARiN\\Documents\\Python-JL\\Github\\aai-501-final-project_dv\\datasets\\images\\valid\\construction-2-_mp4-12_jpg.rf.303c49beb1cd6415e78e95affd27ec7e.jpg: ignoring corrupt image/label: Label class 9 exceeds dataset class count 8. Possible class labels are 0-7\n",
      "\u001b[34m\u001b[1mval: \u001b[0mWARNING  C:\\Users\\DARiN\\Documents\\Python-JL\\Github\\aai-501-final-project_dv\\datasets\\images\\valid\\construction-267-_jpg.rf.222246f7ce5e3109de00144c4f603292.jpg: ignoring corrupt image/label: Label class 9 exceeds dataset class count 8. Possible class labels are 0-7\n",
      "\u001b[34m\u001b[1mval: \u001b[0mWARNING  C:\\Users\\DARiN\\Documents\\Python-JL\\Github\\aai-501-final-project_dv\\datasets\\images\\valid\\construction-3-_mp4-166_jpg.rf.321ab14cf6825c69840e598eeb0d213d.jpg: ignoring corrupt image/label: Label class 9 exceeds dataset class count 8. Possible class labels are 0-7\n",
      "\u001b[34m\u001b[1mval: \u001b[0mWARNING  C:\\Users\\DARiN\\Documents\\Python-JL\\Github\\aai-501-final-project_dv\\datasets\\images\\valid\\construction-3-_mp4-211_jpg.rf.09e6543350a247f05d10cc7852422156.jpg: ignoring corrupt image/label: Label class 9 exceeds dataset class count 8. Possible class labels are 0-7\n",
      "\u001b[34m\u001b[1mval: \u001b[0mWARNING  C:\\Users\\DARiN\\Documents\\Python-JL\\Github\\aai-501-final-project_dv\\datasets\\images\\valid\\construction-3-_mp4-211_jpg.rf.a59e7bd9c031f0128fdde8485a5031f3.jpg: ignoring corrupt image/label: Label class 9 exceeds dataset class count 8. Possible class labels are 0-7\n",
      "\u001b[34m\u001b[1mval: \u001b[0mWARNING  C:\\Users\\DARiN\\Documents\\Python-JL\\Github\\aai-501-final-project_dv\\datasets\\images\\valid\\construction-3-_mp4-67_jpg.rf.2ac209d6daf4ac7a4247a4ee28385fe8.jpg: ignoring corrupt image/label: Label class 9 exceeds dataset class count 8. Possible class labels are 0-7\n",
      "\u001b[34m\u001b[1mval: \u001b[0mWARNING  C:\\Users\\DARiN\\Documents\\Python-JL\\Github\\aai-501-final-project_dv\\datasets\\images\\valid\\construction-331-_jpg.rf.a81eec9d26ee319d3d0cc6692ad1018c.jpg: ignoring corrupt image/label: Label class 9 exceeds dataset class count 8. Possible class labels are 0-7\n",
      "\u001b[34m\u001b[1mval: \u001b[0mWARNING  C:\\Users\\DARiN\\Documents\\Python-JL\\Github\\aai-501-final-project_dv\\datasets\\images\\valid\\construction-347-_jpg.rf.da66417ec4dc8d612f5613fa67c262c7.jpg: ignoring corrupt image/label: Label class 9 exceeds dataset class count 8. Possible class labels are 0-7\n",
      "\u001b[34m\u001b[1mval: \u001b[0mWARNING  C:\\Users\\DARiN\\Documents\\Python-JL\\Github\\aai-501-final-project_dv\\datasets\\images\\valid\\construction-4-_mp4-165_jpg.rf.d1617980e6570fd2dc77a4579fe285ed.jpg: ignoring corrupt image/label: Label class 9 exceeds dataset class count 8. Possible class labels are 0-7\n",
      "\u001b[34m\u001b[1mval: \u001b[0mWARNING  C:\\Users\\DARiN\\Documents\\Python-JL\\Github\\aai-501-final-project_dv\\datasets\\images\\valid\\construction-4-_mp4-188_jpg.rf.b432a7682ba15224171e52a9c7d30a71.jpg: ignoring corrupt image/label: Label class 9 exceeds dataset class count 8. Possible class labels are 0-7\n",
      "\u001b[34m\u001b[1mval: \u001b[0mWARNING  C:\\Users\\DARiN\\Documents\\Python-JL\\Github\\aai-501-final-project_dv\\datasets\\images\\valid\\construction-4-_mp4-189_jpg.rf.d1e7f3d623c27f0779083ec386106007.jpg: ignoring corrupt image/label: Label class 9 exceeds dataset class count 8. Possible class labels are 0-7\n",
      "\u001b[34m\u001b[1mval: \u001b[0mWARNING  C:\\Users\\DARiN\\Documents\\Python-JL\\Github\\aai-501-final-project_dv\\datasets\\images\\valid\\construction-4-_mp4-27_jpg.rf.307c9cc40f7d992120eeee5a5c2bf9b4.jpg: ignoring corrupt image/label: Label class 9 exceeds dataset class count 8. Possible class labels are 0-7\n",
      "\u001b[34m\u001b[1mval: \u001b[0mWARNING  C:\\Users\\DARiN\\Documents\\Python-JL\\Github\\aai-501-final-project_dv\\datasets\\images\\valid\\construction-4-_mp4-89_jpg.rf.7ad949dbe6175f71ce099daf5dce5b6e.jpg: ignoring corrupt image/label: Label class 9 exceeds dataset class count 8. Possible class labels are 0-7\n",
      "\u001b[34m\u001b[1mval: \u001b[0mWARNING  C:\\Users\\DARiN\\Documents\\Python-JL\\Github\\aai-501-final-project_dv\\datasets\\images\\valid\\construction-435-_jpg.rf.3c115485f2e5d31dabe17b006f656489.jpg: ignoring corrupt image/label: Label class 9 exceeds dataset class count 8. Possible class labels are 0-7\n",
      "\u001b[34m\u001b[1mval: \u001b[0mWARNING  C:\\Users\\DARiN\\Documents\\Python-JL\\Github\\aai-501-final-project_dv\\datasets\\images\\valid\\construction-435-_jpg.rf.8d45996f8bb473f29ce0b3733f40241b.jpg: ignoring corrupt image/label: Label class 9 exceeds dataset class count 8. Possible class labels are 0-7\n",
      "\u001b[34m\u001b[1mval: \u001b[0mWARNING  C:\\Users\\DARiN\\Documents\\Python-JL\\Github\\aai-501-final-project_dv\\datasets\\images\\valid\\construction-5-_mp4-135_jpg.rf.6999ef662dd514389ed19622a37a2a93.jpg: ignoring corrupt image/label: Label class 9 exceeds dataset class count 8. Possible class labels are 0-7\n",
      "\u001b[34m\u001b[1mval: \u001b[0mWARNING  C:\\Users\\DARiN\\Documents\\Python-JL\\Github\\aai-501-final-project_dv\\datasets\\images\\valid\\construction-5-_mp4-48_jpg.rf.72bf6dca6741d8c2f2c96b9f9177b3e4.jpg: ignoring corrupt image/label: Label class 9 exceeds dataset class count 8. Possible class labels are 0-7\n",
      "\u001b[34m\u001b[1mval: \u001b[0mWARNING  C:\\Users\\DARiN\\Documents\\Python-JL\\Github\\aai-501-final-project_dv\\datasets\\images\\valid\\construction-5-_mp4-96_jpg.rf.cb5353552d12f5f60ba0c90cda46d843.jpg: ignoring corrupt image/label: Label class 9 exceeds dataset class count 8. Possible class labels are 0-7\n",
      "\u001b[34m\u001b[1mval: \u001b[0mWARNING  C:\\Users\\DARiN\\Documents\\Python-JL\\Github\\aai-501-final-project_dv\\datasets\\images\\valid\\construction-523-_jpg.rf.269c0f01c12f196d4de7511811a10dc7.jpg: ignoring corrupt image/label: Label class 9 exceeds dataset class count 8. Possible class labels are 0-7\n",
      "\u001b[34m\u001b[1mval: \u001b[0mWARNING  C:\\Users\\DARiN\\Documents\\Python-JL\\Github\\aai-501-final-project_dv\\datasets\\images\\valid\\construction-547-_jpg.rf.5a75e2e90f7e6e23620b4311cb7bf65e.jpg: ignoring corrupt image/label: Label class 9 exceeds dataset class count 8. Possible class labels are 0-7\n",
      "\u001b[34m\u001b[1mval: \u001b[0mWARNING  C:\\Users\\DARiN\\Documents\\Python-JL\\Github\\aai-501-final-project_dv\\datasets\\images\\valid\\construction-618-_jpg.rf.b1c7243e9ca367424591231467dad5c1.jpg: ignoring corrupt image/label: Label class 9 exceeds dataset class count 8. Possible class labels are 0-7\n",
      "\u001b[34m\u001b[1mval: \u001b[0mWARNING  C:\\Users\\DARiN\\Documents\\Python-JL\\Github\\aai-501-final-project_dv\\datasets\\images\\valid\\construction-619-_jpg.rf.195c36f2b32843181bf4dfb5ffad2707.jpg: ignoring corrupt image/label: Label class 9 exceeds dataset class count 8. Possible class labels are 0-7\n",
      "\u001b[34m\u001b[1mval: \u001b[0mWARNING  C:\\Users\\DARiN\\Documents\\Python-JL\\Github\\aai-501-final-project_dv\\datasets\\images\\valid\\construction-675-_jpg.rf.bb4a05441be707256175e04929da3478.jpg: ignoring corrupt image/label: Label class 9 exceeds dataset class count 8. Possible class labels are 0-7\n",
      "\u001b[34m\u001b[1mval: \u001b[0mWARNING  C:\\Users\\DARiN\\Documents\\Python-JL\\Github\\aai-501-final-project_dv\\datasets\\images\\valid\\construction-684-_jpg.rf.d3a58971b9265ab6b677dba5f86593e3.jpg: ignoring corrupt image/label: Label class 9 exceeds dataset class count 8. Possible class labels are 0-7\n",
      "\u001b[34m\u001b[1mval: \u001b[0mWARNING  C:\\Users\\DARiN\\Documents\\Python-JL\\Github\\aai-501-final-project_dv\\datasets\\images\\valid\\construction-693-_jpg.rf.7d6b68c84e22ddbad80479d689c2e96e.jpg: ignoring corrupt image/label: Label class 9 exceeds dataset class count 8. Possible class labels are 0-7\n",
      "\u001b[34m\u001b[1mval: \u001b[0mWARNING  C:\\Users\\DARiN\\Documents\\Python-JL\\Github\\aai-501-final-project_dv\\datasets\\images\\valid\\construction-753-_jpg.rf.dd5aec5cecb776e35bf0f0b95627932f.jpg: ignoring corrupt image/label: Label class 9 exceeds dataset class count 8. Possible class labels are 0-7\n",
      "\u001b[34m\u001b[1mval: \u001b[0mWARNING  C:\\Users\\DARiN\\Documents\\Python-JL\\Github\\aai-501-final-project_dv\\datasets\\images\\valid\\construction-816-_jpg.rf.dcd3ed6a69a914c9f54050d3e07ca5a8.jpg: ignoring corrupt image/label: Label class 9 exceeds dataset class count 8. Possible class labels are 0-7\n",
      "\u001b[34m\u001b[1mval: \u001b[0mWARNING  C:\\Users\\DARiN\\Documents\\Python-JL\\Github\\aai-501-final-project_dv\\datasets\\images\\valid\\construction-821-_jpg.rf.a04939802a615158c97664c40de41013.jpg: ignoring corrupt image/label: Label class 9 exceeds dataset class count 8. Possible class labels are 0-7\n",
      "\u001b[34m\u001b[1mval: \u001b[0mWARNING  C:\\Users\\DARiN\\Documents\\Python-JL\\Github\\aai-501-final-project_dv\\datasets\\images\\valid\\construction-855-_jpg.rf.3631ade3b57ef3e8c3acd6104bfbd1e0.jpg: ignoring corrupt image/label: Label class 9 exceeds dataset class count 8. Possible class labels are 0-7\n",
      "\u001b[34m\u001b[1mval: \u001b[0mWARNING  C:\\Users\\DARiN\\Documents\\Python-JL\\Github\\aai-501-final-project_dv\\datasets\\images\\valid\\helmet999863_jpg.rf.532399683d5b56a404e935b18b13b9c3.jpg: ignoring corrupt image/label: Label class 9 exceeds dataset class count 8. Possible class labels are 0-7\n",
      "\u001b[34m\u001b[1mval: \u001b[0mWARNING  C:\\Users\\DARiN\\Documents\\Python-JL\\Github\\aai-501-final-project_dv\\datasets\\images\\valid\\hqdefault_jpg.rf.9c0863c96b57eb241f4ad482dd6a545d.jpg: ignoring corrupt image/label: Label class 9 exceeds dataset class count 8. Possible class labels are 0-7\n",
      "\u001b[34m\u001b[1mval: \u001b[0mWARNING  C:\\Users\\DARiN\\Documents\\Python-JL\\Github\\aai-501-final-project_dv\\datasets\\images\\valid\\image_191_jpg.rf.6696088664acbaad513226dc2962d19b.jpg: ignoring corrupt image/label: Label class 9 exceeds dataset class count 8. Possible class labels are 0-7\n",
      "\u001b[34m\u001b[1mval: \u001b[0mWARNING  C:\\Users\\DARiN\\Documents\\Python-JL\\Github\\aai-501-final-project_dv\\datasets\\images\\valid\\image_23_jpg.rf.8d8c02a91212d9c1f43fcae6d17defe0.jpg: ignoring corrupt image/label: Label class 9 exceeds dataset class count 8. Possible class labels are 0-7\n",
      "\u001b[34m\u001b[1mval: \u001b[0mWARNING  C:\\Users\\DARiN\\Documents\\Python-JL\\Github\\aai-501-final-project_dv\\datasets\\images\\valid\\image_23_jpg.rf.f140ebb7ae3740e5f867a899ec44e5e2.jpg: ignoring corrupt image/label: Label class 9 exceeds dataset class count 8. Possible class labels are 0-7\n",
      "\u001b[34m\u001b[1mval: \u001b[0mWARNING  C:\\Users\\DARiN\\Documents\\Python-JL\\Github\\aai-501-final-project_dv\\datasets\\images\\valid\\image_257_jpg.rf.fd3219a7fb8439fe4f600d235ca920e5.jpg: ignoring corrupt image/label: Label class 9 exceeds dataset class count 8. Possible class labels are 0-7\n",
      "\u001b[34m\u001b[1mval: \u001b[0mWARNING  C:\\Users\\DARiN\\Documents\\Python-JL\\Github\\aai-501-final-project_dv\\datasets\\images\\valid\\image_288_jpg.rf.f3ce8a0cb0824f37d91f151e6bc9e4e8.jpg: ignoring corrupt image/label: Label class 9 exceeds dataset class count 8. Possible class labels are 0-7\n",
      "\u001b[34m\u001b[1mval: \u001b[0mWARNING  C:\\Users\\DARiN\\Documents\\Python-JL\\Github\\aai-501-final-project_dv\\datasets\\images\\valid\\image_288_jpg.rf.f6f38c0bae911e5f24207dc97476307a.jpg: ignoring corrupt image/label: Label class 9 exceeds dataset class count 8. Possible class labels are 0-7\n",
      "\u001b[34m\u001b[1mval: \u001b[0mWARNING  C:\\Users\\DARiN\\Documents\\Python-JL\\Github\\aai-501-final-project_dv\\datasets\\images\\valid\\image_294_jpg.rf.42bccbf87a08517227f2506fd6c13592.jpg: ignoring corrupt image/label: Label class 9 exceeds dataset class count 8. Possible class labels are 0-7\n",
      "\u001b[34m\u001b[1mval: \u001b[0mWARNING  C:\\Users\\DARiN\\Documents\\Python-JL\\Github\\aai-501-final-project_dv\\datasets\\images\\valid\\image_314_jpg.rf.3496a5fdbb273b0f8388224cd07a6dfe.jpg: ignoring corrupt image/label: Label class 9 exceeds dataset class count 8. Possible class labels are 0-7\n",
      "\u001b[34m\u001b[1mval: \u001b[0mWARNING  C:\\Users\\DARiN\\Documents\\Python-JL\\Github\\aai-501-final-project_dv\\datasets\\images\\valid\\image_31_jpg.rf.df389b809c126343ee86d041142c8935.jpg: ignoring corrupt image/label: Label class 9 exceeds dataset class count 8. Possible class labels are 0-7\n",
      "\u001b[34m\u001b[1mval: \u001b[0mWARNING  C:\\Users\\DARiN\\Documents\\Python-JL\\Github\\aai-501-final-project_dv\\datasets\\images\\valid\\image_31_jpg.rf.e73e43acd927e29c86e1295201f71aef.jpg: ignoring corrupt image/label: Label class 9 exceeds dataset class count 8. Possible class labels are 0-7\n",
      "\u001b[34m\u001b[1mval: \u001b[0mWARNING  C:\\Users\\DARiN\\Documents\\Python-JL\\Github\\aai-501-final-project_dv\\datasets\\images\\valid\\image_426_jpg.rf.c7cde73ba46e86874c22e8b1bb2cf0fe.jpg: ignoring corrupt image/label: Label class 9 exceeds dataset class count 8. Possible class labels are 0-7\n",
      "\u001b[34m\u001b[1mval: \u001b[0mWARNING  C:\\Users\\DARiN\\Documents\\Python-JL\\Github\\aai-501-final-project_dv\\datasets\\images\\valid\\image_498_jpg.rf.76a2ee3fe770f86e7317163422598abf.jpg: ignoring corrupt image/label: Label class 9 exceeds dataset class count 8. Possible class labels are 0-7\n",
      "\u001b[34m\u001b[1mval: \u001b[0mWARNING  C:\\Users\\DARiN\\Documents\\Python-JL\\Github\\aai-501-final-project_dv\\datasets\\images\\valid\\image_50_jpg.rf.f32caa356378aa62bfc8a723e57d0f67.jpg: ignoring corrupt image/label: Label class 9 exceeds dataset class count 8. Possible class labels are 0-7\n",
      "\u001b[34m\u001b[1mval: \u001b[0mWARNING  C:\\Users\\DARiN\\Documents\\Python-JL\\Github\\aai-501-final-project_dv\\datasets\\images\\valid\\image_55_jpg.rf.687fe5037e332ac02eb6cc93310845be.jpg: ignoring corrupt image/label: Label class 9 exceeds dataset class count 8. Possible class labels are 0-7\n",
      "\u001b[34m\u001b[1mval: \u001b[0mWARNING  C:\\Users\\DARiN\\Documents\\Python-JL\\Github\\aai-501-final-project_dv\\datasets\\images\\valid\\image_55_jpg.rf.c2bafab72e0cdd8f765964b73df61128.jpg: ignoring corrupt image/label: Label class 9 exceeds dataset class count 8. Possible class labels are 0-7\n",
      "\u001b[34m\u001b[1mval: \u001b[0mWARNING  C:\\Users\\DARiN\\Documents\\Python-JL\\Github\\aai-501-final-project_dv\\datasets\\images\\valid\\image_575_jpg.rf.dc2951b0cc83d450252fd1a231cd0cf1.jpg: ignoring corrupt image/label: Label class 9 exceeds dataset class count 8. Possible class labels are 0-7\n",
      "\u001b[34m\u001b[1mval: \u001b[0mWARNING  C:\\Users\\DARiN\\Documents\\Python-JL\\Github\\aai-501-final-project_dv\\datasets\\images\\valid\\image_61_jpg.rf.d5e8864ef89417603f542c210b1d5c3a.jpg: ignoring corrupt image/label: Label class 9 exceeds dataset class count 8. Possible class labels are 0-7\n",
      "\u001b[34m\u001b[1mval: \u001b[0mWARNING  C:\\Users\\DARiN\\Documents\\Python-JL\\Github\\aai-501-final-project_dv\\datasets\\images\\valid\\image_647_jpg.rf.c52de236dce0a5e626062efce6251534.jpg: ignoring corrupt image/label: Label class 9 exceeds dataset class count 8. Possible class labels are 0-7\n",
      "\u001b[34m\u001b[1mval: \u001b[0mWARNING  C:\\Users\\DARiN\\Documents\\Python-JL\\Github\\aai-501-final-project_dv\\datasets\\images\\valid\\image_673_jpg.rf.5b0d43297701b36d7b9f870dabf04752.jpg: ignoring corrupt image/label: Label class 9 exceeds dataset class count 8. Possible class labels are 0-7\n",
      "\u001b[34m\u001b[1mval: \u001b[0mWARNING  C:\\Users\\DARiN\\Documents\\Python-JL\\Github\\aai-501-final-project_dv\\datasets\\images\\valid\\image_673_jpg.rf.b735afb05956b1748764df1dfe11f0cb.jpg: ignoring corrupt image/label: Label class 9 exceeds dataset class count 8. Possible class labels are 0-7\n",
      "\u001b[34m\u001b[1mval: \u001b[0mWARNING  C:\\Users\\DARiN\\Documents\\Python-JL\\Github\\aai-501-final-project_dv\\datasets\\images\\valid\\image_740_jpg.rf.49eabcd34fc8c43bde0320f3aebff84d.jpg: ignoring corrupt image/label: Label class 9 exceeds dataset class count 8. Possible class labels are 0-7\n",
      "\u001b[34m\u001b[1mval: \u001b[0mWARNING  C:\\Users\\DARiN\\Documents\\Python-JL\\Github\\aai-501-final-project_dv\\datasets\\images\\valid\\image_740_jpg.rf.a609426b253105a9150695c8988a5cc5.jpg: ignoring corrupt image/label: Label class 9 exceeds dataset class count 8. Possible class labels are 0-7\n",
      "\u001b[34m\u001b[1mval: \u001b[0mWARNING  C:\\Users\\DARiN\\Documents\\Python-JL\\Github\\aai-501-final-project_dv\\datasets\\images\\valid\\image_757_jpg.rf.0b5fe9980f12489e1ca7ee83428e6b36.jpg: ignoring corrupt image/label: Label class 9 exceeds dataset class count 8. Possible class labels are 0-7\n",
      "\u001b[34m\u001b[1mval: \u001b[0mWARNING  C:\\Users\\DARiN\\Documents\\Python-JL\\Github\\aai-501-final-project_dv\\datasets\\images\\valid\\image_875_jpg.rf.0f5439432d802c7229752bf569e7abc6.jpg: ignoring corrupt image/label: Label class 9 exceeds dataset class count 8. Possible class labels are 0-7\n",
      "\u001b[34m\u001b[1mval: \u001b[0mWARNING  C:\\Users\\DARiN\\Documents\\Python-JL\\Github\\aai-501-final-project_dv\\datasets\\images\\valid\\image_941_jpg.rf.0d7df052dcf719eb98f3c4de6c663af4.jpg: ignoring corrupt image/label: Label class 9 exceeds dataset class count 8. Possible class labels are 0-7\n",
      "\u001b[34m\u001b[1mval: \u001b[0mWARNING  C:\\Users\\DARiN\\Documents\\Python-JL\\Github\\aai-501-final-project_dv\\datasets\\images\\valid\\mms_00691_jpg.rf.1d6b11c8456794ca415e4e5f1e96e807.jpg: ignoring corrupt image/label: Label class 9 exceeds dataset class count 8. Possible class labels are 0-7\n",
      "\u001b[34m\u001b[1mval: \u001b[0mWARNING  C:\\Users\\DARiN\\Documents\\Python-JL\\Github\\aai-501-final-project_dv\\datasets\\images\\valid\\mms_00692_jpg.rf.a67d77e378aa35ede794ddd1946cc877.jpg: ignoring corrupt image/label: Label class 9 exceeds dataset class count 8. Possible class labels are 0-7\n",
      "\u001b[34m\u001b[1mval: \u001b[0mWARNING  C:\\Users\\DARiN\\Documents\\Python-JL\\Github\\aai-501-final-project_dv\\datasets\\images\\valid\\n190039_jpg.rf.e81596a1eda409a3f441c38bd7da6d2a.jpg: ignoring corrupt image/label: Label class 9 exceeds dataset class count 8. Possible class labels are 0-7\n",
      "\u001b[34m\u001b[1mval: \u001b[0mWARNING  C:\\Users\\DARiN\\Documents\\Python-JL\\Github\\aai-501-final-project_dv\\datasets\\images\\valid\\p65621379_jpg.rf.d0149504b7cfc4bdaa4fceb5a54f7a9e.jpg: ignoring corrupt image/label: Label class 9 exceeds dataset class count 8. Possible class labels are 0-7\n",
      "\u001b[34m\u001b[1mval: \u001b[0mWARNING  C:\\Users\\DARiN\\Documents\\Python-JL\\Github\\aai-501-final-project_dv\\datasets\\images\\valid\\ppe_0665_jpg.rf.1dad479f7f54b2a7127cf18ef74ffd85.jpg: ignoring corrupt image/label: Label class 9 exceeds dataset class count 8. Possible class labels are 0-7\n",
      "\u001b[34m\u001b[1mval: \u001b[0mWARNING  C:\\Users\\DARiN\\Documents\\Python-JL\\Github\\aai-501-final-project_dv\\datasets\\images\\valid\\ppe_0750_jpg.rf.6a25fb7ef7bba0bbadeaa81926f2500c.jpg: ignoring corrupt image/label: Label class 9 exceeds dataset class count 8. Possible class labels are 0-7\n",
      "\u001b[34m\u001b[1mval: \u001b[0mWARNING  C:\\Users\\DARiN\\Documents\\Python-JL\\Github\\aai-501-final-project_dv\\datasets\\images\\valid\\w1240-p16x9-fa978043deff83fed485af12d16e39c61398fc30_jpg.rf.94b38eda22e01dadf9abc84c3fb975e7.jpg: ignoring corrupt image/label: Label class 9 exceeds dataset class count 8. Possible class labels are 0-7\n",
      "\u001b[34m\u001b[1mval: \u001b[0mWARNING  C:\\Users\\DARiN\\Documents\\Python-JL\\Github\\aai-501-final-project_dv\\datasets\\images\\valid\\youtube-10_jpg.rf.3473cf1a8ce431126a38d48853c10368.jpg: ignoring corrupt image/label: Label class 9 exceeds dataset class count 8. Possible class labels are 0-7\n",
      "\u001b[34m\u001b[1mval: \u001b[0mWARNING  C:\\Users\\DARiN\\Documents\\Python-JL\\Github\\aai-501-final-project_dv\\datasets\\images\\valid\\youtube-152_jpg.rf.9147878e3ddda845e58f7d9c041f1338.jpg: ignoring corrupt image/label: Label class 9 exceeds dataset class count 8. Possible class labels are 0-7\n",
      "\u001b[34m\u001b[1mval: \u001b[0mWARNING  C:\\Users\\DARiN\\Documents\\Python-JL\\Github\\aai-501-final-project_dv\\datasets\\images\\valid\\youtube-170_jpg.rf.cc0e448b2db5c2583ed5a4de1b364edb.jpg: ignoring corrupt image/label: Label class 9 exceeds dataset class count 8. Possible class labels are 0-7\n",
      "\u001b[34m\u001b[1mval: \u001b[0mWARNING  C:\\Users\\DARiN\\Documents\\Python-JL\\Github\\aai-501-final-project_dv\\datasets\\images\\valid\\youtube-179_jpg.rf.bab3fbda351095d3b9aaba8007e3aa87.jpg: ignoring corrupt image/label: Label class 9 exceeds dataset class count 8. Possible class labels are 0-7\n",
      "\u001b[34m\u001b[1mval: \u001b[0mWARNING  C:\\Users\\DARiN\\Documents\\Python-JL\\Github\\aai-501-final-project_dv\\datasets\\images\\valid\\youtube-196_jpg.rf.a700e740fec48edb0579e1e037cf347f.jpg: ignoring corrupt image/label: Label class 9 exceeds dataset class count 8. Possible class labels are 0-7\n",
      "\u001b[34m\u001b[1mval: \u001b[0mWARNING  C:\\Users\\DARiN\\Documents\\Python-JL\\Github\\aai-501-final-project_dv\\datasets\\images\\valid\\youtube-207_jpg.rf.9e0f85119e6ae22ff1c5fa5272606c5c.jpg: ignoring corrupt image/label: Label class 9 exceeds dataset class count 8. Possible class labels are 0-7\n",
      "\u001b[34m\u001b[1mval: \u001b[0mWARNING  C:\\Users\\DARiN\\Documents\\Python-JL\\Github\\aai-501-final-project_dv\\datasets\\images\\valid\\youtube-207_jpg.rf.dc738796008648ccf390c4bb1a721c76.jpg: ignoring corrupt image/label: Label class 9 exceeds dataset class count 8. Possible class labels are 0-7\n",
      "\u001b[34m\u001b[1mval: \u001b[0mWARNING  C:\\Users\\DARiN\\Documents\\Python-JL\\Github\\aai-501-final-project_dv\\datasets\\images\\valid\\youtube-224_jpg.rf.e9877c51ff8b8cae6c2b865faa2e01df.jpg: ignoring corrupt image/label: Label class 9 exceeds dataset class count 8. Possible class labels are 0-7\n",
      "\u001b[34m\u001b[1mval: \u001b[0mWARNING  C:\\Users\\DARiN\\Documents\\Python-JL\\Github\\aai-501-final-project_dv\\datasets\\images\\valid\\youtube-234_jpg.rf.7ef1837f9909e7f0472f118282c28a7e.jpg: ignoring corrupt image/label: Label class 9 exceeds dataset class count 8. Possible class labels are 0-7\n",
      "\u001b[34m\u001b[1mval: \u001b[0mWARNING  C:\\Users\\DARiN\\Documents\\Python-JL\\Github\\aai-501-final-project_dv\\datasets\\images\\valid\\youtube-235_jpg.rf.4b25a9ac4d779e264f91b96f950f61e1.jpg: ignoring corrupt image/label: Label class 9 exceeds dataset class count 8. Possible class labels are 0-7\n",
      "\u001b[34m\u001b[1mval: \u001b[0mWARNING  C:\\Users\\DARiN\\Documents\\Python-JL\\Github\\aai-501-final-project_dv\\datasets\\images\\valid\\youtube-266_jpg.rf.170d1fe1b1ac1abe806b47f7a47c1211.jpg: ignoring corrupt image/label: Label class 9 exceeds dataset class count 8. Possible class labels are 0-7\n",
      "\u001b[34m\u001b[1mval: \u001b[0mWARNING  C:\\Users\\DARiN\\Documents\\Python-JL\\Github\\aai-501-final-project_dv\\datasets\\images\\valid\\youtube-272_jpg.rf.7dd66440ef8aa37bd17d50705dd38ccf.jpg: ignoring corrupt image/label: Label class 9 exceeds dataset class count 8. Possible class labels are 0-7\n",
      "\u001b[34m\u001b[1mval: \u001b[0mWARNING  C:\\Users\\DARiN\\Documents\\Python-JL\\Github\\aai-501-final-project_dv\\datasets\\images\\valid\\youtube-272_jpg.rf.a40270b67814f8d7cf05eedcdfda4d35.jpg: ignoring corrupt image/label: Label class 9 exceeds dataset class count 8. Possible class labels are 0-7\n",
      "\u001b[34m\u001b[1mval: \u001b[0mWARNING  C:\\Users\\DARiN\\Documents\\Python-JL\\Github\\aai-501-final-project_dv\\datasets\\images\\valid\\youtube-277_jpg.rf.1bda1581c28b4f6cccd5eda6b23b94ee.jpg: ignoring corrupt image/label: Label class 9 exceeds dataset class count 8. Possible class labels are 0-7\n",
      "\u001b[34m\u001b[1mval: \u001b[0mWARNING  C:\\Users\\DARiN\\Documents\\Python-JL\\Github\\aai-501-final-project_dv\\datasets\\images\\valid\\youtube-300_jpg.rf.d3c699a1d7e40b695296cddeb22f4a4a.jpg: ignoring corrupt image/label: Label class 9 exceeds dataset class count 8. Possible class labels are 0-7\n",
      "\u001b[34m\u001b[1mval: \u001b[0mWARNING  C:\\Users\\DARiN\\Documents\\Python-JL\\Github\\aai-501-final-project_dv\\datasets\\images\\valid\\youtube-303_jpg.rf.07b3e04bed6cfb84b6f10f2c02a305c3.jpg: ignoring corrupt image/label: Label class 9 exceeds dataset class count 8. Possible class labels are 0-7\n",
      "\u001b[34m\u001b[1mval: \u001b[0mWARNING  C:\\Users\\DARiN\\Documents\\Python-JL\\Github\\aai-501-final-project_dv\\datasets\\images\\valid\\youtube-332_jpg.rf.bd2882f0188e4e96db55817563b57e2d.jpg: ignoring corrupt image/label: Label class 9 exceeds dataset class count 8. Possible class labels are 0-7\n",
      "\u001b[34m\u001b[1mval: \u001b[0mWARNING  C:\\Users\\DARiN\\Documents\\Python-JL\\Github\\aai-501-final-project_dv\\datasets\\images\\valid\\youtube-342_jpg.rf.d7e55a17800f8d87313d7b6f33256ea9.jpg: ignoring corrupt image/label: Label class 9 exceeds dataset class count 8. Possible class labels are 0-7\n",
      "\u001b[34m\u001b[1mval: \u001b[0mWARNING  C:\\Users\\DARiN\\Documents\\Python-JL\\Github\\aai-501-final-project_dv\\datasets\\images\\valid\\youtube-348_jpg.rf.afbf521c4e2d7f221b58b6bbc3f39f4f.jpg: ignoring corrupt image/label: Label class 9 exceeds dataset class count 8. Possible class labels are 0-7\n",
      "\u001b[34m\u001b[1mval: \u001b[0mWARNING  C:\\Users\\DARiN\\Documents\\Python-JL\\Github\\aai-501-final-project_dv\\datasets\\images\\valid\\youtube-348_jpg.rf.f0c0935c79f1c2b59a63daa2b24ec45a.jpg: ignoring corrupt image/label: Label class 9 exceeds dataset class count 8. Possible class labels are 0-7\n",
      "\u001b[34m\u001b[1mval: \u001b[0mWARNING  C:\\Users\\DARiN\\Documents\\Python-JL\\Github\\aai-501-final-project_dv\\datasets\\images\\valid\\youtube-391_jpg.rf.c61a67d5bceb5f24951ba13f67e75ee9.jpg: ignoring corrupt image/label: Label class 9 exceeds dataset class count 8. Possible class labels are 0-7\n",
      "\u001b[34m\u001b[1mval: \u001b[0mWARNING  C:\\Users\\DARiN\\Documents\\Python-JL\\Github\\aai-501-final-project_dv\\datasets\\images\\valid\\youtube-395_jpg.rf.c96f418ca6745816e4d204d36453f59f.jpg: ignoring corrupt image/label: Label class 9 exceeds dataset class count 8. Possible class labels are 0-7\n",
      "\u001b[34m\u001b[1mval: \u001b[0mWARNING  C:\\Users\\DARiN\\Documents\\Python-JL\\Github\\aai-501-final-project_dv\\datasets\\images\\valid\\youtube-399_jpg.rf.3472ef7c01bb9092da48f0d562581121.jpg: ignoring corrupt image/label: Label class 9 exceeds dataset class count 8. Possible class labels are 0-7\n",
      "\u001b[34m\u001b[1mval: \u001b[0mWARNING  C:\\Users\\DARiN\\Documents\\Python-JL\\Github\\aai-501-final-project_dv\\datasets\\images\\valid\\youtube-42_jpg.rf.19ea5285f45d536c6440ee4fdf8efe66.jpg: ignoring corrupt image/label: Label class 9 exceeds dataset class count 8. Possible class labels are 0-7\n",
      "\u001b[34m\u001b[1mval: \u001b[0mWARNING  C:\\Users\\DARiN\\Documents\\Python-JL\\Github\\aai-501-final-project_dv\\datasets\\images\\valid\\youtube-455_jpg.rf.35acd2e91608806a26f3ac4e784ea512.jpg: ignoring corrupt image/label: Label class 9 exceeds dataset class count 8. Possible class labels are 0-7\n",
      "\u001b[34m\u001b[1mval: \u001b[0mWARNING  C:\\Users\\DARiN\\Documents\\Python-JL\\Github\\aai-501-final-project_dv\\datasets\\images\\valid\\youtube-459_jpg.rf.0cb0664d323d2c5610c34fcfcb706be5.jpg: ignoring corrupt image/label: Label class 9 exceeds dataset class count 8. Possible class labels are 0-7\n",
      "\u001b[34m\u001b[1mval: \u001b[0mWARNING  C:\\Users\\DARiN\\Documents\\Python-JL\\Github\\aai-501-final-project_dv\\datasets\\images\\valid\\youtube-460_jpg.rf.d2dee92d138a460505332c0a5dd32432.jpg: ignoring corrupt image/label: Label class 9 exceeds dataset class count 8. Possible class labels are 0-7\n",
      "\u001b[34m\u001b[1mval: \u001b[0mWARNING  C:\\Users\\DARiN\\Documents\\Python-JL\\Github\\aai-501-final-project_dv\\datasets\\images\\valid\\youtube-464_jpg.rf.3806bb90d6e44e83c13c4b61058d08d3.jpg: ignoring corrupt image/label: Label class 9 exceeds dataset class count 8. Possible class labels are 0-7\n",
      "\u001b[34m\u001b[1mval: \u001b[0mWARNING  C:\\Users\\DARiN\\Documents\\Python-JL\\Github\\aai-501-final-project_dv\\datasets\\images\\valid\\youtube-49_jpg.rf.6b186aca14e415e245c0d9c01ae3865b.jpg: ignoring corrupt image/label: Label class 9 exceeds dataset class count 8. Possible class labels are 0-7\n",
      "\u001b[34m\u001b[1mval: \u001b[0mWARNING  C:\\Users\\DARiN\\Documents\\Python-JL\\Github\\aai-501-final-project_dv\\datasets\\images\\valid\\youtube-49_jpg.rf.dd69eec01082ff31e87b46c4b616b5b0.jpg: ignoring corrupt image/label: Label class 9 exceeds dataset class count 8. Possible class labels are 0-7\n",
      "\u001b[34m\u001b[1mval: \u001b[0mWARNING  C:\\Users\\DARiN\\Documents\\Python-JL\\Github\\aai-501-final-project_dv\\datasets\\images\\valid\\youtube-507_jpg.rf.e3928fd0a5c1e25ab42359aa1a34a6ad.jpg: ignoring corrupt image/label: Label class 9 exceeds dataset class count 8. Possible class labels are 0-7\n",
      "\u001b[34m\u001b[1mval: \u001b[0mWARNING  C:\\Users\\DARiN\\Documents\\Python-JL\\Github\\aai-501-final-project_dv\\datasets\\images\\valid\\youtube-554_jpg.rf.12abc545630972a6e272892494a59dcc.jpg: ignoring corrupt image/label: Label class 9 exceeds dataset class count 8. Possible class labels are 0-7\n",
      "\u001b[34m\u001b[1mval: \u001b[0mWARNING  C:\\Users\\DARiN\\Documents\\Python-JL\\Github\\aai-501-final-project_dv\\datasets\\images\\valid\\youtube-60_jpg.rf.17608ba2791115490e8624a0c0834f31.jpg: ignoring corrupt image/label: Label class 9 exceeds dataset class count 8. Possible class labels are 0-7\n",
      "\u001b[34m\u001b[1mval: \u001b[0mWARNING  C:\\Users\\DARiN\\Documents\\Python-JL\\Github\\aai-501-final-project_dv\\datasets\\images\\valid\\youtube-639_jpg.rf.351b2d526e4925e2d0bb07cca4f0609d.jpg: ignoring corrupt image/label: Label class 9 exceeds dataset class count 8. Possible class labels are 0-7\n",
      "\u001b[34m\u001b[1mval: \u001b[0mWARNING  C:\\Users\\DARiN\\Documents\\Python-JL\\Github\\aai-501-final-project_dv\\datasets\\images\\valid\\youtube-682_jpg.rf.2fa20caf1414b1fda785e4ade07a0bd7.jpg: ignoring corrupt image/label: Label class 9 exceeds dataset class count 8. Possible class labels are 0-7\n",
      "\u001b[34m\u001b[1mval: \u001b[0mWARNING  C:\\Users\\DARiN\\Documents\\Python-JL\\Github\\aai-501-final-project_dv\\datasets\\images\\valid\\youtube-699_jpg.rf.ced94dd4765a8ff9fe60e7648179fb6d.jpg: ignoring corrupt image/label: Label class 9 exceeds dataset class count 8. Possible class labels are 0-7\n",
      "\u001b[34m\u001b[1mval: \u001b[0mWARNING  C:\\Users\\DARiN\\Documents\\Python-JL\\Github\\aai-501-final-project_dv\\datasets\\images\\valid\\youtube-730_jpg.rf.26bec93a311351ca9c06119164ef8de5.jpg: ignoring corrupt image/label: Label class 9 exceeds dataset class count 8. Possible class labels are 0-7\n",
      "\u001b[34m\u001b[1mval: \u001b[0mWARNING  C:\\Users\\DARiN\\Documents\\Python-JL\\Github\\aai-501-final-project_dv\\datasets\\images\\valid\\youtube-813_jpg.rf.63b422efff31ad667fbb228d39e0a2eb.jpg: ignoring corrupt image/label: Label class 9 exceeds dataset class count 8. Possible class labels are 0-7\n",
      "\u001b[34m\u001b[1mval: \u001b[0mWARNING  C:\\Users\\DARiN\\Documents\\Python-JL\\Github\\aai-501-final-project_dv\\datasets\\images\\valid\\youtube-824_jpg.rf.7c7e967cd3132bc0a9236facb9d8a9b8.jpg: ignoring corrupt image/label: Label class 9 exceeds dataset class count 8. Possible class labels are 0-7\n",
      "\u001b[34m\u001b[1mval: \u001b[0mWARNING  C:\\Users\\DARiN\\Documents\\Python-JL\\Github\\aai-501-final-project_dv\\datasets\\images\\valid\\youtube-832_jpg.rf.c023f5b9bb1c65636e5cab3064f7ab7b.jpg: ignoring corrupt image/label: Label class 9 exceeds dataset class count 8. Possible class labels are 0-7\n",
      "\u001b[34m\u001b[1mval: \u001b[0mWARNING  C:\\Users\\DARiN\\Documents\\Python-JL\\Github\\aai-501-final-project_dv\\datasets\\images\\valid\\youtube-837_jpg.rf.1c9fe1c871e46ff877c1f2b443576319.jpg: ignoring corrupt image/label: Label class 9 exceeds dataset class count 8. Possible class labels are 0-7\n",
      "\u001b[34m\u001b[1mval: \u001b[0mWARNING  C:\\Users\\DARiN\\Documents\\Python-JL\\Github\\aai-501-final-project_dv\\datasets\\images\\valid\\youtube-855_jpg.rf.346f539ebe7317c5c7202185ddd56af5.jpg: ignoring corrupt image/label: Label class 9 exceeds dataset class count 8. Possible class labels are 0-7\n",
      "Plotting labels to runs\\detect\\train56\\labels.jpg... \n"
     ]
    },
    {
     "name": "stderr",
     "output_type": "stream",
     "text": [
      "\n"
     ]
    },
    {
     "name": "stdout",
     "output_type": "stream",
     "text": [
      "\u001b[34m\u001b[1moptimizer:\u001b[0m 'optimizer=auto' found, ignoring 'lr0=0.01' and 'momentum=0.937' and determining best 'optimizer', 'lr0' and 'momentum' automatically... \n",
      "\u001b[34m\u001b[1moptimizer:\u001b[0m AdamW(lr=0.000714, momentum=0.9) with parameter groups 57 weight(decay=0.0), 64 weight(decay=0.0005), 63 bias(decay=0.0)\n",
      "Image sizes 640 train, 640 val\n",
      "Using 0 dataloader workers\n",
      "Logging results to \u001b[1mruns\\detect\\train56\u001b[0m\n",
      "Starting training for 10 epochs...\n",
      "Closing dataloader mosaic\n",
      "\u001b[34m\u001b[1malbumentations: \u001b[0mBlur(p=0.01, blur_limit=(3, 7)), MedianBlur(p=0.01, blur_limit=(3, 7)), ToGray(p=0.01, num_output_channels=3, method='weighted_average'), CLAHE(p=0.01, clip_limit=(1.0, 4.0), tile_grid_size=(8, 8))\n",
      "\n",
      "      Epoch    GPU_mem   box_loss   cls_loss   dfl_loss  Instances       Size\n"
     ]
    },
    {
     "name": "stderr",
     "output_type": "stream",
     "text": [
      "       1/10         0G      1.546      3.841      1.629         11        640: 100%|██████████| 14/14 [00:19<00:00,  1.\n",
      "                 Class     Images  Instances      Box(P          R      mAP50  mAP50-95): 100%|██████████| 13/13 [00:19"
     ]
    },
    {
     "name": "stdout",
     "output_type": "stream",
     "text": [
      "                   all        405       4979     0.0285       0.33      0.101      0.058\n"
     ]
    },
    {
     "name": "stderr",
     "output_type": "stream",
     "text": [
      "\n"
     ]
    },
    {
     "name": "stdout",
     "output_type": "stream",
     "text": [
      "\n",
      "      Epoch    GPU_mem   box_loss   cls_loss   dfl_loss  Instances       Size\n"
     ]
    },
    {
     "name": "stderr",
     "output_type": "stream",
     "text": [
      "       2/10         0G      1.408      3.432      1.544         17        640: 100%|██████████| 14/14 [00:17<00:00,  1.\n",
      "                 Class     Images  Instances      Box(P          R      mAP50  mAP50-95): 100%|██████████| 13/13 [00:19"
     ]
    },
    {
     "name": "stdout",
     "output_type": "stream",
     "text": [
      "                   all        405       4979     0.0241      0.327      0.117     0.0723\n"
     ]
    },
    {
     "name": "stderr",
     "output_type": "stream",
     "text": [
      "\n"
     ]
    },
    {
     "name": "stdout",
     "output_type": "stream",
     "text": [
      "\n",
      "      Epoch    GPU_mem   box_loss   cls_loss   dfl_loss  Instances       Size\n"
     ]
    },
    {
     "name": "stderr",
     "output_type": "stream",
     "text": [
      "       3/10         0G      1.464      2.942      1.521          8        640: 100%|██████████| 14/14 [00:19<00:00,  1.\n",
      "                 Class     Images  Instances      Box(P          R      mAP50  mAP50-95): 100%|██████████| 13/13 [00:19"
     ]
    },
    {
     "name": "stdout",
     "output_type": "stream",
     "text": [
      "                   all        405       4979      0.934     0.0645      0.113     0.0695\n"
     ]
    },
    {
     "name": "stderr",
     "output_type": "stream",
     "text": [
      "\n"
     ]
    },
    {
     "name": "stdout",
     "output_type": "stream",
     "text": [
      "\n",
      "      Epoch    GPU_mem   box_loss   cls_loss   dfl_loss  Instances       Size\n"
     ]
    },
    {
     "name": "stderr",
     "output_type": "stream",
     "text": [
      "       4/10         0G      1.393      2.664      1.538          3        640: 100%|██████████| 14/14 [00:20<00:00,  1.\n",
      "                 Class     Images  Instances      Box(P          R      mAP50  mAP50-95): 100%|██████████| 13/13 [00:20"
     ]
    },
    {
     "name": "stdout",
     "output_type": "stream",
     "text": [
      "                   all        405       4979      0.804     0.0977      0.179      0.104\n"
     ]
    },
    {
     "name": "stderr",
     "output_type": "stream",
     "text": [
      "\n"
     ]
    },
    {
     "name": "stdout",
     "output_type": "stream",
     "text": [
      "\n",
      "      Epoch    GPU_mem   box_loss   cls_loss   dfl_loss  Instances       Size\n"
     ]
    },
    {
     "name": "stderr",
     "output_type": "stream",
     "text": [
      "       5/10         0G      1.408      2.391      1.517         11        640: 100%|██████████| 14/14 [00:19<00:00,  1.\n",
      "                 Class     Images  Instances      Box(P          R      mAP50  mAP50-95): 100%|██████████| 13/13 [00:19"
     ]
    },
    {
     "name": "stdout",
     "output_type": "stream",
     "text": [
      "                   all        405       4979      0.658       0.13      0.231      0.129\n"
     ]
    },
    {
     "name": "stderr",
     "output_type": "stream",
     "text": [
      "\n"
     ]
    },
    {
     "name": "stdout",
     "output_type": "stream",
     "text": [
      "\n",
      "      Epoch    GPU_mem   box_loss   cls_loss   dfl_loss  Instances       Size\n"
     ]
    },
    {
     "name": "stderr",
     "output_type": "stream",
     "text": [
      "       6/10         0G      1.357      2.184      1.476          7        640: 100%|██████████| 14/14 [00:20<00:00,  1.\n",
      "                 Class     Images  Instances      Box(P          R      mAP50  mAP50-95): 100%|██████████| 13/13 [00:20"
     ]
    },
    {
     "name": "stdout",
     "output_type": "stream",
     "text": [
      "                   all        405       4979      0.401      0.215      0.269      0.149\n"
     ]
    },
    {
     "name": "stderr",
     "output_type": "stream",
     "text": [
      "\n"
     ]
    },
    {
     "name": "stdout",
     "output_type": "stream",
     "text": [
      "\n",
      "      Epoch    GPU_mem   box_loss   cls_loss   dfl_loss  Instances       Size\n"
     ]
    },
    {
     "name": "stderr",
     "output_type": "stream",
     "text": [
      "       7/10         0G      1.306      2.052      1.442          8        640: 100%|██████████| 14/14 [00:18<00:00,  1.\n",
      "                 Class     Images  Instances      Box(P          R      mAP50  mAP50-95): 100%|██████████| 13/13 [00:19"
     ]
    },
    {
     "name": "stdout",
     "output_type": "stream",
     "text": [
      "                   all        405       4979      0.476      0.272      0.298      0.167\n"
     ]
    },
    {
     "name": "stderr",
     "output_type": "stream",
     "text": [
      "\n"
     ]
    },
    {
     "name": "stdout",
     "output_type": "stream",
     "text": [
      "\n",
      "      Epoch    GPU_mem   box_loss   cls_loss   dfl_loss  Instances       Size\n"
     ]
    },
    {
     "name": "stderr",
     "output_type": "stream",
     "text": [
      "       8/10         0G      1.279      2.018      1.439          6        640: 100%|██████████| 14/14 [00:19<00:00,  1.\n",
      "                 Class     Images  Instances      Box(P          R      mAP50  mAP50-95): 100%|██████████| 13/13 [00:20"
     ]
    },
    {
     "name": "stdout",
     "output_type": "stream",
     "text": [
      "                   all        405       4979       0.44      0.333      0.336      0.189\n"
     ]
    },
    {
     "name": "stderr",
     "output_type": "stream",
     "text": [
      "\n"
     ]
    },
    {
     "name": "stdout",
     "output_type": "stream",
     "text": [
      "\n",
      "      Epoch    GPU_mem   box_loss   cls_loss   dfl_loss  Instances       Size\n"
     ]
    },
    {
     "name": "stderr",
     "output_type": "stream",
     "text": [
      "       9/10         0G      1.321      1.934      1.459          6        640: 100%|██████████| 14/14 [00:18<00:00,  1.\n",
      "                 Class     Images  Instances      Box(P          R      mAP50  mAP50-95): 100%|██████████| 13/13 [00:21"
     ]
    },
    {
     "name": "stdout",
     "output_type": "stream",
     "text": [
      "                   all        405       4979      0.466      0.356      0.359        0.2\n"
     ]
    },
    {
     "name": "stderr",
     "output_type": "stream",
     "text": [
      "\n"
     ]
    },
    {
     "name": "stdout",
     "output_type": "stream",
     "text": [
      "\n",
      "      Epoch    GPU_mem   box_loss   cls_loss   dfl_loss  Instances       Size\n"
     ]
    },
    {
     "name": "stderr",
     "output_type": "stream",
     "text": [
      "      10/10         0G      1.234      1.911      1.382          5        640: 100%|██████████| 14/14 [00:18<00:00,  1.\n",
      "                 Class     Images  Instances      Box(P          R      mAP50  mAP50-95): 100%|██████████| 13/13 [00:21"
     ]
    },
    {
     "name": "stdout",
     "output_type": "stream",
     "text": [
      "                   all        405       4979       0.47      0.365      0.371      0.208\n"
     ]
    },
    {
     "name": "stderr",
     "output_type": "stream",
     "text": [
      "\n"
     ]
    },
    {
     "name": "stdout",
     "output_type": "stream",
     "text": [
      "\n",
      "10 epochs completed in 0.111 hours.\n",
      "Optimizer stripped from runs\\detect\\train56\\weights\\last.pt, 6.2MB\n",
      "Optimizer stripped from runs\\detect\\train56\\weights\\best.pt, 6.2MB\n",
      "\n",
      "Validating runs\\detect\\train56\\weights\\best.pt...\n",
      "Ultralytics 8.3.32  Python-3.12.4 torch-2.5.1+cpu CPU (Intel Core(TM) i9-14900KF)\n",
      "Model summary (fused): 168 layers, 3,007,598 parameters, 0 gradients, 8.1 GFLOPs\n"
     ]
    },
    {
     "name": "stderr",
     "output_type": "stream",
     "text": [
      "                 Class     Images  Instances      Box(P          R      mAP50  mAP50-95): 100%|██████████| 13/13 [00:16\n"
     ]
    },
    {
     "name": "stdout",
     "output_type": "stream",
     "text": [
      "                   all        405       4979      0.471      0.365      0.371      0.208\n",
      "               Hardhat        181        493       0.74       0.49      0.537       0.29\n",
      "                  Mask        177        244       0.69      0.463      0.521      0.289\n",
      "            NO-Hardhat        216        355       0.35      0.268       0.23      0.107\n",
      "               NO-Mask        223        484      0.247      0.107     0.0817     0.0264\n",
      "        NO-Safety Vest        292        612      0.443      0.227      0.259      0.135\n",
      "                Person        385       1456      0.665      0.594      0.641       0.42\n",
      "           Safety Cone         44        116      0.188      0.147     0.0966     0.0304\n",
      "           Safety Vest        183        445      0.386      0.324      0.313      0.146\n",
      "             Machinery        311        774      0.527      0.668      0.657      0.426\n",
      "Speed: 0.9ms preprocess, 26.1ms inference, 0.0ms loss, 9.3ms postprocess per image\n",
      "Results saved to \u001b[1mruns\\detect\\train56\u001b[0m\n"
     ]
    },
    {
     "data": {
      "text/plain": [
       "ultralytics.utils.metrics.DetMetrics object with attributes:\n",
       "\n",
       "ap_class_index: array([0, 1, 2, 3, 4, 5, 6, 7, 8])\n",
       "box: ultralytics.utils.metrics.Metric object\n",
       "confusion_matrix: <ultralytics.utils.metrics.ConfusionMatrix object at 0x00000211AA029040>\n",
       "curves: ['Precision-Recall(B)', 'F1-Confidence(B)', 'Precision-Confidence(B)', 'Recall-Confidence(B)']\n",
       "curves_results: [[array([          0,    0.001001,    0.002002,    0.003003,    0.004004,    0.005005,    0.006006,    0.007007,    0.008008,    0.009009,     0.01001,    0.011011,    0.012012,    0.013013,    0.014014,    0.015015,    0.016016,    0.017017,    0.018018,    0.019019,     0.02002,    0.021021,    0.022022,    0.023023,\n",
       "          0.024024,    0.025025,    0.026026,    0.027027,    0.028028,    0.029029,     0.03003,    0.031031,    0.032032,    0.033033,    0.034034,    0.035035,    0.036036,    0.037037,    0.038038,    0.039039,     0.04004,    0.041041,    0.042042,    0.043043,    0.044044,    0.045045,    0.046046,    0.047047,\n",
       "          0.048048,    0.049049,     0.05005,    0.051051,    0.052052,    0.053053,    0.054054,    0.055055,    0.056056,    0.057057,    0.058058,    0.059059,     0.06006,    0.061061,    0.062062,    0.063063,    0.064064,    0.065065,    0.066066,    0.067067,    0.068068,    0.069069,     0.07007,    0.071071,\n",
       "          0.072072,    0.073073,    0.074074,    0.075075,    0.076076,    0.077077,    0.078078,    0.079079,     0.08008,    0.081081,    0.082082,    0.083083,    0.084084,    0.085085,    0.086086,    0.087087,    0.088088,    0.089089,     0.09009,    0.091091,    0.092092,    0.093093,    0.094094,    0.095095,\n",
       "          0.096096,    0.097097,    0.098098,    0.099099,      0.1001,      0.1011,      0.1021,      0.1031,      0.1041,     0.10511,     0.10611,     0.10711,     0.10811,     0.10911,     0.11011,     0.11111,     0.11211,     0.11311,     0.11411,     0.11512,     0.11612,     0.11712,     0.11812,     0.11912,\n",
       "           0.12012,     0.12112,     0.12212,     0.12312,     0.12412,     0.12513,     0.12613,     0.12713,     0.12813,     0.12913,     0.13013,     0.13113,     0.13213,     0.13313,     0.13413,     0.13514,     0.13614,     0.13714,     0.13814,     0.13914,     0.14014,     0.14114,     0.14214,     0.14314,\n",
       "           0.14414,     0.14515,     0.14615,     0.14715,     0.14815,     0.14915,     0.15015,     0.15115,     0.15215,     0.15315,     0.15415,     0.15516,     0.15616,     0.15716,     0.15816,     0.15916,     0.16016,     0.16116,     0.16216,     0.16316,     0.16416,     0.16517,     0.16617,     0.16717,\n",
       "           0.16817,     0.16917,     0.17017,     0.17117,     0.17217,     0.17317,     0.17417,     0.17518,     0.17618,     0.17718,     0.17818,     0.17918,     0.18018,     0.18118,     0.18218,     0.18318,     0.18418,     0.18519,     0.18619,     0.18719,     0.18819,     0.18919,     0.19019,     0.19119,\n",
       "           0.19219,     0.19319,     0.19419,      0.1952,      0.1962,      0.1972,      0.1982,      0.1992,      0.2002,      0.2012,      0.2022,      0.2032,      0.2042,     0.20521,     0.20621,     0.20721,     0.20821,     0.20921,     0.21021,     0.21121,     0.21221,     0.21321,     0.21421,     0.21522,\n",
       "           0.21622,     0.21722,     0.21822,     0.21922,     0.22022,     0.22122,     0.22222,     0.22322,     0.22422,     0.22523,     0.22623,     0.22723,     0.22823,     0.22923,     0.23023,     0.23123,     0.23223,     0.23323,     0.23423,     0.23524,     0.23624,     0.23724,     0.23824,     0.23924,\n",
       "           0.24024,     0.24124,     0.24224,     0.24324,     0.24424,     0.24525,     0.24625,     0.24725,     0.24825,     0.24925,     0.25025,     0.25125,     0.25225,     0.25325,     0.25425,     0.25526,     0.25626,     0.25726,     0.25826,     0.25926,     0.26026,     0.26126,     0.26226,     0.26326,\n",
       "           0.26426,     0.26527,     0.26627,     0.26727,     0.26827,     0.26927,     0.27027,     0.27127,     0.27227,     0.27327,     0.27427,     0.27528,     0.27628,     0.27728,     0.27828,     0.27928,     0.28028,     0.28128,     0.28228,     0.28328,     0.28428,     0.28529,     0.28629,     0.28729,\n",
       "           0.28829,     0.28929,     0.29029,     0.29129,     0.29229,     0.29329,     0.29429,      0.2953,      0.2963,      0.2973,      0.2983,      0.2993,      0.3003,      0.3013,      0.3023,      0.3033,      0.3043,     0.30531,     0.30631,     0.30731,     0.30831,     0.30931,     0.31031,     0.31131,\n",
       "           0.31231,     0.31331,     0.31431,     0.31532,     0.31632,     0.31732,     0.31832,     0.31932,     0.32032,     0.32132,     0.32232,     0.32332,     0.32432,     0.32533,     0.32633,     0.32733,     0.32833,     0.32933,     0.33033,     0.33133,     0.33233,     0.33333,     0.33433,     0.33534,\n",
       "           0.33634,     0.33734,     0.33834,     0.33934,     0.34034,     0.34134,     0.34234,     0.34334,     0.34434,     0.34535,     0.34635,     0.34735,     0.34835,     0.34935,     0.35035,     0.35135,     0.35235,     0.35335,     0.35435,     0.35536,     0.35636,     0.35736,     0.35836,     0.35936,\n",
       "           0.36036,     0.36136,     0.36236,     0.36336,     0.36436,     0.36537,     0.36637,     0.36737,     0.36837,     0.36937,     0.37037,     0.37137,     0.37237,     0.37337,     0.37437,     0.37538,     0.37638,     0.37738,     0.37838,     0.37938,     0.38038,     0.38138,     0.38238,     0.38338,\n",
       "           0.38438,     0.38539,     0.38639,     0.38739,     0.38839,     0.38939,     0.39039,     0.39139,     0.39239,     0.39339,     0.39439,      0.3954,      0.3964,      0.3974,      0.3984,      0.3994,      0.4004,      0.4014,      0.4024,      0.4034,      0.4044,     0.40541,     0.40641,     0.40741,\n",
       "           0.40841,     0.40941,     0.41041,     0.41141,     0.41241,     0.41341,     0.41441,     0.41542,     0.41642,     0.41742,     0.41842,     0.41942,     0.42042,     0.42142,     0.42242,     0.42342,     0.42442,     0.42543,     0.42643,     0.42743,     0.42843,     0.42943,     0.43043,     0.43143,\n",
       "           0.43243,     0.43343,     0.43443,     0.43544,     0.43644,     0.43744,     0.43844,     0.43944,     0.44044,     0.44144,     0.44244,     0.44344,     0.44444,     0.44545,     0.44645,     0.44745,     0.44845,     0.44945,     0.45045,     0.45145,     0.45245,     0.45345,     0.45445,     0.45546,\n",
       "           0.45646,     0.45746,     0.45846,     0.45946,     0.46046,     0.46146,     0.46246,     0.46346,     0.46446,     0.46547,     0.46647,     0.46747,     0.46847,     0.46947,     0.47047,     0.47147,     0.47247,     0.47347,     0.47447,     0.47548,     0.47648,     0.47748,     0.47848,     0.47948,\n",
       "           0.48048,     0.48148,     0.48248,     0.48348,     0.48448,     0.48549,     0.48649,     0.48749,     0.48849,     0.48949,     0.49049,     0.49149,     0.49249,     0.49349,     0.49449,      0.4955,      0.4965,      0.4975,      0.4985,      0.4995,      0.5005,      0.5015,      0.5025,      0.5035,\n",
       "            0.5045,     0.50551,     0.50651,     0.50751,     0.50851,     0.50951,     0.51051,     0.51151,     0.51251,     0.51351,     0.51451,     0.51552,     0.51652,     0.51752,     0.51852,     0.51952,     0.52052,     0.52152,     0.52252,     0.52352,     0.52452,     0.52553,     0.52653,     0.52753,\n",
       "           0.52853,     0.52953,     0.53053,     0.53153,     0.53253,     0.53353,     0.53453,     0.53554,     0.53654,     0.53754,     0.53854,     0.53954,     0.54054,     0.54154,     0.54254,     0.54354,     0.54454,     0.54555,     0.54655,     0.54755,     0.54855,     0.54955,     0.55055,     0.55155,\n",
       "           0.55255,     0.55355,     0.55455,     0.55556,     0.55656,     0.55756,     0.55856,     0.55956,     0.56056,     0.56156,     0.56256,     0.56356,     0.56456,     0.56557,     0.56657,     0.56757,     0.56857,     0.56957,     0.57057,     0.57157,     0.57257,     0.57357,     0.57457,     0.57558,\n",
       "           0.57658,     0.57758,     0.57858,     0.57958,     0.58058,     0.58158,     0.58258,     0.58358,     0.58458,     0.58559,     0.58659,     0.58759,     0.58859,     0.58959,     0.59059,     0.59159,     0.59259,     0.59359,     0.59459,      0.5956,      0.5966,      0.5976,      0.5986,      0.5996,\n",
       "            0.6006,      0.6016,      0.6026,      0.6036,      0.6046,     0.60561,     0.60661,     0.60761,     0.60861,     0.60961,     0.61061,     0.61161,     0.61261,     0.61361,     0.61461,     0.61562,     0.61662,     0.61762,     0.61862,     0.61962,     0.62062,     0.62162,     0.62262,     0.62362,\n",
       "           0.62462,     0.62563,     0.62663,     0.62763,     0.62863,     0.62963,     0.63063,     0.63163,     0.63263,     0.63363,     0.63463,     0.63564,     0.63664,     0.63764,     0.63864,     0.63964,     0.64064,     0.64164,     0.64264,     0.64364,     0.64464,     0.64565,     0.64665,     0.64765,\n",
       "           0.64865,     0.64965,     0.65065,     0.65165,     0.65265,     0.65365,     0.65465,     0.65566,     0.65666,     0.65766,     0.65866,     0.65966,     0.66066,     0.66166,     0.66266,     0.66366,     0.66466,     0.66567,     0.66667,     0.66767,     0.66867,     0.66967,     0.67067,     0.67167,\n",
       "           0.67267,     0.67367,     0.67467,     0.67568,     0.67668,     0.67768,     0.67868,     0.67968,     0.68068,     0.68168,     0.68268,     0.68368,     0.68468,     0.68569,     0.68669,     0.68769,     0.68869,     0.68969,     0.69069,     0.69169,     0.69269,     0.69369,     0.69469,      0.6957,\n",
       "            0.6967,      0.6977,      0.6987,      0.6997,      0.7007,      0.7017,      0.7027,      0.7037,      0.7047,     0.70571,     0.70671,     0.70771,     0.70871,     0.70971,     0.71071,     0.71171,     0.71271,     0.71371,     0.71471,     0.71572,     0.71672,     0.71772,     0.71872,     0.71972,\n",
       "           0.72072,     0.72172,     0.72272,     0.72372,     0.72472,     0.72573,     0.72673,     0.72773,     0.72873,     0.72973,     0.73073,     0.73173,     0.73273,     0.73373,     0.73473,     0.73574,     0.73674,     0.73774,     0.73874,     0.73974,     0.74074,     0.74174,     0.74274,     0.74374,\n",
       "           0.74474,     0.74575,     0.74675,     0.74775,     0.74875,     0.74975,     0.75075,     0.75175,     0.75275,     0.75375,     0.75475,     0.75576,     0.75676,     0.75776,     0.75876,     0.75976,     0.76076,     0.76176,     0.76276,     0.76376,     0.76476,     0.76577,     0.76677,     0.76777,\n",
       "           0.76877,     0.76977,     0.77077,     0.77177,     0.77277,     0.77377,     0.77477,     0.77578,     0.77678,     0.77778,     0.77878,     0.77978,     0.78078,     0.78178,     0.78278,     0.78378,     0.78478,     0.78579,     0.78679,     0.78779,     0.78879,     0.78979,     0.79079,     0.79179,\n",
       "           0.79279,     0.79379,     0.79479,      0.7958,      0.7968,      0.7978,      0.7988,      0.7998,      0.8008,      0.8018,      0.8028,      0.8038,      0.8048,     0.80581,     0.80681,     0.80781,     0.80881,     0.80981,     0.81081,     0.81181,     0.81281,     0.81381,     0.81481,     0.81582,\n",
       "           0.81682,     0.81782,     0.81882,     0.81982,     0.82082,     0.82182,     0.82282,     0.82382,     0.82482,     0.82583,     0.82683,     0.82783,     0.82883,     0.82983,     0.83083,     0.83183,     0.83283,     0.83383,     0.83483,     0.83584,     0.83684,     0.83784,     0.83884,     0.83984,\n",
       "           0.84084,     0.84184,     0.84284,     0.84384,     0.84484,     0.84585,     0.84685,     0.84785,     0.84885,     0.84985,     0.85085,     0.85185,     0.85285,     0.85385,     0.85485,     0.85586,     0.85686,     0.85786,     0.85886,     0.85986,     0.86086,     0.86186,     0.86286,     0.86386,\n",
       "           0.86486,     0.86587,     0.86687,     0.86787,     0.86887,     0.86987,     0.87087,     0.87187,     0.87287,     0.87387,     0.87487,     0.87588,     0.87688,     0.87788,     0.87888,     0.87988,     0.88088,     0.88188,     0.88288,     0.88388,     0.88488,     0.88589,     0.88689,     0.88789,\n",
       "           0.88889,     0.88989,     0.89089,     0.89189,     0.89289,     0.89389,     0.89489,      0.8959,      0.8969,      0.8979,      0.8989,      0.8999,      0.9009,      0.9019,      0.9029,      0.9039,      0.9049,     0.90591,     0.90691,     0.90791,     0.90891,     0.90991,     0.91091,     0.91191,\n",
       "           0.91291,     0.91391,     0.91491,     0.91592,     0.91692,     0.91792,     0.91892,     0.91992,     0.92092,     0.92192,     0.92292,     0.92392,     0.92492,     0.92593,     0.92693,     0.92793,     0.92893,     0.92993,     0.93093,     0.93193,     0.93293,     0.93393,     0.93493,     0.93594,\n",
       "           0.93694,     0.93794,     0.93894,     0.93994,     0.94094,     0.94194,     0.94294,     0.94394,     0.94494,     0.94595,     0.94695,     0.94795,     0.94895,     0.94995,     0.95095,     0.95195,     0.95295,     0.95395,     0.95495,     0.95596,     0.95696,     0.95796,     0.95896,     0.95996,\n",
       "           0.96096,     0.96196,     0.96296,     0.96396,     0.96496,     0.96597,     0.96697,     0.96797,     0.96897,     0.96997,     0.97097,     0.97197,     0.97297,     0.97397,     0.97497,     0.97598,     0.97698,     0.97798,     0.97898,     0.97998,     0.98098,     0.98198,     0.98298,     0.98398,\n",
       "           0.98498,     0.98599,     0.98699,     0.98799,     0.98899,     0.98999,     0.99099,     0.99199,     0.99299,     0.99399,     0.99499,       0.996,       0.997,       0.998,       0.999,           1]), array([[          1,           1,           1, ...,  0.00027902,  0.00013951,           0],\n",
       "       [          1,           1,           1, ...,  0.00021461,  0.00010731,           0],\n",
       "       [          1,           1,           1, ...,  0.00012268,  6.1342e-05,           0],\n",
       "       ...,\n",
       "       [    0.71429,     0.71429,     0.71429, ...,  2.3903e-05,  1.1951e-05,           0],\n",
       "       [          1,           1,           1, ...,  0.00018889,  9.4445e-05,           0],\n",
       "       [          1,           1,           1, ...,    0.001184,  0.00059201,           0]]), 'Recall', 'Precision'], [array([          0,    0.001001,    0.002002,    0.003003,    0.004004,    0.005005,    0.006006,    0.007007,    0.008008,    0.009009,     0.01001,    0.011011,    0.012012,    0.013013,    0.014014,    0.015015,    0.016016,    0.017017,    0.018018,    0.019019,     0.02002,    0.021021,    0.022022,    0.023023,\n",
       "          0.024024,    0.025025,    0.026026,    0.027027,    0.028028,    0.029029,     0.03003,    0.031031,    0.032032,    0.033033,    0.034034,    0.035035,    0.036036,    0.037037,    0.038038,    0.039039,     0.04004,    0.041041,    0.042042,    0.043043,    0.044044,    0.045045,    0.046046,    0.047047,\n",
       "          0.048048,    0.049049,     0.05005,    0.051051,    0.052052,    0.053053,    0.054054,    0.055055,    0.056056,    0.057057,    0.058058,    0.059059,     0.06006,    0.061061,    0.062062,    0.063063,    0.064064,    0.065065,    0.066066,    0.067067,    0.068068,    0.069069,     0.07007,    0.071071,\n",
       "          0.072072,    0.073073,    0.074074,    0.075075,    0.076076,    0.077077,    0.078078,    0.079079,     0.08008,    0.081081,    0.082082,    0.083083,    0.084084,    0.085085,    0.086086,    0.087087,    0.088088,    0.089089,     0.09009,    0.091091,    0.092092,    0.093093,    0.094094,    0.095095,\n",
       "          0.096096,    0.097097,    0.098098,    0.099099,      0.1001,      0.1011,      0.1021,      0.1031,      0.1041,     0.10511,     0.10611,     0.10711,     0.10811,     0.10911,     0.11011,     0.11111,     0.11211,     0.11311,     0.11411,     0.11512,     0.11612,     0.11712,     0.11812,     0.11912,\n",
       "           0.12012,     0.12112,     0.12212,     0.12312,     0.12412,     0.12513,     0.12613,     0.12713,     0.12813,     0.12913,     0.13013,     0.13113,     0.13213,     0.13313,     0.13413,     0.13514,     0.13614,     0.13714,     0.13814,     0.13914,     0.14014,     0.14114,     0.14214,     0.14314,\n",
       "           0.14414,     0.14515,     0.14615,     0.14715,     0.14815,     0.14915,     0.15015,     0.15115,     0.15215,     0.15315,     0.15415,     0.15516,     0.15616,     0.15716,     0.15816,     0.15916,     0.16016,     0.16116,     0.16216,     0.16316,     0.16416,     0.16517,     0.16617,     0.16717,\n",
       "           0.16817,     0.16917,     0.17017,     0.17117,     0.17217,     0.17317,     0.17417,     0.17518,     0.17618,     0.17718,     0.17818,     0.17918,     0.18018,     0.18118,     0.18218,     0.18318,     0.18418,     0.18519,     0.18619,     0.18719,     0.18819,     0.18919,     0.19019,     0.19119,\n",
       "           0.19219,     0.19319,     0.19419,      0.1952,      0.1962,      0.1972,      0.1982,      0.1992,      0.2002,      0.2012,      0.2022,      0.2032,      0.2042,     0.20521,     0.20621,     0.20721,     0.20821,     0.20921,     0.21021,     0.21121,     0.21221,     0.21321,     0.21421,     0.21522,\n",
       "           0.21622,     0.21722,     0.21822,     0.21922,     0.22022,     0.22122,     0.22222,     0.22322,     0.22422,     0.22523,     0.22623,     0.22723,     0.22823,     0.22923,     0.23023,     0.23123,     0.23223,     0.23323,     0.23423,     0.23524,     0.23624,     0.23724,     0.23824,     0.23924,\n",
       "           0.24024,     0.24124,     0.24224,     0.24324,     0.24424,     0.24525,     0.24625,     0.24725,     0.24825,     0.24925,     0.25025,     0.25125,     0.25225,     0.25325,     0.25425,     0.25526,     0.25626,     0.25726,     0.25826,     0.25926,     0.26026,     0.26126,     0.26226,     0.26326,\n",
       "           0.26426,     0.26527,     0.26627,     0.26727,     0.26827,     0.26927,     0.27027,     0.27127,     0.27227,     0.27327,     0.27427,     0.27528,     0.27628,     0.27728,     0.27828,     0.27928,     0.28028,     0.28128,     0.28228,     0.28328,     0.28428,     0.28529,     0.28629,     0.28729,\n",
       "           0.28829,     0.28929,     0.29029,     0.29129,     0.29229,     0.29329,     0.29429,      0.2953,      0.2963,      0.2973,      0.2983,      0.2993,      0.3003,      0.3013,      0.3023,      0.3033,      0.3043,     0.30531,     0.30631,     0.30731,     0.30831,     0.30931,     0.31031,     0.31131,\n",
       "           0.31231,     0.31331,     0.31431,     0.31532,     0.31632,     0.31732,     0.31832,     0.31932,     0.32032,     0.32132,     0.32232,     0.32332,     0.32432,     0.32533,     0.32633,     0.32733,     0.32833,     0.32933,     0.33033,     0.33133,     0.33233,     0.33333,     0.33433,     0.33534,\n",
       "           0.33634,     0.33734,     0.33834,     0.33934,     0.34034,     0.34134,     0.34234,     0.34334,     0.34434,     0.34535,     0.34635,     0.34735,     0.34835,     0.34935,     0.35035,     0.35135,     0.35235,     0.35335,     0.35435,     0.35536,     0.35636,     0.35736,     0.35836,     0.35936,\n",
       "           0.36036,     0.36136,     0.36236,     0.36336,     0.36436,     0.36537,     0.36637,     0.36737,     0.36837,     0.36937,     0.37037,     0.37137,     0.37237,     0.37337,     0.37437,     0.37538,     0.37638,     0.37738,     0.37838,     0.37938,     0.38038,     0.38138,     0.38238,     0.38338,\n",
       "           0.38438,     0.38539,     0.38639,     0.38739,     0.38839,     0.38939,     0.39039,     0.39139,     0.39239,     0.39339,     0.39439,      0.3954,      0.3964,      0.3974,      0.3984,      0.3994,      0.4004,      0.4014,      0.4024,      0.4034,      0.4044,     0.40541,     0.40641,     0.40741,\n",
       "           0.40841,     0.40941,     0.41041,     0.41141,     0.41241,     0.41341,     0.41441,     0.41542,     0.41642,     0.41742,     0.41842,     0.41942,     0.42042,     0.42142,     0.42242,     0.42342,     0.42442,     0.42543,     0.42643,     0.42743,     0.42843,     0.42943,     0.43043,     0.43143,\n",
       "           0.43243,     0.43343,     0.43443,     0.43544,     0.43644,     0.43744,     0.43844,     0.43944,     0.44044,     0.44144,     0.44244,     0.44344,     0.44444,     0.44545,     0.44645,     0.44745,     0.44845,     0.44945,     0.45045,     0.45145,     0.45245,     0.45345,     0.45445,     0.45546,\n",
       "           0.45646,     0.45746,     0.45846,     0.45946,     0.46046,     0.46146,     0.46246,     0.46346,     0.46446,     0.46547,     0.46647,     0.46747,     0.46847,     0.46947,     0.47047,     0.47147,     0.47247,     0.47347,     0.47447,     0.47548,     0.47648,     0.47748,     0.47848,     0.47948,\n",
       "           0.48048,     0.48148,     0.48248,     0.48348,     0.48448,     0.48549,     0.48649,     0.48749,     0.48849,     0.48949,     0.49049,     0.49149,     0.49249,     0.49349,     0.49449,      0.4955,      0.4965,      0.4975,      0.4985,      0.4995,      0.5005,      0.5015,      0.5025,      0.5035,\n",
       "            0.5045,     0.50551,     0.50651,     0.50751,     0.50851,     0.50951,     0.51051,     0.51151,     0.51251,     0.51351,     0.51451,     0.51552,     0.51652,     0.51752,     0.51852,     0.51952,     0.52052,     0.52152,     0.52252,     0.52352,     0.52452,     0.52553,     0.52653,     0.52753,\n",
       "           0.52853,     0.52953,     0.53053,     0.53153,     0.53253,     0.53353,     0.53453,     0.53554,     0.53654,     0.53754,     0.53854,     0.53954,     0.54054,     0.54154,     0.54254,     0.54354,     0.54454,     0.54555,     0.54655,     0.54755,     0.54855,     0.54955,     0.55055,     0.55155,\n",
       "           0.55255,     0.55355,     0.55455,     0.55556,     0.55656,     0.55756,     0.55856,     0.55956,     0.56056,     0.56156,     0.56256,     0.56356,     0.56456,     0.56557,     0.56657,     0.56757,     0.56857,     0.56957,     0.57057,     0.57157,     0.57257,     0.57357,     0.57457,     0.57558,\n",
       "           0.57658,     0.57758,     0.57858,     0.57958,     0.58058,     0.58158,     0.58258,     0.58358,     0.58458,     0.58559,     0.58659,     0.58759,     0.58859,     0.58959,     0.59059,     0.59159,     0.59259,     0.59359,     0.59459,      0.5956,      0.5966,      0.5976,      0.5986,      0.5996,\n",
       "            0.6006,      0.6016,      0.6026,      0.6036,      0.6046,     0.60561,     0.60661,     0.60761,     0.60861,     0.60961,     0.61061,     0.61161,     0.61261,     0.61361,     0.61461,     0.61562,     0.61662,     0.61762,     0.61862,     0.61962,     0.62062,     0.62162,     0.62262,     0.62362,\n",
       "           0.62462,     0.62563,     0.62663,     0.62763,     0.62863,     0.62963,     0.63063,     0.63163,     0.63263,     0.63363,     0.63463,     0.63564,     0.63664,     0.63764,     0.63864,     0.63964,     0.64064,     0.64164,     0.64264,     0.64364,     0.64464,     0.64565,     0.64665,     0.64765,\n",
       "           0.64865,     0.64965,     0.65065,     0.65165,     0.65265,     0.65365,     0.65465,     0.65566,     0.65666,     0.65766,     0.65866,     0.65966,     0.66066,     0.66166,     0.66266,     0.66366,     0.66466,     0.66567,     0.66667,     0.66767,     0.66867,     0.66967,     0.67067,     0.67167,\n",
       "           0.67267,     0.67367,     0.67467,     0.67568,     0.67668,     0.67768,     0.67868,     0.67968,     0.68068,     0.68168,     0.68268,     0.68368,     0.68468,     0.68569,     0.68669,     0.68769,     0.68869,     0.68969,     0.69069,     0.69169,     0.69269,     0.69369,     0.69469,      0.6957,\n",
       "            0.6967,      0.6977,      0.6987,      0.6997,      0.7007,      0.7017,      0.7027,      0.7037,      0.7047,     0.70571,     0.70671,     0.70771,     0.70871,     0.70971,     0.71071,     0.71171,     0.71271,     0.71371,     0.71471,     0.71572,     0.71672,     0.71772,     0.71872,     0.71972,\n",
       "           0.72072,     0.72172,     0.72272,     0.72372,     0.72472,     0.72573,     0.72673,     0.72773,     0.72873,     0.72973,     0.73073,     0.73173,     0.73273,     0.73373,     0.73473,     0.73574,     0.73674,     0.73774,     0.73874,     0.73974,     0.74074,     0.74174,     0.74274,     0.74374,\n",
       "           0.74474,     0.74575,     0.74675,     0.74775,     0.74875,     0.74975,     0.75075,     0.75175,     0.75275,     0.75375,     0.75475,     0.75576,     0.75676,     0.75776,     0.75876,     0.75976,     0.76076,     0.76176,     0.76276,     0.76376,     0.76476,     0.76577,     0.76677,     0.76777,\n",
       "           0.76877,     0.76977,     0.77077,     0.77177,     0.77277,     0.77377,     0.77477,     0.77578,     0.77678,     0.77778,     0.77878,     0.77978,     0.78078,     0.78178,     0.78278,     0.78378,     0.78478,     0.78579,     0.78679,     0.78779,     0.78879,     0.78979,     0.79079,     0.79179,\n",
       "           0.79279,     0.79379,     0.79479,      0.7958,      0.7968,      0.7978,      0.7988,      0.7998,      0.8008,      0.8018,      0.8028,      0.8038,      0.8048,     0.80581,     0.80681,     0.80781,     0.80881,     0.80981,     0.81081,     0.81181,     0.81281,     0.81381,     0.81481,     0.81582,\n",
       "           0.81682,     0.81782,     0.81882,     0.81982,     0.82082,     0.82182,     0.82282,     0.82382,     0.82482,     0.82583,     0.82683,     0.82783,     0.82883,     0.82983,     0.83083,     0.83183,     0.83283,     0.83383,     0.83483,     0.83584,     0.83684,     0.83784,     0.83884,     0.83984,\n",
       "           0.84084,     0.84184,     0.84284,     0.84384,     0.84484,     0.84585,     0.84685,     0.84785,     0.84885,     0.84985,     0.85085,     0.85185,     0.85285,     0.85385,     0.85485,     0.85586,     0.85686,     0.85786,     0.85886,     0.85986,     0.86086,     0.86186,     0.86286,     0.86386,\n",
       "           0.86486,     0.86587,     0.86687,     0.86787,     0.86887,     0.86987,     0.87087,     0.87187,     0.87287,     0.87387,     0.87487,     0.87588,     0.87688,     0.87788,     0.87888,     0.87988,     0.88088,     0.88188,     0.88288,     0.88388,     0.88488,     0.88589,     0.88689,     0.88789,\n",
       "           0.88889,     0.88989,     0.89089,     0.89189,     0.89289,     0.89389,     0.89489,      0.8959,      0.8969,      0.8979,      0.8989,      0.8999,      0.9009,      0.9019,      0.9029,      0.9039,      0.9049,     0.90591,     0.90691,     0.90791,     0.90891,     0.90991,     0.91091,     0.91191,\n",
       "           0.91291,     0.91391,     0.91491,     0.91592,     0.91692,     0.91792,     0.91892,     0.91992,     0.92092,     0.92192,     0.92292,     0.92392,     0.92492,     0.92593,     0.92693,     0.92793,     0.92893,     0.92993,     0.93093,     0.93193,     0.93293,     0.93393,     0.93493,     0.93594,\n",
       "           0.93694,     0.93794,     0.93894,     0.93994,     0.94094,     0.94194,     0.94294,     0.94394,     0.94494,     0.94595,     0.94695,     0.94795,     0.94895,     0.94995,     0.95095,     0.95195,     0.95295,     0.95395,     0.95495,     0.95596,     0.95696,     0.95796,     0.95896,     0.95996,\n",
       "           0.96096,     0.96196,     0.96296,     0.96396,     0.96496,     0.96597,     0.96697,     0.96797,     0.96897,     0.96997,     0.97097,     0.97197,     0.97297,     0.97397,     0.97497,     0.97598,     0.97698,     0.97798,     0.97898,     0.97998,     0.98098,     0.98198,     0.98298,     0.98398,\n",
       "           0.98498,     0.98599,     0.98699,     0.98799,     0.98899,     0.98999,     0.99099,     0.99199,     0.99299,     0.99399,     0.99499,       0.996,       0.997,       0.998,       0.999,           1]), array([[   0.065956,    0.065956,    0.077547, ...,           0,           0,           0],\n",
       "       [   0.037771,    0.037771,     0.04659, ...,           0,           0,           0],\n",
       "       [   0.042399,    0.042399,     0.04918, ...,           0,           0,           0],\n",
       "       ...,\n",
       "       [   0.012984,    0.012984,    0.014601, ...,           0,           0,           0],\n",
       "       [   0.059184,    0.059184,     0.06786, ...,           0,           0,           0],\n",
       "       [   0.085968,    0.085968,    0.096813, ...,           0,           0,           0]]), 'Confidence', 'F1'], [array([          0,    0.001001,    0.002002,    0.003003,    0.004004,    0.005005,    0.006006,    0.007007,    0.008008,    0.009009,     0.01001,    0.011011,    0.012012,    0.013013,    0.014014,    0.015015,    0.016016,    0.017017,    0.018018,    0.019019,     0.02002,    0.021021,    0.022022,    0.023023,\n",
       "          0.024024,    0.025025,    0.026026,    0.027027,    0.028028,    0.029029,     0.03003,    0.031031,    0.032032,    0.033033,    0.034034,    0.035035,    0.036036,    0.037037,    0.038038,    0.039039,     0.04004,    0.041041,    0.042042,    0.043043,    0.044044,    0.045045,    0.046046,    0.047047,\n",
       "          0.048048,    0.049049,     0.05005,    0.051051,    0.052052,    0.053053,    0.054054,    0.055055,    0.056056,    0.057057,    0.058058,    0.059059,     0.06006,    0.061061,    0.062062,    0.063063,    0.064064,    0.065065,    0.066066,    0.067067,    0.068068,    0.069069,     0.07007,    0.071071,\n",
       "          0.072072,    0.073073,    0.074074,    0.075075,    0.076076,    0.077077,    0.078078,    0.079079,     0.08008,    0.081081,    0.082082,    0.083083,    0.084084,    0.085085,    0.086086,    0.087087,    0.088088,    0.089089,     0.09009,    0.091091,    0.092092,    0.093093,    0.094094,    0.095095,\n",
       "          0.096096,    0.097097,    0.098098,    0.099099,      0.1001,      0.1011,      0.1021,      0.1031,      0.1041,     0.10511,     0.10611,     0.10711,     0.10811,     0.10911,     0.11011,     0.11111,     0.11211,     0.11311,     0.11411,     0.11512,     0.11612,     0.11712,     0.11812,     0.11912,\n",
       "           0.12012,     0.12112,     0.12212,     0.12312,     0.12412,     0.12513,     0.12613,     0.12713,     0.12813,     0.12913,     0.13013,     0.13113,     0.13213,     0.13313,     0.13413,     0.13514,     0.13614,     0.13714,     0.13814,     0.13914,     0.14014,     0.14114,     0.14214,     0.14314,\n",
       "           0.14414,     0.14515,     0.14615,     0.14715,     0.14815,     0.14915,     0.15015,     0.15115,     0.15215,     0.15315,     0.15415,     0.15516,     0.15616,     0.15716,     0.15816,     0.15916,     0.16016,     0.16116,     0.16216,     0.16316,     0.16416,     0.16517,     0.16617,     0.16717,\n",
       "           0.16817,     0.16917,     0.17017,     0.17117,     0.17217,     0.17317,     0.17417,     0.17518,     0.17618,     0.17718,     0.17818,     0.17918,     0.18018,     0.18118,     0.18218,     0.18318,     0.18418,     0.18519,     0.18619,     0.18719,     0.18819,     0.18919,     0.19019,     0.19119,\n",
       "           0.19219,     0.19319,     0.19419,      0.1952,      0.1962,      0.1972,      0.1982,      0.1992,      0.2002,      0.2012,      0.2022,      0.2032,      0.2042,     0.20521,     0.20621,     0.20721,     0.20821,     0.20921,     0.21021,     0.21121,     0.21221,     0.21321,     0.21421,     0.21522,\n",
       "           0.21622,     0.21722,     0.21822,     0.21922,     0.22022,     0.22122,     0.22222,     0.22322,     0.22422,     0.22523,     0.22623,     0.22723,     0.22823,     0.22923,     0.23023,     0.23123,     0.23223,     0.23323,     0.23423,     0.23524,     0.23624,     0.23724,     0.23824,     0.23924,\n",
       "           0.24024,     0.24124,     0.24224,     0.24324,     0.24424,     0.24525,     0.24625,     0.24725,     0.24825,     0.24925,     0.25025,     0.25125,     0.25225,     0.25325,     0.25425,     0.25526,     0.25626,     0.25726,     0.25826,     0.25926,     0.26026,     0.26126,     0.26226,     0.26326,\n",
       "           0.26426,     0.26527,     0.26627,     0.26727,     0.26827,     0.26927,     0.27027,     0.27127,     0.27227,     0.27327,     0.27427,     0.27528,     0.27628,     0.27728,     0.27828,     0.27928,     0.28028,     0.28128,     0.28228,     0.28328,     0.28428,     0.28529,     0.28629,     0.28729,\n",
       "           0.28829,     0.28929,     0.29029,     0.29129,     0.29229,     0.29329,     0.29429,      0.2953,      0.2963,      0.2973,      0.2983,      0.2993,      0.3003,      0.3013,      0.3023,      0.3033,      0.3043,     0.30531,     0.30631,     0.30731,     0.30831,     0.30931,     0.31031,     0.31131,\n",
       "           0.31231,     0.31331,     0.31431,     0.31532,     0.31632,     0.31732,     0.31832,     0.31932,     0.32032,     0.32132,     0.32232,     0.32332,     0.32432,     0.32533,     0.32633,     0.32733,     0.32833,     0.32933,     0.33033,     0.33133,     0.33233,     0.33333,     0.33433,     0.33534,\n",
       "           0.33634,     0.33734,     0.33834,     0.33934,     0.34034,     0.34134,     0.34234,     0.34334,     0.34434,     0.34535,     0.34635,     0.34735,     0.34835,     0.34935,     0.35035,     0.35135,     0.35235,     0.35335,     0.35435,     0.35536,     0.35636,     0.35736,     0.35836,     0.35936,\n",
       "           0.36036,     0.36136,     0.36236,     0.36336,     0.36436,     0.36537,     0.36637,     0.36737,     0.36837,     0.36937,     0.37037,     0.37137,     0.37237,     0.37337,     0.37437,     0.37538,     0.37638,     0.37738,     0.37838,     0.37938,     0.38038,     0.38138,     0.38238,     0.38338,\n",
       "           0.38438,     0.38539,     0.38639,     0.38739,     0.38839,     0.38939,     0.39039,     0.39139,     0.39239,     0.39339,     0.39439,      0.3954,      0.3964,      0.3974,      0.3984,      0.3994,      0.4004,      0.4014,      0.4024,      0.4034,      0.4044,     0.40541,     0.40641,     0.40741,\n",
       "           0.40841,     0.40941,     0.41041,     0.41141,     0.41241,     0.41341,     0.41441,     0.41542,     0.41642,     0.41742,     0.41842,     0.41942,     0.42042,     0.42142,     0.42242,     0.42342,     0.42442,     0.42543,     0.42643,     0.42743,     0.42843,     0.42943,     0.43043,     0.43143,\n",
       "           0.43243,     0.43343,     0.43443,     0.43544,     0.43644,     0.43744,     0.43844,     0.43944,     0.44044,     0.44144,     0.44244,     0.44344,     0.44444,     0.44545,     0.44645,     0.44745,     0.44845,     0.44945,     0.45045,     0.45145,     0.45245,     0.45345,     0.45445,     0.45546,\n",
       "           0.45646,     0.45746,     0.45846,     0.45946,     0.46046,     0.46146,     0.46246,     0.46346,     0.46446,     0.46547,     0.46647,     0.46747,     0.46847,     0.46947,     0.47047,     0.47147,     0.47247,     0.47347,     0.47447,     0.47548,     0.47648,     0.47748,     0.47848,     0.47948,\n",
       "           0.48048,     0.48148,     0.48248,     0.48348,     0.48448,     0.48549,     0.48649,     0.48749,     0.48849,     0.48949,     0.49049,     0.49149,     0.49249,     0.49349,     0.49449,      0.4955,      0.4965,      0.4975,      0.4985,      0.4995,      0.5005,      0.5015,      0.5025,      0.5035,\n",
       "            0.5045,     0.50551,     0.50651,     0.50751,     0.50851,     0.50951,     0.51051,     0.51151,     0.51251,     0.51351,     0.51451,     0.51552,     0.51652,     0.51752,     0.51852,     0.51952,     0.52052,     0.52152,     0.52252,     0.52352,     0.52452,     0.52553,     0.52653,     0.52753,\n",
       "           0.52853,     0.52953,     0.53053,     0.53153,     0.53253,     0.53353,     0.53453,     0.53554,     0.53654,     0.53754,     0.53854,     0.53954,     0.54054,     0.54154,     0.54254,     0.54354,     0.54454,     0.54555,     0.54655,     0.54755,     0.54855,     0.54955,     0.55055,     0.55155,\n",
       "           0.55255,     0.55355,     0.55455,     0.55556,     0.55656,     0.55756,     0.55856,     0.55956,     0.56056,     0.56156,     0.56256,     0.56356,     0.56456,     0.56557,     0.56657,     0.56757,     0.56857,     0.56957,     0.57057,     0.57157,     0.57257,     0.57357,     0.57457,     0.57558,\n",
       "           0.57658,     0.57758,     0.57858,     0.57958,     0.58058,     0.58158,     0.58258,     0.58358,     0.58458,     0.58559,     0.58659,     0.58759,     0.58859,     0.58959,     0.59059,     0.59159,     0.59259,     0.59359,     0.59459,      0.5956,      0.5966,      0.5976,      0.5986,      0.5996,\n",
       "            0.6006,      0.6016,      0.6026,      0.6036,      0.6046,     0.60561,     0.60661,     0.60761,     0.60861,     0.60961,     0.61061,     0.61161,     0.61261,     0.61361,     0.61461,     0.61562,     0.61662,     0.61762,     0.61862,     0.61962,     0.62062,     0.62162,     0.62262,     0.62362,\n",
       "           0.62462,     0.62563,     0.62663,     0.62763,     0.62863,     0.62963,     0.63063,     0.63163,     0.63263,     0.63363,     0.63463,     0.63564,     0.63664,     0.63764,     0.63864,     0.63964,     0.64064,     0.64164,     0.64264,     0.64364,     0.64464,     0.64565,     0.64665,     0.64765,\n",
       "           0.64865,     0.64965,     0.65065,     0.65165,     0.65265,     0.65365,     0.65465,     0.65566,     0.65666,     0.65766,     0.65866,     0.65966,     0.66066,     0.66166,     0.66266,     0.66366,     0.66466,     0.66567,     0.66667,     0.66767,     0.66867,     0.66967,     0.67067,     0.67167,\n",
       "           0.67267,     0.67367,     0.67467,     0.67568,     0.67668,     0.67768,     0.67868,     0.67968,     0.68068,     0.68168,     0.68268,     0.68368,     0.68468,     0.68569,     0.68669,     0.68769,     0.68869,     0.68969,     0.69069,     0.69169,     0.69269,     0.69369,     0.69469,      0.6957,\n",
       "            0.6967,      0.6977,      0.6987,      0.6997,      0.7007,      0.7017,      0.7027,      0.7037,      0.7047,     0.70571,     0.70671,     0.70771,     0.70871,     0.70971,     0.71071,     0.71171,     0.71271,     0.71371,     0.71471,     0.71572,     0.71672,     0.71772,     0.71872,     0.71972,\n",
       "           0.72072,     0.72172,     0.72272,     0.72372,     0.72472,     0.72573,     0.72673,     0.72773,     0.72873,     0.72973,     0.73073,     0.73173,     0.73273,     0.73373,     0.73473,     0.73574,     0.73674,     0.73774,     0.73874,     0.73974,     0.74074,     0.74174,     0.74274,     0.74374,\n",
       "           0.74474,     0.74575,     0.74675,     0.74775,     0.74875,     0.74975,     0.75075,     0.75175,     0.75275,     0.75375,     0.75475,     0.75576,     0.75676,     0.75776,     0.75876,     0.75976,     0.76076,     0.76176,     0.76276,     0.76376,     0.76476,     0.76577,     0.76677,     0.76777,\n",
       "           0.76877,     0.76977,     0.77077,     0.77177,     0.77277,     0.77377,     0.77477,     0.77578,     0.77678,     0.77778,     0.77878,     0.77978,     0.78078,     0.78178,     0.78278,     0.78378,     0.78478,     0.78579,     0.78679,     0.78779,     0.78879,     0.78979,     0.79079,     0.79179,\n",
       "           0.79279,     0.79379,     0.79479,      0.7958,      0.7968,      0.7978,      0.7988,      0.7998,      0.8008,      0.8018,      0.8028,      0.8038,      0.8048,     0.80581,     0.80681,     0.80781,     0.80881,     0.80981,     0.81081,     0.81181,     0.81281,     0.81381,     0.81481,     0.81582,\n",
       "           0.81682,     0.81782,     0.81882,     0.81982,     0.82082,     0.82182,     0.82282,     0.82382,     0.82482,     0.82583,     0.82683,     0.82783,     0.82883,     0.82983,     0.83083,     0.83183,     0.83283,     0.83383,     0.83483,     0.83584,     0.83684,     0.83784,     0.83884,     0.83984,\n",
       "           0.84084,     0.84184,     0.84284,     0.84384,     0.84484,     0.84585,     0.84685,     0.84785,     0.84885,     0.84985,     0.85085,     0.85185,     0.85285,     0.85385,     0.85485,     0.85586,     0.85686,     0.85786,     0.85886,     0.85986,     0.86086,     0.86186,     0.86286,     0.86386,\n",
       "           0.86486,     0.86587,     0.86687,     0.86787,     0.86887,     0.86987,     0.87087,     0.87187,     0.87287,     0.87387,     0.87487,     0.87588,     0.87688,     0.87788,     0.87888,     0.87988,     0.88088,     0.88188,     0.88288,     0.88388,     0.88488,     0.88589,     0.88689,     0.88789,\n",
       "           0.88889,     0.88989,     0.89089,     0.89189,     0.89289,     0.89389,     0.89489,      0.8959,      0.8969,      0.8979,      0.8989,      0.8999,      0.9009,      0.9019,      0.9029,      0.9039,      0.9049,     0.90591,     0.90691,     0.90791,     0.90891,     0.90991,     0.91091,     0.91191,\n",
       "           0.91291,     0.91391,     0.91491,     0.91592,     0.91692,     0.91792,     0.91892,     0.91992,     0.92092,     0.92192,     0.92292,     0.92392,     0.92492,     0.92593,     0.92693,     0.92793,     0.92893,     0.92993,     0.93093,     0.93193,     0.93293,     0.93393,     0.93493,     0.93594,\n",
       "           0.93694,     0.93794,     0.93894,     0.93994,     0.94094,     0.94194,     0.94294,     0.94394,     0.94494,     0.94595,     0.94695,     0.94795,     0.94895,     0.94995,     0.95095,     0.95195,     0.95295,     0.95395,     0.95495,     0.95596,     0.95696,     0.95796,     0.95896,     0.95996,\n",
       "           0.96096,     0.96196,     0.96296,     0.96396,     0.96496,     0.96597,     0.96697,     0.96797,     0.96897,     0.96997,     0.97097,     0.97197,     0.97297,     0.97397,     0.97497,     0.97598,     0.97698,     0.97798,     0.97898,     0.97998,     0.98098,     0.98198,     0.98298,     0.98398,\n",
       "           0.98498,     0.98599,     0.98699,     0.98799,     0.98899,     0.98999,     0.99099,     0.99199,     0.99299,     0.99399,     0.99499,       0.996,       0.997,       0.998,       0.999,           1]), array([[   0.034489,    0.034489,    0.040892, ...,           1,           1,           1],\n",
       "       [   0.019331,    0.019331,    0.023976, ...,           1,           1,           1],\n",
       "       [   0.021923,    0.021923,    0.025569, ...,           1,           1,           1],\n",
       "       ...,\n",
       "       [  0.0065873,   0.0065873,   0.0074375, ...,           1,           1,           1],\n",
       "       [   0.030956,    0.030956,    0.035754, ...,           1,           1,           1],\n",
       "       [   0.045082,    0.045082,    0.051092, ...,           1,           1,           1]]), 'Confidence', 'Precision'], [array([          0,    0.001001,    0.002002,    0.003003,    0.004004,    0.005005,    0.006006,    0.007007,    0.008008,    0.009009,     0.01001,    0.011011,    0.012012,    0.013013,    0.014014,    0.015015,    0.016016,    0.017017,    0.018018,    0.019019,     0.02002,    0.021021,    0.022022,    0.023023,\n",
       "          0.024024,    0.025025,    0.026026,    0.027027,    0.028028,    0.029029,     0.03003,    0.031031,    0.032032,    0.033033,    0.034034,    0.035035,    0.036036,    0.037037,    0.038038,    0.039039,     0.04004,    0.041041,    0.042042,    0.043043,    0.044044,    0.045045,    0.046046,    0.047047,\n",
       "          0.048048,    0.049049,     0.05005,    0.051051,    0.052052,    0.053053,    0.054054,    0.055055,    0.056056,    0.057057,    0.058058,    0.059059,     0.06006,    0.061061,    0.062062,    0.063063,    0.064064,    0.065065,    0.066066,    0.067067,    0.068068,    0.069069,     0.07007,    0.071071,\n",
       "          0.072072,    0.073073,    0.074074,    0.075075,    0.076076,    0.077077,    0.078078,    0.079079,     0.08008,    0.081081,    0.082082,    0.083083,    0.084084,    0.085085,    0.086086,    0.087087,    0.088088,    0.089089,     0.09009,    0.091091,    0.092092,    0.093093,    0.094094,    0.095095,\n",
       "          0.096096,    0.097097,    0.098098,    0.099099,      0.1001,      0.1011,      0.1021,      0.1031,      0.1041,     0.10511,     0.10611,     0.10711,     0.10811,     0.10911,     0.11011,     0.11111,     0.11211,     0.11311,     0.11411,     0.11512,     0.11612,     0.11712,     0.11812,     0.11912,\n",
       "           0.12012,     0.12112,     0.12212,     0.12312,     0.12412,     0.12513,     0.12613,     0.12713,     0.12813,     0.12913,     0.13013,     0.13113,     0.13213,     0.13313,     0.13413,     0.13514,     0.13614,     0.13714,     0.13814,     0.13914,     0.14014,     0.14114,     0.14214,     0.14314,\n",
       "           0.14414,     0.14515,     0.14615,     0.14715,     0.14815,     0.14915,     0.15015,     0.15115,     0.15215,     0.15315,     0.15415,     0.15516,     0.15616,     0.15716,     0.15816,     0.15916,     0.16016,     0.16116,     0.16216,     0.16316,     0.16416,     0.16517,     0.16617,     0.16717,\n",
       "           0.16817,     0.16917,     0.17017,     0.17117,     0.17217,     0.17317,     0.17417,     0.17518,     0.17618,     0.17718,     0.17818,     0.17918,     0.18018,     0.18118,     0.18218,     0.18318,     0.18418,     0.18519,     0.18619,     0.18719,     0.18819,     0.18919,     0.19019,     0.19119,\n",
       "           0.19219,     0.19319,     0.19419,      0.1952,      0.1962,      0.1972,      0.1982,      0.1992,      0.2002,      0.2012,      0.2022,      0.2032,      0.2042,     0.20521,     0.20621,     0.20721,     0.20821,     0.20921,     0.21021,     0.21121,     0.21221,     0.21321,     0.21421,     0.21522,\n",
       "           0.21622,     0.21722,     0.21822,     0.21922,     0.22022,     0.22122,     0.22222,     0.22322,     0.22422,     0.22523,     0.22623,     0.22723,     0.22823,     0.22923,     0.23023,     0.23123,     0.23223,     0.23323,     0.23423,     0.23524,     0.23624,     0.23724,     0.23824,     0.23924,\n",
       "           0.24024,     0.24124,     0.24224,     0.24324,     0.24424,     0.24525,     0.24625,     0.24725,     0.24825,     0.24925,     0.25025,     0.25125,     0.25225,     0.25325,     0.25425,     0.25526,     0.25626,     0.25726,     0.25826,     0.25926,     0.26026,     0.26126,     0.26226,     0.26326,\n",
       "           0.26426,     0.26527,     0.26627,     0.26727,     0.26827,     0.26927,     0.27027,     0.27127,     0.27227,     0.27327,     0.27427,     0.27528,     0.27628,     0.27728,     0.27828,     0.27928,     0.28028,     0.28128,     0.28228,     0.28328,     0.28428,     0.28529,     0.28629,     0.28729,\n",
       "           0.28829,     0.28929,     0.29029,     0.29129,     0.29229,     0.29329,     0.29429,      0.2953,      0.2963,      0.2973,      0.2983,      0.2993,      0.3003,      0.3013,      0.3023,      0.3033,      0.3043,     0.30531,     0.30631,     0.30731,     0.30831,     0.30931,     0.31031,     0.31131,\n",
       "           0.31231,     0.31331,     0.31431,     0.31532,     0.31632,     0.31732,     0.31832,     0.31932,     0.32032,     0.32132,     0.32232,     0.32332,     0.32432,     0.32533,     0.32633,     0.32733,     0.32833,     0.32933,     0.33033,     0.33133,     0.33233,     0.33333,     0.33433,     0.33534,\n",
       "           0.33634,     0.33734,     0.33834,     0.33934,     0.34034,     0.34134,     0.34234,     0.34334,     0.34434,     0.34535,     0.34635,     0.34735,     0.34835,     0.34935,     0.35035,     0.35135,     0.35235,     0.35335,     0.35435,     0.35536,     0.35636,     0.35736,     0.35836,     0.35936,\n",
       "           0.36036,     0.36136,     0.36236,     0.36336,     0.36436,     0.36537,     0.36637,     0.36737,     0.36837,     0.36937,     0.37037,     0.37137,     0.37237,     0.37337,     0.37437,     0.37538,     0.37638,     0.37738,     0.37838,     0.37938,     0.38038,     0.38138,     0.38238,     0.38338,\n",
       "           0.38438,     0.38539,     0.38639,     0.38739,     0.38839,     0.38939,     0.39039,     0.39139,     0.39239,     0.39339,     0.39439,      0.3954,      0.3964,      0.3974,      0.3984,      0.3994,      0.4004,      0.4014,      0.4024,      0.4034,      0.4044,     0.40541,     0.40641,     0.40741,\n",
       "           0.40841,     0.40941,     0.41041,     0.41141,     0.41241,     0.41341,     0.41441,     0.41542,     0.41642,     0.41742,     0.41842,     0.41942,     0.42042,     0.42142,     0.42242,     0.42342,     0.42442,     0.42543,     0.42643,     0.42743,     0.42843,     0.42943,     0.43043,     0.43143,\n",
       "           0.43243,     0.43343,     0.43443,     0.43544,     0.43644,     0.43744,     0.43844,     0.43944,     0.44044,     0.44144,     0.44244,     0.44344,     0.44444,     0.44545,     0.44645,     0.44745,     0.44845,     0.44945,     0.45045,     0.45145,     0.45245,     0.45345,     0.45445,     0.45546,\n",
       "           0.45646,     0.45746,     0.45846,     0.45946,     0.46046,     0.46146,     0.46246,     0.46346,     0.46446,     0.46547,     0.46647,     0.46747,     0.46847,     0.46947,     0.47047,     0.47147,     0.47247,     0.47347,     0.47447,     0.47548,     0.47648,     0.47748,     0.47848,     0.47948,\n",
       "           0.48048,     0.48148,     0.48248,     0.48348,     0.48448,     0.48549,     0.48649,     0.48749,     0.48849,     0.48949,     0.49049,     0.49149,     0.49249,     0.49349,     0.49449,      0.4955,      0.4965,      0.4975,      0.4985,      0.4995,      0.5005,      0.5015,      0.5025,      0.5035,\n",
       "            0.5045,     0.50551,     0.50651,     0.50751,     0.50851,     0.50951,     0.51051,     0.51151,     0.51251,     0.51351,     0.51451,     0.51552,     0.51652,     0.51752,     0.51852,     0.51952,     0.52052,     0.52152,     0.52252,     0.52352,     0.52452,     0.52553,     0.52653,     0.52753,\n",
       "           0.52853,     0.52953,     0.53053,     0.53153,     0.53253,     0.53353,     0.53453,     0.53554,     0.53654,     0.53754,     0.53854,     0.53954,     0.54054,     0.54154,     0.54254,     0.54354,     0.54454,     0.54555,     0.54655,     0.54755,     0.54855,     0.54955,     0.55055,     0.55155,\n",
       "           0.55255,     0.55355,     0.55455,     0.55556,     0.55656,     0.55756,     0.55856,     0.55956,     0.56056,     0.56156,     0.56256,     0.56356,     0.56456,     0.56557,     0.56657,     0.56757,     0.56857,     0.56957,     0.57057,     0.57157,     0.57257,     0.57357,     0.57457,     0.57558,\n",
       "           0.57658,     0.57758,     0.57858,     0.57958,     0.58058,     0.58158,     0.58258,     0.58358,     0.58458,     0.58559,     0.58659,     0.58759,     0.58859,     0.58959,     0.59059,     0.59159,     0.59259,     0.59359,     0.59459,      0.5956,      0.5966,      0.5976,      0.5986,      0.5996,\n",
       "            0.6006,      0.6016,      0.6026,      0.6036,      0.6046,     0.60561,     0.60661,     0.60761,     0.60861,     0.60961,     0.61061,     0.61161,     0.61261,     0.61361,     0.61461,     0.61562,     0.61662,     0.61762,     0.61862,     0.61962,     0.62062,     0.62162,     0.62262,     0.62362,\n",
       "           0.62462,     0.62563,     0.62663,     0.62763,     0.62863,     0.62963,     0.63063,     0.63163,     0.63263,     0.63363,     0.63463,     0.63564,     0.63664,     0.63764,     0.63864,     0.63964,     0.64064,     0.64164,     0.64264,     0.64364,     0.64464,     0.64565,     0.64665,     0.64765,\n",
       "           0.64865,     0.64965,     0.65065,     0.65165,     0.65265,     0.65365,     0.65465,     0.65566,     0.65666,     0.65766,     0.65866,     0.65966,     0.66066,     0.66166,     0.66266,     0.66366,     0.66466,     0.66567,     0.66667,     0.66767,     0.66867,     0.66967,     0.67067,     0.67167,\n",
       "           0.67267,     0.67367,     0.67467,     0.67568,     0.67668,     0.67768,     0.67868,     0.67968,     0.68068,     0.68168,     0.68268,     0.68368,     0.68468,     0.68569,     0.68669,     0.68769,     0.68869,     0.68969,     0.69069,     0.69169,     0.69269,     0.69369,     0.69469,      0.6957,\n",
       "            0.6967,      0.6977,      0.6987,      0.6997,      0.7007,      0.7017,      0.7027,      0.7037,      0.7047,     0.70571,     0.70671,     0.70771,     0.70871,     0.70971,     0.71071,     0.71171,     0.71271,     0.71371,     0.71471,     0.71572,     0.71672,     0.71772,     0.71872,     0.71972,\n",
       "           0.72072,     0.72172,     0.72272,     0.72372,     0.72472,     0.72573,     0.72673,     0.72773,     0.72873,     0.72973,     0.73073,     0.73173,     0.73273,     0.73373,     0.73473,     0.73574,     0.73674,     0.73774,     0.73874,     0.73974,     0.74074,     0.74174,     0.74274,     0.74374,\n",
       "           0.74474,     0.74575,     0.74675,     0.74775,     0.74875,     0.74975,     0.75075,     0.75175,     0.75275,     0.75375,     0.75475,     0.75576,     0.75676,     0.75776,     0.75876,     0.75976,     0.76076,     0.76176,     0.76276,     0.76376,     0.76476,     0.76577,     0.76677,     0.76777,\n",
       "           0.76877,     0.76977,     0.77077,     0.77177,     0.77277,     0.77377,     0.77477,     0.77578,     0.77678,     0.77778,     0.77878,     0.77978,     0.78078,     0.78178,     0.78278,     0.78378,     0.78478,     0.78579,     0.78679,     0.78779,     0.78879,     0.78979,     0.79079,     0.79179,\n",
       "           0.79279,     0.79379,     0.79479,      0.7958,      0.7968,      0.7978,      0.7988,      0.7998,      0.8008,      0.8018,      0.8028,      0.8038,      0.8048,     0.80581,     0.80681,     0.80781,     0.80881,     0.80981,     0.81081,     0.81181,     0.81281,     0.81381,     0.81481,     0.81582,\n",
       "           0.81682,     0.81782,     0.81882,     0.81982,     0.82082,     0.82182,     0.82282,     0.82382,     0.82482,     0.82583,     0.82683,     0.82783,     0.82883,     0.82983,     0.83083,     0.83183,     0.83283,     0.83383,     0.83483,     0.83584,     0.83684,     0.83784,     0.83884,     0.83984,\n",
       "           0.84084,     0.84184,     0.84284,     0.84384,     0.84484,     0.84585,     0.84685,     0.84785,     0.84885,     0.84985,     0.85085,     0.85185,     0.85285,     0.85385,     0.85485,     0.85586,     0.85686,     0.85786,     0.85886,     0.85986,     0.86086,     0.86186,     0.86286,     0.86386,\n",
       "           0.86486,     0.86587,     0.86687,     0.86787,     0.86887,     0.86987,     0.87087,     0.87187,     0.87287,     0.87387,     0.87487,     0.87588,     0.87688,     0.87788,     0.87888,     0.87988,     0.88088,     0.88188,     0.88288,     0.88388,     0.88488,     0.88589,     0.88689,     0.88789,\n",
       "           0.88889,     0.88989,     0.89089,     0.89189,     0.89289,     0.89389,     0.89489,      0.8959,      0.8969,      0.8979,      0.8989,      0.8999,      0.9009,      0.9019,      0.9029,      0.9039,      0.9049,     0.90591,     0.90691,     0.90791,     0.90891,     0.90991,     0.91091,     0.91191,\n",
       "           0.91291,     0.91391,     0.91491,     0.91592,     0.91692,     0.91792,     0.91892,     0.91992,     0.92092,     0.92192,     0.92292,     0.92392,     0.92492,     0.92593,     0.92693,     0.92793,     0.92893,     0.92993,     0.93093,     0.93193,     0.93293,     0.93393,     0.93493,     0.93594,\n",
       "           0.93694,     0.93794,     0.93894,     0.93994,     0.94094,     0.94194,     0.94294,     0.94394,     0.94494,     0.94595,     0.94695,     0.94795,     0.94895,     0.94995,     0.95095,     0.95195,     0.95295,     0.95395,     0.95495,     0.95596,     0.95696,     0.95796,     0.95896,     0.95996,\n",
       "           0.96096,     0.96196,     0.96296,     0.96396,     0.96496,     0.96597,     0.96697,     0.96797,     0.96897,     0.96997,     0.97097,     0.97197,     0.97297,     0.97397,     0.97497,     0.97598,     0.97698,     0.97798,     0.97898,     0.97998,     0.98098,     0.98198,     0.98298,     0.98398,\n",
       "           0.98498,     0.98599,     0.98699,     0.98799,     0.98899,     0.98999,     0.99099,     0.99199,     0.99299,     0.99399,     0.99499,       0.996,       0.997,       0.998,       0.999,           1]), array([[    0.75254,     0.75254,     0.74848, ...,           0,           0,           0],\n",
       "       [    0.81967,     0.81967,     0.81967, ...,           0,           0,           0],\n",
       "       [    0.64225,     0.64225,     0.64225, ...,           0,           0,           0],\n",
       "       ...,\n",
       "       [    0.44828,     0.44828,     0.39655, ...,           0,           0,           0],\n",
       "       [    0.67191,     0.67191,     0.66517, ...,           0,           0,           0],\n",
       "       [    0.92377,     0.92377,     0.92119, ...,           0,           0,           0]]), 'Confidence', 'Recall']]\n",
       "fitness: 0.2240289441091395\n",
       "keys: ['metrics/precision(B)', 'metrics/recall(B)', 'metrics/mAP50(B)', 'metrics/mAP50-95(B)']\n",
       "maps: array([    0.28951,     0.28865,     0.10683,    0.026422,     0.13459,     0.42043,    0.030425,      0.1463,     0.42644,     0.20773])\n",
       "names: {0: 'Hardhat', 1: 'Mask', 2: 'NO-Hardhat', 3: 'NO-Mask', 4: 'NO-Safety Vest', 5: 'Person', 6: 'Safety Cone', 7: 'Safety Vest', 8: 'Machinery', 9: 'Vehicle'}\n",
       "plot: True\n",
       "results_dict: {'metrics/precision(B)': 0.4705790364958826, 'metrics/recall(B)': 0.3653143916010235, 'metrics/mAP50(B)': 0.37070939228724736, 'metrics/mAP50-95(B)': 0.2077311165337942, 'fitness': 0.2240289441091395}\n",
       "save_dir: WindowsPath('runs/detect/train56')\n",
       "speed: {'preprocess': 0.9309386029655551, 'inference': 26.091447877295224, 'loss': 0.0, 'postprocess': 9.285343429188668}\n",
       "task: 'detect'"
      ]
     },
     "execution_count": 8,
     "metadata": {},
     "output_type": "execute_result"
    }
   ],
   "source": [
    "model = YOLO('yolov8n.pt')\n",
    "model.train(data='data.yaml', epochs = 10, val = True)"
   ]
  },
  {
   "cell_type": "code",
   "execution_count": null,
   "metadata": {},
   "outputs": [],
   "source": []
  },
  {
   "cell_type": "code",
   "execution_count": null,
   "metadata": {},
   "outputs": [],
   "source": []
  },
  {
   "cell_type": "code",
   "execution_count": null,
   "metadata": {},
   "outputs": [],
   "source": []
  },
  {
   "cell_type": "code",
   "execution_count": null,
   "metadata": {},
   "outputs": [],
   "source": []
  },
  {
   "cell_type": "code",
   "execution_count": null,
   "metadata": {},
   "outputs": [],
   "source": []
  },
  {
   "cell_type": "code",
   "execution_count": null,
   "metadata": {},
   "outputs": [],
   "source": []
  },
  {
   "cell_type": "code",
   "execution_count": null,
   "metadata": {},
   "outputs": [],
   "source": [
    "# load YOLOv8 pre-trained model\n",
    "model = YOLO(\"../models/yolov8n.pt\")\n",
    "\n",
    "# define augmentation pipeline\n",
    "augmentation = A.Compose([\n",
    "    A.HorizontalFlip(p=0.5),\n",
    "    A.Normalize(mean=(0, 0, 0), std=(1, 1, 1)),  # No change to pixel values\n",
    "    ToTensorV2()  # convert to PyTorch tensor \n",
    "], bbox_params=A.BboxParams(format='yolo', label_fields=['labels']))\n",
    "\n",
    "# define function to annotate and process images\n",
    "def annotate_images(df, split, image_dirs, label_dirs, confidence_threshold=0.5):\n",
    "    data = []\n",
    "    split_df = df[df[\"split\"] == split]\n",
    "    for _, row in split_df.iterrows():\n",
    "        image_file = row[\"filename\"]\n",
    "        # load the image\n",
    "        image_path = os.path.join(source_image_dir, image_file)\n",
    "        image = cv2.imread(image_path)\n",
    "\n",
    "        # perform inference using YOLOv8\n",
    "        results = model(image_path)\n",
    "\n",
    "        # extract bounding boxes and labels\n",
    "        bboxes = []\n",
    "        labels = []\n",
    "        for result in results[0].boxes:\n",
    "            box = result.xywhn[0].cpu().numpy()  # Normalized x_center, y_center, width, height\n",
    "            class_id = int(result.cls[0].cpu().numpy())\n",
    "            confidence = float(result.conf[0].cpu().numpy())\n",
    "\n",
    "            # filter by confidence threshold\n",
    "            if confidence >= confidence_threshold:\n",
    "                bboxes.append(box.tolist())\n",
    "                labels.append(class_id)\n",
    "\n",
    "                # add annotation details to the df list\n",
    "                data.append({\n",
    "                    \"filename\": image_file,\n",
    "                    \"split\": split,\n",
    "                    \"class_id\": class_id,\n",
    "                    \"confidence\": confidence,\n",
    "                    \"x_center\": box[0],\n",
    "                    \"y_center\": box[1],\n",
    "                    \"width\": box[2],\n",
    "                    \"height\": box[3],\n",
    "                })\n",
    "\n",
    "        # apply augmentation\n",
    "        if bboxes:  # Only augment if there are bounding boxes\n",
    "            augmented = augmentation(image=image, bboxes=bboxes, labels=labels)\n",
    "            image = augmented[\"image\"]\n",
    "            bboxes = augmented[\"bboxes\"]\n",
    "            labels = augmented[\"labels\"]\n",
    "\n",
    "        # convert to numpy format for saving \n",
    "        if isinstance(image, torch.Tensor):  # If tensor, convert to numpy for opencv\n",
    "            image = image.permute(1, 2, 0).cpu().numpy() # changes the order of the tensor dimensions from (C, H, W) (Channel-Height-Width, common in PyTorch) to (H, W, C) (Height-Width-Channel, required by OpenCV and most image libraries).\n",
    "            image = (image * 255).astype(np.uint8)  # Convert to uint8 for OpenCV\n",
    "\n",
    "        # save the image to the appropriate directory\n",
    "        output_image_path = os.path.join(image_dirs[split], image_file)\n",
    "        cv2.imwrite(output_image_path, image)\n",
    "\n",
    "        # set YOLO format labels\n",
    "        label_file = os.path.splitext(image_file)[0] + \".txt\"\n",
    "        label_path = os.path.join(label_dirs[split], label_file)\n",
    "\n",
    "        # create YOLO format label for the corresponding image\n",
    "        with open(label_path, \"w\") as f:\n",
    "            for bbox, class_id in zip(bboxes, labels):\n",
    "                # Write each valid detection to the file in YOLO format\n",
    "                f.write(f\"{class_id} {bbox[0]:.6f} {bbox[1]:.6f} {bbox[2]:.6f} {bbox[3]:.6f}\\n\")\n",
    "\n",
    "    return data\n",
    "# annotate and process images for all splits\n",
    "annotation_data = []\n",
    "for split in [\"train\", \"valid\", \"test\"]:\n",
    "    # append each list to annotation data\n",
    "    annotation_data.extend(annotate_images(df, split, image_dirs, label_dirs, confidence_threshold=0.5))\n",
    "\n",
    "\n",
    "print(\"Annotation completed and dataset organized into train, validation, and test directories.\")"
   ]
  },
  {
   "cell_type": "code",
   "execution_count": null,
   "metadata": {},
   "outputs": [],
   "source": [
    "annotation_df = pd.DataFrame(annotation_data)\n",
    "annotation_df.head()"
   ]
  },
  {
   "cell_type": "code",
   "execution_count": null,
   "metadata": {},
   "outputs": [],
   "source": []
  }
 ],
 "metadata": {
  "kernelspec": {
   "display_name": "Python 3 (ipykernel)",
   "language": "python",
   "name": "python3"
  },
  "language_info": {
   "codemirror_mode": {
    "name": "ipython",
    "version": 3
   },
   "file_extension": ".py",
   "mimetype": "text/x-python",
   "name": "python",
   "nbconvert_exporter": "python",
   "pygments_lexer": "ipython3",
   "version": "3.12.4"
  }
 },
 "nbformat": 4,
 "nbformat_minor": 4
}
