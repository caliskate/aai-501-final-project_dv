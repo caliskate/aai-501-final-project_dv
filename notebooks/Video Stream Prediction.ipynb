{
 "cells": [
  {
   "cell_type": "markdown",
   "id": "7603809c-1f4d-4dcd-bf23-1b7f20c86393",
   "metadata": {},
   "source": [
    "# Video Recognition exercise\n",
    "##### AAI-501 Group 4: Fatimat Atanda, Victor Hugo Germano, Darin Verduzco"
   ]
  },
  {
   "cell_type": "markdown",
   "id": "ae31d505-37b7-4209-b20f-689cdd6645ac",
   "metadata": {},
   "source": [
    "## Configuring the environment"
   ]
  },
  {
   "cell_type": "code",
   "execution_count": 1,
   "id": "a026eabd-d615-4414-9f9b-74d5df01e048",
   "metadata": {},
   "outputs": [],
   "source": [
    "import cv2\n",
    "from ultralytics import YOLO\n",
    "import math \n",
    "import os # file \n",
    "\n",
    "import msaai\n",
    "\n",
    "# MODEL loading and config\n",
    "# model\n",
    "model = YOLO(\"../models/best_custom.pt\")\n",
    "\n",
    "class_names = ['Hardhat','Mask','NO-Hardhat',\n",
    "              'NO-Mask','NO-Safety Vest','Person',\n",
    "              'Safety Cone','Safety Vest','Machinery','Vehicle']\n",
    "\n",
    "# Create output folder\n",
    "os.makedirs(\"../datasets/stream_result\", exist_ok=True)"
   ]
  },
  {
   "cell_type": "code",
   "execution_count": 2,
   "id": "976bec14-17c3-4b54-8228-a3c8516a5351",
   "metadata": {},
   "outputs": [],
   "source": [
    "# DRAWING METHODS\n",
    "\n",
    "def predict_video_stream(camera, output, verbose=False, showWindow=True, flipImage=False):\n",
    "    while True:\n",
    "        ret, frame = camera.read()\n",
    "        if not ret:\n",
    "            break\n",
    "        \n",
    "        if flipImage:\n",
    "            frame = cv2.flip(frame, 1)  \n",
    "            \n",
    "        results = model(frame, stream=True, verbose=False)\n",
    "        msaai.drawPredictions(results, frame, class_names)\n",
    "        \n",
    "        # Write the frame to the output file\n",
    "        output.write(frame)\n",
    "        # Display the captured frame - Performance changes when not showing\n",
    "        if showWindow:\n",
    "            cv2.imshow('Camera', frame)\n",
    "    \n",
    "        # Press 'q' to exit the loop\n",
    "        if cv2.waitKey(1) == ord('q'):\n",
    "            break"
   ]
  },
  {
   "cell_type": "markdown",
   "id": "a0ae519a-fb0b-42c5-8bc6-bcefb3381579",
   "metadata": {},
   "source": [
    "## Capture Livestream Video from webcam\n",
    "\n",
    "### Use 'q' to close the window"
   ]
  },
  {
   "cell_type": "code",
   "execution_count": 3,
   "id": "71e88b89-7c1f-4c4a-9df3-bf784ad85763",
   "metadata": {
    "scrolled": true
   },
   "outputs": [
    {
     "name": "stderr",
     "output_type": "stream",
     "text": [
      "2024-11-28 18:35:26.848 python3[53673:8311993] WARNING: AVCaptureDeviceTypeExternal is deprecated for Continuity Cameras. Please use AVCaptureDeviceTypeContinuityCamera and add NSCameraUseContinuityCameraDeviceType to your Info.plist.\n"
     ]
    },
    {
     "data": {
      "text/plain": [
       "-1"
      ]
     },
     "execution_count": 3,
     "metadata": {},
     "output_type": "execute_result"
    }
   ],
   "source": [
    "# Open the default camera\n",
    "cam = cv2.VideoCapture(0)\n",
    "\n",
    "# Get the default frame width and height\n",
    "frame_width = int(cam.get(cv2.CAP_PROP_FRAME_WIDTH))\n",
    "frame_height = int(cam.get(cv2.CAP_PROP_FRAME_HEIGHT))\n",
    "\n",
    "\n",
    "# Define the codec and create VideoWriter object\n",
    "fourcc = cv2.VideoWriter_fourcc(*'mp4v')\n",
    "out = cv2.VideoWriter('../dataset/stream_result/output_webcam.mp4', fourcc, 20.0, (frame_width, frame_height))\n",
    "\n",
    "\n",
    "# START PREDICTION AND PRESENTATION\n",
    "predict_video_stream(cam, out, verbose=False, showWindow=True, flipImage=True)\n",
    "\n",
    "\n",
    "# Release the capture and writer objects\n",
    "cam.release()\n",
    "out.release()\n",
    "cv2.destroyAllWindows()\n",
    "cv2.waitKey(1)"
   ]
  },
  {
   "cell_type": "markdown",
   "id": "8834af0d-36d9-4b18-8e5c-c80be1812a5c",
   "metadata": {},
   "source": [
    "# Analyzing Video File \n",
    "##### Video download link:\n",
    "##### https://uofsandiego-my.sharepoint.com/:v:/g/personal/dverduzco_sandiego_edu/Ebp8SRL0ZI9FvWvfssPhCCcBtZ78sAEvP4_ZkeBXyxDKsg?nav=eyJyZWZlcnJhbEluZm8iOnsicmVmZXJyYWxBcHAiOiJPbmVEcml2ZUZvckJ1c2luZXNzIiwicmVmZXJyYWxBcHBQbGF0Zm9ybSI6IldlYiIsInJlZmVycmFsTW9kZSI6InZpZXciLCJyZWZlcnJhbFZpZXciOiJNeUZpbGVzTGlua0NvcHkifX0&e=36liG5 "
   ]
  },
  {
   "cell_type": "code",
   "execution_count": 3,
   "id": "3af6f213-a5d6-4c1c-a90e-6e336b2efc98",
   "metadata": {},
   "outputs": [
    {
     "name": "stderr",
     "output_type": "stream",
     "text": [
      "2024-11-28 18:51:47.362 python3[54299:8328625] +[IMKClient subclass]: chose IMKClient_Modern\n",
      "2024-11-28 18:51:47.362 python3[54299:8328625] +[IMKInputSession subclass]: chose IMKInputSession_Modern\n"
     ]
    },
    {
     "data": {
      "text/plain": [
       "-1"
      ]
     },
     "execution_count": 3,
     "metadata": {},
     "output_type": "execute_result"
    }
   ],
   "source": [
    "# Open the default camera\n",
    "cam = cv2.VideoCapture(\"../datasets/custom_ppe_videos/scene1.mp4\")\n",
    "\n",
    "# Get the default frame width and height\n",
    "frame_width = int(cam.get(cv2.CAP_PROP_FRAME_WIDTH))\n",
    "frame_height = int(cam.get(cv2.CAP_PROP_FRAME_HEIGHT))\n",
    "\n",
    "# Define the codec and create VideoWriter object\n",
    "fourcc = cv2.VideoWriter_fourcc(*'mp4v')\n",
    "out = cv2.VideoWriter('../datasets/stream_result/output_custom_video.mp4', fourcc, 20.0, (frame_width, frame_height))\n",
    "\n",
    "\n",
    "# START PREDICTION AND PRESENTATION\n",
    "predict_video_stream(cam, out, verbose=False, showWindow=True)\n",
    "\n",
    "\n",
    "# Release the capture and writer objects\n",
    "cam.release()\n",
    "out.release()\n",
    "cv2.destroyAllWindows()\n",
    "cv2.waitKey(1)"
   ]
  }
 ],
 "metadata": {
  "kernelspec": {
   "display_name": "Python 3 (ipykernel)",
   "language": "python",
   "name": "python3"
  },
  "language_info": {
   "codemirror_mode": {
    "name": "ipython",
    "version": 3
   },
   "file_extension": ".py",
   "mimetype": "text/x-python",
   "name": "python",
   "nbconvert_exporter": "python",
   "pygments_lexer": "ipython3",
   "version": "3.12.4"
  }
 },
 "nbformat": 4,
 "nbformat_minor": 5
}
